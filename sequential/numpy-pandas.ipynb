{
 "cells": [
  {
   "cell_type": "markdown",
   "metadata": {},
   "source": [
    "# NumPy and Pandas"
   ]
  },
  {
   "cell_type": "markdown",
   "metadata": {},
   "source": [
    "While base Python has many useful tools for many purposes, open-source external libraries greatly expand Python's uses. Here, we will discuss the two of the most popular libraries: **NumPy** and **Pandas**. Both of these are great for data analysis."
   ]
  },
  {
   "cell_type": "markdown",
   "metadata": {},
   "source": [
    "## NumPy"
   ]
  },
  {
   "cell_type": "markdown",
   "metadata": {},
   "source": [
    "NumPy (Numerical Python) is a critical library for manipulating numbers, performing matrix operations, and mathematics in general. \n",
    "\n",
    "To use this library, we first have to **import** it with the keyword `import`."
   ]
  },
  {
   "cell_type": "code",
   "execution_count": 21,
   "metadata": {},
   "outputs": [],
   "source": [
    "import numpy"
   ]
  },
  {
   "cell_type": "markdown",
   "metadata": {},
   "source": [
    "We now have access to the various tools and functions that NumPy has to offer. The foundation of NumPy is the array, a data structure for grouping numbers designed for math. \n",
    "\n",
    "The simplest array is a single dimensional vector, essentially a Python list that we can do easy math with. To make an array, we tend to create a list and convert it to an array with `numpy.array()`."
   ]
  },
  {
   "cell_type": "code",
   "execution_count": 22,
   "metadata": {},
   "outputs": [
    {
     "name": "stdout",
     "output_type": "stream",
     "text": [
      "[1 2 3]\n"
     ]
    }
   ],
   "source": [
    "my_list = [1, 2, 3]\n",
    "\n",
    "my_array = numpy.array(my_list)\n",
    "print(my_array)"
   ]
  },
  {
   "cell_type": "markdown",
   "metadata": {},
   "source": [
    "You can always do simple math operations between a number (int or float) and an array."
   ]
  },
  {
   "cell_type": "code",
   "execution_count": 41,
   "metadata": {},
   "outputs": [
    {
     "data": {
      "text/plain": [
       "array([20, 40, 60])"
      ]
     },
     "execution_count": 41,
     "metadata": {},
     "output_type": "execute_result"
    }
   ],
   "source": [
    "20 * my_array"
   ]
  },
  {
   "cell_type": "markdown",
   "metadata": {},
   "source": [
    "If we have arrays of the same length, we can do the same operations on them between elements in the same positions."
   ]
  },
  {
   "cell_type": "code",
   "execution_count": 24,
   "metadata": {},
   "outputs": [
    {
     "data": {
      "text/plain": [
       "array([4, 4, 4])"
      ]
     },
     "execution_count": 24,
     "metadata": {},
     "output_type": "execute_result"
    }
   ],
   "source": [
    "your_array = numpy.array( [3, 2, 1] ) # you can create the list within the array() function\n",
    "\n",
    "my_array + your_array"
   ]
  },
  {
   "cell_type": "code",
   "execution_count": 25,
   "metadata": {},
   "outputs": [
    {
     "data": {
      "text/plain": [
       "array([3, 4, 3])"
      ]
     },
     "execution_count": 25,
     "metadata": {},
     "output_type": "execute_result"
    }
   ],
   "source": [
    "my_array * your_array"
   ]
  },
  {
   "cell_type": "markdown",
   "metadata": {},
   "source": [
    "#### Bonus\n",
    "It is common practice in Python to use `import numpy as np` when importing NumPy. This allows you to only need to type `np.` when using a tool within NumPy, which is a bit less clunky and faster."
   ]
  },
  {
   "cell_type": "code",
   "execution_count": 26,
   "metadata": {},
   "outputs": [
    {
     "data": {
      "text/plain": [
       "array([], dtype=float64)"
      ]
     },
     "execution_count": 26,
     "metadata": {},
     "output_type": "execute_result"
    }
   ],
   "source": [
    "import numpy as np\n",
    "\n",
    "np.array([]) # a blank numpy array"
   ]
  },
  {
   "cell_type": "markdown",
   "metadata": {},
   "source": [
    "You could technically import NumPy as any variable name, but please avoid this to avoid confusion."
   ]
  },
  {
   "cell_type": "code",
   "execution_count": 27,
   "metadata": {},
   "outputs": [],
   "source": [
    "### DONT RUN THIS\n",
    "# import numpy as pandas"
   ]
  },
  {
   "cell_type": "markdown",
   "metadata": {},
   "source": [
    "## 2D Array\n",
    "\n",
    "NumPy arrays really come into their own when they're used as matrices. Let's first make a 3 x 3 array. To do this, we will call `numpy.array()` with a list that contains other lists, also called a **nested list**. "
   ]
  },
  {
   "cell_type": "code",
   "execution_count": 30,
   "metadata": {},
   "outputs": [
    {
     "data": {
      "text/plain": [
       "array([[1, 2, 3],\n",
       "       [4, 5, 6],\n",
       "       [7, 8, 9]])"
      ]
     },
     "execution_count": 30,
     "metadata": {},
     "output_type": "execute_result"
    }
   ],
   "source": [
    "numpy.array( [[1, 2, 3],\n",
    "              [4, 5, 6],\n",
    "              [7, 8, 9]] )"
   ]
  },
  {
   "cell_type": "markdown",
   "metadata": {},
   "source": [
    "We can get the dimensions of the array by checking the `.shape` attribute."
   ]
  },
  {
   "cell_type": "code",
   "execution_count": 42,
   "metadata": {},
   "outputs": [
    {
     "data": {
      "text/plain": [
       "(3, 3)"
      ]
     },
     "execution_count": 42,
     "metadata": {},
     "output_type": "execute_result"
    }
   ],
   "source": [
    "a = numpy.array( [[1, 1, 1],\n",
    "                  [1, 1, 1],\n",
    "                  [1, 1, 1]] )\n",
    "\n",
    "a.shape"
   ]
  },
  {
   "cell_type": "markdown",
   "metadata": {},
   "source": [
    "Just like the single dimensional array, you can use the standard math operators between 2D arrays, though they have to be of the same shape."
   ]
  },
  {
   "cell_type": "code",
   "execution_count": 43,
   "metadata": {},
   "outputs": [
    {
     "data": {
      "text/plain": [
       "array([[11, 11, 11],\n",
       "       [11, 11, 11],\n",
       "       [11, 11, 11]])"
      ]
     },
     "execution_count": 43,
     "metadata": {},
     "output_type": "execute_result"
    }
   ],
   "source": [
    "b = numpy.array( [[10, 10, 10],\n",
    "                  [10, 10, 10],\n",
    "                  [10, 10, 10]] )\n",
    "a + b "
   ]
  },
  {
   "cell_type": "markdown",
   "metadata": {},
   "source": [
    "Like a 1D vector, you can also do math operations with a single number."
   ]
  },
  {
   "cell_type": "code",
   "execution_count": 44,
   "metadata": {},
   "outputs": [
    {
     "data": {
      "text/plain": [
       "array([[-10, -10, -10],\n",
       "       [-10, -10, -10],\n",
       "       [-10, -10, -10]])"
      ]
     },
     "execution_count": 44,
     "metadata": {},
     "output_type": "execute_result"
    }
   ],
   "source": [
    "b - 20"
   ]
  },
  {
   "cell_type": "markdown",
   "metadata": {},
   "source": [
    "NumPy comes with many tools to do various more complicated math operations as well. For instance, `numpy.matmul` can be used for matrix multiplication. "
   ]
  },
  {
   "cell_type": "code",
   "execution_count": 47,
   "metadata": {},
   "outputs": [
    {
     "data": {
      "text/plain": [
       "array([[30, 30, 30],\n",
       "       [30, 30, 30],\n",
       "       [30, 30, 30]])"
      ]
     },
     "execution_count": 47,
     "metadata": {},
     "output_type": "execute_result"
    }
   ],
   "source": [
    "numpy.matmul(a, b)"
   ]
  },
  {
   "cell_type": "markdown",
   "metadata": {},
   "source": [
    "Here is non-exhaustive list of other useful operations you can calculate with NumPy. Many of them use the submodule `linalg` that specializes in linear algebra operations.\n",
    "- Mean: `numpy.mean()`\n",
    "- Median: `numpy.median()`\n",
    "- Maximum: `numpy.max()`\n",
    "- Minimum: `numpy.min()`\n",
    "- Standard deviation: `numpy.std()`\n",
    "- Variance: `numpy.var()`\n",
    "- Dot product: `numpy.dot()`\n",
    "- Determinant: `numpy.linalg.det()`\n",
    "- Vector/matrix norm: `numpy.linalg.norm()`\n",
    "- Matrix rank: `numpy.linalg.det()`\n",
    "- Matrix inverse: `numpy.linalg.inv()`\n",
    "- Eigenvalues/eigenvectors: `numpy.linalg.eig()`\n",
    "- Solutions to linear equations: `numpy.linalg.solve()`\n",
    "\n",
    "For full usage of these functions and more, please visit the [NumPy reference manual](https://numpy.org/doc/stable/reference/routines.linalg.html)."
   ]
  },
  {
   "cell_type": "markdown",
   "metadata": {},
   "source": [
    "### Indexing and slicing in NumPy\n",
    "\n",
    "Selecting a value in a 1D array is just like indexing in a Python list. If the array has a length of 4, indexes begin at 0 and end at 3. "
   ]
  },
  {
   "cell_type": "code",
   "execution_count": 49,
   "metadata": {},
   "outputs": [
    {
     "data": {
      "text/plain": [
       "8.3"
      ]
     },
     "execution_count": 49,
     "metadata": {},
     "output_type": "execute_result"
    }
   ],
   "source": [
    "x = np.array([3.2, 4.1, 5.6, 8.3])\n",
    "x[3]"
   ]
  },
  {
   "cell_type": "markdown",
   "metadata": {},
   "source": [
    "2D arrays can be indexed in a similar manner with separate column index and row index -> array[row, col]. Both column and row numbers begin with 0.\n",
    "\n",
    "![array indexing](https://swcarpentry.github.io/python-novice-inflammation/fig/python-zero-index.svg)\n",
    "*Credit to [Software Carpentry](https://swcarpentry.github.io/python-novice-inflammation/02-numpy/index.html)*."
   ]
  },
  {
   "cell_type": "code",
   "execution_count": 54,
   "metadata": {},
   "outputs": [
    {
     "data": {
      "text/plain": [
       "8.0"
      ]
     },
     "execution_count": 54,
     "metadata": {},
     "output_type": "execute_result"
    }
   ],
   "source": [
    "y = numpy.array([[1., 2., 3., 4.], # adding the decimal makes them floats\n",
    "              [5., 6., 7., 8.]]) \n",
    "y[1,3] # returns the last value (8.0)"
   ]
  },
  {
   "cell_type": "markdown",
   "metadata": {},
   "source": [
    "Also like lists, we can use **negative indexing** to get the last values of a column and/or row."
   ]
  },
  {
   "cell_type": "code",
   "execution_count": 57,
   "metadata": {},
   "outputs": [
    {
     "data": {
      "text/plain": [
       "8.0"
      ]
     },
     "execution_count": 57,
     "metadata": {},
     "output_type": "execute_result"
    }
   ],
   "source": [
    "y[-1,-1] # last row, last column"
   ]
  },
  {
   "cell_type": "markdown",
   "metadata": {},
   "source": [
    "We can also using **slicing** to return portions of an array -> `array[i:j]`. Slicing is **inclusive** for the first index (`i`) and **exclusive** for the last index (`j`). `array[i:j]` returns values from `i` to `j-1`. "
   ]
  },
  {
   "cell_type": "code",
   "execution_count": 56,
   "metadata": {},
   "outputs": [
    {
     "data": {
      "text/plain": [
       "array([3.2, 4.1])"
      ]
     },
     "execution_count": 56,
     "metadata": {},
     "output_type": "execute_result"
    }
   ],
   "source": [
    "print(x[0:2]) # returns values from 0 to 1"
   ]
  },
  {
   "cell_type": "markdown",
   "metadata": {},
   "source": [
    "We can use this for 2D arrays, as well. We can slice rows, columns, or both at once."
   ]
  },
  {
   "cell_type": "code",
   "execution_count": 64,
   "metadata": {},
   "outputs": [
    {
     "name": "stdout",
     "output_type": "stream",
     "text": [
      "[3 7]\n",
      "[[ 5  6  7]\n",
      " [ 9 10 11]]\n"
     ]
    }
   ],
   "source": [
    "z = numpy.array([[1, 2, 3, 4],\n",
    "                 [5, 6, 7, 8],\n",
    "                 [9,10,11,12],\n",
    "                 [13,14,15,16]])\n",
    "\n",
    "print(z[0:2, 2]) # first 2 rows of the third column\n",
    "print(z[1:3, 0:3]) # rows 2 and 3 for columns 1-3"
   ]
  },
  {
   "cell_type": "markdown",
   "metadata": {},
   "source": [
    "#### Question: Slicing\n",
    "\n",
    "What happens when you slice but do not include the first index (`i`), the last index (`j`), or include neither?"
   ]
  },
  {
   "cell_type": "code",
   "execution_count": null,
   "metadata": {},
   "outputs": [],
   "source": [
    "### try it out:"
   ]
  },
  {
   "cell_type": "markdown",
   "metadata": {},
   "source": [
    "### Other uses of NumPy"
   ]
  },
  {
   "cell_type": "markdown",
   "metadata": {},
   "source": [
    "#### Random numbers\n",
    "\n",
    "If you are working with probability distributions, stochastic processes, or have any use for random number generators, `numpy.random` is a useful module of NumPy. "
   ]
  },
  {
   "cell_type": "code",
   "execution_count": null,
   "metadata": {},
   "outputs": [],
   "source": []
  },
  {
   "cell_type": "markdown",
   "metadata": {},
   "source": [
    "## Pandas"
   ]
  },
  {
   "cell_type": "code",
   "execution_count": 29,
   "metadata": {},
   "outputs": [],
   "source": [
    "import pandas as pd"
   ]
  },
  {
   "cell_type": "markdown",
   "metadata": {},
   "source": [
    "### Read data\n",
    "With `pandas` imported, we can read in .csv files with the `pandas` function `read_csv()`.\n",
    "\n",
    "In that function, we can specify the file we want to use with a URL or with the path to a local file as a string."
   ]
  },
  {
   "cell_type": "code",
   "execution_count": 2,
   "metadata": {},
   "outputs": [],
   "source": [
    "df = pd.read_csv(\"https://raw.githubusercontent.com/DeisData/python/master/gapminder.csv\") # read in data"
   ]
  },
  {
   "cell_type": "markdown",
   "metadata": {},
   "source": [
    "Our data is now saved as a data frame in Python as the variable `df`. With the data now in the environment, we can take a look at the first few rows with `df.head()`."
   ]
  },
  {
   "cell_type": "code",
   "execution_count": 3,
   "metadata": {},
   "outputs": [
    {
     "data": {
      "text/html": [
       "<div>\n",
       "<style scoped>\n",
       "    .dataframe tbody tr th:only-of-type {\n",
       "        vertical-align: middle;\n",
       "    }\n",
       "\n",
       "    .dataframe tbody tr th {\n",
       "        vertical-align: top;\n",
       "    }\n",
       "\n",
       "    .dataframe thead th {\n",
       "        text-align: right;\n",
       "    }\n",
       "</style>\n",
       "<table border=\"1\" class=\"dataframe\">\n",
       "  <thead>\n",
       "    <tr style=\"text-align: right;\">\n",
       "      <th></th>\n",
       "      <th>country</th>\n",
       "      <th>year</th>\n",
       "      <th>region</th>\n",
       "      <th>population</th>\n",
       "      <th>life_expectancy</th>\n",
       "      <th>age5_surviving</th>\n",
       "      <th>babies_per_woman</th>\n",
       "      <th>gdp_per_capita</th>\n",
       "      <th>gdp_per_day</th>\n",
       "    </tr>\n",
       "  </thead>\n",
       "  <tbody>\n",
       "    <tr>\n",
       "      <th>0</th>\n",
       "      <td>Afghanistan</td>\n",
       "      <td>1800</td>\n",
       "      <td>Asia</td>\n",
       "      <td>3280000.0</td>\n",
       "      <td>28.21</td>\n",
       "      <td>53.142</td>\n",
       "      <td>7.0</td>\n",
       "      <td>603.0</td>\n",
       "      <td>1.650924</td>\n",
       "    </tr>\n",
       "    <tr>\n",
       "      <th>1</th>\n",
       "      <td>Afghanistan</td>\n",
       "      <td>1810</td>\n",
       "      <td>Asia</td>\n",
       "      <td>3280000.0</td>\n",
       "      <td>28.11</td>\n",
       "      <td>53.002</td>\n",
       "      <td>7.0</td>\n",
       "      <td>604.0</td>\n",
       "      <td>1.653662</td>\n",
       "    </tr>\n",
       "    <tr>\n",
       "      <th>2</th>\n",
       "      <td>Afghanistan</td>\n",
       "      <td>1820</td>\n",
       "      <td>Asia</td>\n",
       "      <td>3323519.0</td>\n",
       "      <td>28.01</td>\n",
       "      <td>52.862</td>\n",
       "      <td>7.0</td>\n",
       "      <td>604.0</td>\n",
       "      <td>1.653662</td>\n",
       "    </tr>\n",
       "    <tr>\n",
       "      <th>3</th>\n",
       "      <td>Afghanistan</td>\n",
       "      <td>1830</td>\n",
       "      <td>Asia</td>\n",
       "      <td>3448982.0</td>\n",
       "      <td>27.90</td>\n",
       "      <td>52.719</td>\n",
       "      <td>7.0</td>\n",
       "      <td>625.0</td>\n",
       "      <td>1.711157</td>\n",
       "    </tr>\n",
       "    <tr>\n",
       "      <th>4</th>\n",
       "      <td>Afghanistan</td>\n",
       "      <td>1840</td>\n",
       "      <td>Asia</td>\n",
       "      <td>3625022.0</td>\n",
       "      <td>27.80</td>\n",
       "      <td>52.576</td>\n",
       "      <td>7.0</td>\n",
       "      <td>647.0</td>\n",
       "      <td>1.771389</td>\n",
       "    </tr>\n",
       "  </tbody>\n",
       "</table>\n",
       "</div>"
      ],
      "text/plain": [
       "       country  year region  population  life_expectancy  age5_surviving  \\\n",
       "0  Afghanistan  1800   Asia   3280000.0            28.21          53.142   \n",
       "1  Afghanistan  1810   Asia   3280000.0            28.11          53.002   \n",
       "2  Afghanistan  1820   Asia   3323519.0            28.01          52.862   \n",
       "3  Afghanistan  1830   Asia   3448982.0            27.90          52.719   \n",
       "4  Afghanistan  1840   Asia   3625022.0            27.80          52.576   \n",
       "\n",
       "   babies_per_woman  gdp_per_capita  gdp_per_day  \n",
       "0               7.0           603.0     1.650924  \n",
       "1               7.0           604.0     1.653662  \n",
       "2               7.0           604.0     1.653662  \n",
       "3               7.0           625.0     1.711157  \n",
       "4               7.0           647.0     1.771389  "
      ]
     },
     "execution_count": 3,
     "metadata": {},
     "output_type": "execute_result"
    }
   ],
   "source": [
    "df.head()"
   ]
  },
  {
   "cell_type": "markdown",
   "metadata": {},
   "source": [
    "We can see that this data frame has several different columns, with information about countries and demography"
   ]
  },
  {
   "cell_type": "markdown",
   "metadata": {},
   "source": [
    "## Summarize data frame\n",
    "\n",
    "It is important to understand the data we are working with before we begin analysis. First, let's look at the dimenions of the data frame using `df.shape`. It gives the number of rows by the number of columns."
   ]
  },
  {
   "cell_type": "code",
   "execution_count": 4,
   "metadata": {},
   "outputs": [
    {
     "data": {
      "text/plain": [
       "(14740, 9)"
      ]
     },
     "execution_count": 4,
     "metadata": {},
     "output_type": "execute_result"
    }
   ],
   "source": [
    "df.shape"
   ]
  },
  {
   "cell_type": "markdown",
   "metadata": {},
   "source": [
    "This shows that our data frame has 14740 rows by 9 columns.\n",
    "\n",
    "We can also use `df.columns` to display the column names."
   ]
  },
  {
   "cell_type": "code",
   "execution_count": 5,
   "metadata": {},
   "outputs": [
    {
     "data": {
      "text/plain": [
       "Index(['country', 'year', 'region', 'population', 'life_expectancy',\n",
       "       'age5_surviving', 'babies_per_woman', 'gdp_per_capita', 'gdp_per_day'],\n",
       "      dtype='object')"
      ]
     },
     "execution_count": 5,
     "metadata": {},
     "output_type": "execute_result"
    }
   ],
   "source": [
    "df.columns"
   ]
  },
  {
   "cell_type": "markdown",
   "metadata": {},
   "source": [
    "### Categorical variables\n",
    "Next, let's summarize the categorical, non-numerical variables. For instance, we can identify how many unique regions we have in the data set.\n",
    "\n",
    "First, to select a column, we use the notation `df['COLUMN_NAME']`."
   ]
  },
  {
   "cell_type": "code",
   "execution_count": 6,
   "metadata": {},
   "outputs": [
    {
     "data": {
      "text/plain": [
       "0          Asia\n",
       "1          Asia\n",
       "2          Asia\n",
       "3          Asia\n",
       "4          Asia\n",
       "          ...  \n",
       "14735    Africa\n",
       "14736    Africa\n",
       "14737    Africa\n",
       "14738    Africa\n",
       "14739    Africa\n",
       "Name: region, Length: 14740, dtype: object"
      ]
     },
     "execution_count": 6,
     "metadata": {},
     "output_type": "execute_result"
    }
   ],
   "source": [
    "df['region']"
   ]
  },
  {
   "cell_type": "markdown",
   "metadata": {},
   "source": [
    "To identify unique entries in this column, we can use the `pd.unique()` function. "
   ]
  },
  {
   "cell_type": "code",
   "execution_count": 7,
   "metadata": {},
   "outputs": [
    {
     "data": {
      "text/plain": [
       "array(['Asia', 'Europe', 'Africa', 'America'], dtype=object)"
      ]
     },
     "execution_count": 7,
     "metadata": {},
     "output_type": "execute_result"
    }
   ],
   "source": [
    "pd.unique( df['region'] )"
   ]
  },
  {
   "cell_type": "markdown",
   "metadata": {},
   "source": [
    "The `countries` column has many unique values, so we'll just use the `len()` function to see how many unique countries we have."
   ]
  },
  {
   "cell_type": "code",
   "execution_count": 8,
   "metadata": {},
   "outputs": [
    {
     "data": {
      "text/plain": [
       "182"
      ]
     },
     "execution_count": 8,
     "metadata": {},
     "output_type": "execute_result"
    }
   ],
   "source": [
    "len( pd.unique( df['country'] ) ) # this is called nesting functions -> calling functions within other functions"
   ]
  },
  {
   "cell_type": "markdown",
   "metadata": {},
   "source": [
    "### Numerical variables"
   ]
  },
  {
   "cell_type": "markdown",
   "metadata": {},
   "source": [
    "Numerical columns can be summarized in several ways. Let's find the mean first.\n",
    "\n",
    "To make things simpler, we'll just do calculations on the `population`, `life_expectancy`, and `babies_per_woman` columns. We can put those names in an arrangement called a`list` and then specify that list for the columns."
   ]
  },
  {
   "cell_type": "code",
   "execution_count": 9,
   "metadata": {},
   "outputs": [
    {
     "data": {
      "text/html": [
       "<div>\n",
       "<style scoped>\n",
       "    .dataframe tbody tr th:only-of-type {\n",
       "        vertical-align: middle;\n",
       "    }\n",
       "\n",
       "    .dataframe tbody tr th {\n",
       "        vertical-align: top;\n",
       "    }\n",
       "\n",
       "    .dataframe thead th {\n",
       "        text-align: right;\n",
       "    }\n",
       "</style>\n",
       "<table border=\"1\" class=\"dataframe\">\n",
       "  <thead>\n",
       "    <tr style=\"text-align: right;\">\n",
       "      <th></th>\n",
       "      <th>population</th>\n",
       "      <th>life_expectancy</th>\n",
       "      <th>babies_per_woman</th>\n",
       "    </tr>\n",
       "  </thead>\n",
       "  <tbody>\n",
       "    <tr>\n",
       "      <th>0</th>\n",
       "      <td>3280000.0</td>\n",
       "      <td>28.21</td>\n",
       "      <td>7.00</td>\n",
       "    </tr>\n",
       "    <tr>\n",
       "      <th>1</th>\n",
       "      <td>3280000.0</td>\n",
       "      <td>28.11</td>\n",
       "      <td>7.00</td>\n",
       "    </tr>\n",
       "    <tr>\n",
       "      <th>2</th>\n",
       "      <td>3323519.0</td>\n",
       "      <td>28.01</td>\n",
       "      <td>7.00</td>\n",
       "    </tr>\n",
       "    <tr>\n",
       "      <th>3</th>\n",
       "      <td>3448982.0</td>\n",
       "      <td>27.90</td>\n",
       "      <td>7.00</td>\n",
       "    </tr>\n",
       "    <tr>\n",
       "      <th>4</th>\n",
       "      <td>3625022.0</td>\n",
       "      <td>27.80</td>\n",
       "      <td>7.00</td>\n",
       "    </tr>\n",
       "    <tr>\n",
       "      <th>...</th>\n",
       "      <td>...</td>\n",
       "      <td>...</td>\n",
       "      <td>...</td>\n",
       "    </tr>\n",
       "    <tr>\n",
       "      <th>14735</th>\n",
       "      <td>14255592.0</td>\n",
       "      <td>51.60</td>\n",
       "      <td>3.64</td>\n",
       "    </tr>\n",
       "    <tr>\n",
       "      <th>14736</th>\n",
       "      <td>14565482.0</td>\n",
       "      <td>54.20</td>\n",
       "      <td>3.56</td>\n",
       "    </tr>\n",
       "    <tr>\n",
       "      <th>14737</th>\n",
       "      <td>14898092.0</td>\n",
       "      <td>55.70</td>\n",
       "      <td>3.49</td>\n",
       "    </tr>\n",
       "    <tr>\n",
       "      <th>14738</th>\n",
       "      <td>15245855.0</td>\n",
       "      <td>57.00</td>\n",
       "      <td>3.41</td>\n",
       "    </tr>\n",
       "    <tr>\n",
       "      <th>14739</th>\n",
       "      <td>15602751.0</td>\n",
       "      <td>59.30</td>\n",
       "      <td>3.35</td>\n",
       "    </tr>\n",
       "  </tbody>\n",
       "</table>\n",
       "<p>14740 rows × 3 columns</p>\n",
       "</div>"
      ],
      "text/plain": [
       "       population  life_expectancy  babies_per_woman\n",
       "0       3280000.0            28.21              7.00\n",
       "1       3280000.0            28.11              7.00\n",
       "2       3323519.0            28.01              7.00\n",
       "3       3448982.0            27.90              7.00\n",
       "4       3625022.0            27.80              7.00\n",
       "...           ...              ...               ...\n",
       "14735  14255592.0            51.60              3.64\n",
       "14736  14565482.0            54.20              3.56\n",
       "14737  14898092.0            55.70              3.49\n",
       "14738  15245855.0            57.00              3.41\n",
       "14739  15602751.0            59.30              3.35\n",
       "\n",
       "[14740 rows x 3 columns]"
      ]
     },
     "execution_count": 9,
     "metadata": {},
     "output_type": "execute_result"
    }
   ],
   "source": [
    "num_cols = [ 'population', 'life_expectancy', 'babies_per_woman' ] # numerical columns\n",
    "\n",
    "df[num_cols]"
   ]
  },
  {
   "cell_type": "markdown",
   "metadata": {},
   "source": [
    "With this set of columns, we can run `.mean()` to find the mean of each column."
   ]
  },
  {
   "cell_type": "code",
   "execution_count": 10,
   "metadata": {},
   "outputs": [
    {
     "data": {
      "text/plain": [
       "population          2.252933e+07\n",
       "life_expectancy     5.683453e+01\n",
       "babies_per_woman    4.643472e+00\n",
       "dtype: float64"
      ]
     },
     "execution_count": 10,
     "metadata": {},
     "output_type": "execute_result"
    }
   ],
   "source": [
    "df[num_cols].mean() # returns the mean of each column"
   ]
  },
  {
   "cell_type": "markdown",
   "metadata": {},
   "source": [
    "If we want a larger variety of summary statistics, we can use the `.describe()` method."
   ]
  },
  {
   "cell_type": "code",
   "execution_count": 11,
   "metadata": {},
   "outputs": [
    {
     "data": {
      "text/html": [
       "<div>\n",
       "<style scoped>\n",
       "    .dataframe tbody tr th:only-of-type {\n",
       "        vertical-align: middle;\n",
       "    }\n",
       "\n",
       "    .dataframe tbody tr th {\n",
       "        vertical-align: top;\n",
       "    }\n",
       "\n",
       "    .dataframe thead th {\n",
       "        text-align: right;\n",
       "    }\n",
       "</style>\n",
       "<table border=\"1\" class=\"dataframe\">\n",
       "  <thead>\n",
       "    <tr style=\"text-align: right;\">\n",
       "      <th></th>\n",
       "      <th>population</th>\n",
       "      <th>life_expectancy</th>\n",
       "      <th>babies_per_woman</th>\n",
       "    </tr>\n",
       "  </thead>\n",
       "  <tbody>\n",
       "    <tr>\n",
       "      <th>count</th>\n",
       "      <td>1.474000e+04</td>\n",
       "      <td>14740.000000</td>\n",
       "      <td>14740.000000</td>\n",
       "    </tr>\n",
       "    <tr>\n",
       "      <th>mean</th>\n",
       "      <td>2.252933e+07</td>\n",
       "      <td>56.834526</td>\n",
       "      <td>4.643472</td>\n",
       "    </tr>\n",
       "    <tr>\n",
       "      <th>std</th>\n",
       "      <td>9.307143e+07</td>\n",
       "      <td>15.868464</td>\n",
       "      <td>1.994833</td>\n",
       "    </tr>\n",
       "    <tr>\n",
       "      <th>min</th>\n",
       "      <td>2.128000e+03</td>\n",
       "      <td>4.000000</td>\n",
       "      <td>1.130000</td>\n",
       "    </tr>\n",
       "    <tr>\n",
       "      <th>25%</th>\n",
       "      <td>8.990308e+05</td>\n",
       "      <td>44.230000</td>\n",
       "      <td>2.630000</td>\n",
       "    </tr>\n",
       "    <tr>\n",
       "      <th>50%</th>\n",
       "      <td>4.063978e+06</td>\n",
       "      <td>60.080000</td>\n",
       "      <td>5.060000</td>\n",
       "    </tr>\n",
       "    <tr>\n",
       "      <th>75%</th>\n",
       "      <td>1.218722e+07</td>\n",
       "      <td>70.380000</td>\n",
       "      <td>6.440000</td>\n",
       "    </tr>\n",
       "    <tr>\n",
       "      <th>max</th>\n",
       "      <td>1.376049e+09</td>\n",
       "      <td>83.300000</td>\n",
       "      <td>9.220000</td>\n",
       "    </tr>\n",
       "  </tbody>\n",
       "</table>\n",
       "</div>"
      ],
      "text/plain": [
       "         population  life_expectancy  babies_per_woman\n",
       "count  1.474000e+04     14740.000000      14740.000000\n",
       "mean   2.252933e+07        56.834526          4.643472\n",
       "std    9.307143e+07        15.868464          1.994833\n",
       "min    2.128000e+03         4.000000          1.130000\n",
       "25%    8.990308e+05        44.230000          2.630000\n",
       "50%    4.063978e+06        60.080000          5.060000\n",
       "75%    1.218722e+07        70.380000          6.440000\n",
       "max    1.376049e+09        83.300000          9.220000"
      ]
     },
     "execution_count": 11,
     "metadata": {},
     "output_type": "execute_result"
    }
   ],
   "source": [
    "df[num_cols].describe()"
   ]
  },
  {
   "cell_type": "markdown",
   "metadata": {},
   "source": [
    "We can also break down subgroupings of our data with the method `.groupby()`."
   ]
  },
  {
   "cell_type": "code",
   "execution_count": 12,
   "metadata": {},
   "outputs": [
    {
     "data": {
      "text/html": [
       "<div>\n",
       "<style scoped>\n",
       "    .dataframe tbody tr th:only-of-type {\n",
       "        vertical-align: middle;\n",
       "    }\n",
       "\n",
       "    .dataframe tbody tr th {\n",
       "        vertical-align: top;\n",
       "    }\n",
       "\n",
       "    .dataframe thead th {\n",
       "        text-align: right;\n",
       "    }\n",
       "</style>\n",
       "<table border=\"1\" class=\"dataframe\">\n",
       "  <thead>\n",
       "    <tr style=\"text-align: right;\">\n",
       "      <th></th>\n",
       "      <th>count</th>\n",
       "      <th>mean</th>\n",
       "      <th>std</th>\n",
       "      <th>min</th>\n",
       "      <th>25%</th>\n",
       "      <th>50%</th>\n",
       "      <th>75%</th>\n",
       "      <th>max</th>\n",
       "    </tr>\n",
       "    <tr>\n",
       "      <th>region</th>\n",
       "      <th></th>\n",
       "      <th></th>\n",
       "      <th></th>\n",
       "      <th></th>\n",
       "      <th></th>\n",
       "      <th></th>\n",
       "      <th></th>\n",
       "      <th></th>\n",
       "    </tr>\n",
       "  </thead>\n",
       "  <tbody>\n",
       "    <tr>\n",
       "      <th>Africa</th>\n",
       "      <td>4293.0</td>\n",
       "      <td>9.181313e+06</td>\n",
       "      <td>1.655128e+07</td>\n",
       "      <td>12522.0</td>\n",
       "      <td>996331.00</td>\n",
       "      <td>3457113.0</td>\n",
       "      <td>9901052.00</td>\n",
       "      <td>1.822020e+08</td>\n",
       "    </tr>\n",
       "    <tr>\n",
       "      <th>America</th>\n",
       "      <td>2673.0</td>\n",
       "      <td>1.667833e+07</td>\n",
       "      <td>4.411806e+07</td>\n",
       "      <td>24000.0</td>\n",
       "      <td>331799.00</td>\n",
       "      <td>2843246.0</td>\n",
       "      <td>10061519.00</td>\n",
       "      <td>3.217736e+08</td>\n",
       "    </tr>\n",
       "    <tr>\n",
       "      <th>Asia</th>\n",
       "      <td>4212.0</td>\n",
       "      <td>4.604245e+07</td>\n",
       "      <td>1.658010e+08</td>\n",
       "      <td>2128.0</td>\n",
       "      <td>512028.25</td>\n",
       "      <td>4011309.5</td>\n",
       "      <td>19517390.25</td>\n",
       "      <td>1.376049e+09</td>\n",
       "    </tr>\n",
       "    <tr>\n",
       "      <th>Europe</th>\n",
       "      <td>3562.0</td>\n",
       "      <td>1.520351e+07</td>\n",
       "      <td>2.463153e+07</td>\n",
       "      <td>61428.0</td>\n",
       "      <td>2308682.00</td>\n",
       "      <td>5186801.5</td>\n",
       "      <td>10638884.75</td>\n",
       "      <td>1.484358e+08</td>\n",
       "    </tr>\n",
       "  </tbody>\n",
       "</table>\n",
       "</div>"
      ],
      "text/plain": [
       "          count          mean           std      min         25%        50%  \\\n",
       "region                                                                        \n",
       "Africa   4293.0  9.181313e+06  1.655128e+07  12522.0   996331.00  3457113.0   \n",
       "America  2673.0  1.667833e+07  4.411806e+07  24000.0   331799.00  2843246.0   \n",
       "Asia     4212.0  4.604245e+07  1.658010e+08   2128.0   512028.25  4011309.5   \n",
       "Europe   3562.0  1.520351e+07  2.463153e+07  61428.0  2308682.00  5186801.5   \n",
       "\n",
       "                 75%           max  \n",
       "region                              \n",
       "Africa    9901052.00  1.822020e+08  \n",
       "America  10061519.00  3.217736e+08  \n",
       "Asia     19517390.25  1.376049e+09  \n",
       "Europe   10638884.75  1.484358e+08  "
      ]
     },
     "execution_count": 12,
     "metadata": {},
     "output_type": "execute_result"
    }
   ],
   "source": [
    "grouped_data = df.groupby('region')\n",
    "grouped_data['population'].describe()"
   ]
  },
  {
   "cell_type": "markdown",
   "metadata": {},
   "source": [
    "### Accessing rows and specific entries\n",
    "\n",
    "You can also to access a specific row using `df.loc[ROW, :]`. The colon specifies to select all columns for that row number."
   ]
  },
  {
   "cell_type": "code",
   "execution_count": 13,
   "metadata": {},
   "outputs": [
    {
     "data": {
      "text/plain": [
       "country             Afghanistan\n",
       "year                       1800\n",
       "region                     Asia\n",
       "population            3280000.0\n",
       "life_expectancy           28.21\n",
       "age5_surviving           53.142\n",
       "babies_per_woman            7.0\n",
       "gdp_per_capita            603.0\n",
       "gdp_per_day            1.650924\n",
       "Name: 0, dtype: object"
      ]
     },
     "execution_count": 13,
     "metadata": {},
     "output_type": "execute_result"
    }
   ],
   "source": [
    "df.loc[0, :] # the first row"
   ]
  },
  {
   "cell_type": "markdown",
   "metadata": {},
   "source": [
    "We can use `.loc` to find the value of specific entries, as well."
   ]
  },
  {
   "cell_type": "code",
   "execution_count": 14,
   "metadata": {},
   "outputs": [
    {
     "data": {
      "text/plain": [
       "'Afghanistan'"
      ]
     },
     "execution_count": 14,
     "metadata": {},
     "output_type": "execute_result"
    }
   ],
   "source": [
    "df.loc[0, 'country']"
   ]
  },
  {
   "cell_type": "markdown",
   "metadata": {},
   "source": [
    "#### Question\n",
    "Print out the summary statistics for columns `age5_surviving`, `gdp_per_day`, and `gdp_per_capita`."
   ]
  },
  {
   "cell_type": "code",
   "execution_count": 15,
   "metadata": {},
   "outputs": [],
   "source": [
    "### your code below:\n"
   ]
  },
  {
   "cell_type": "markdown",
   "metadata": {},
   "source": [
    "## Manipulate data "
   ]
  },
  {
   "cell_type": "markdown",
   "metadata": {},
   "source": [
    "### Subset by row"
   ]
  },
  {
   "cell_type": "markdown",
   "metadata": {},
   "source": [
    "Sometimes, we want to create a subset of the main data frame based on certain conditions. We do this by using `df.loc` and specifying a condition for the rows. \n",
    "\n",
    "Below, we take all of the rows where `babies_per_woman` is greater or equal to 4 with `df['babies_per_woman'] >= 4` and assign this to a new data frame.\n",
    "\n",
    "To check that this was done correctly, we can look at the minimum of the `babies_per_woman` column in the new data frame with  `.min()`."
   ]
  },
  {
   "cell_type": "code",
   "execution_count": 16,
   "metadata": {},
   "outputs": [
    {
     "data": {
      "text/plain": [
       "4.0"
      ]
     },
     "execution_count": 16,
     "metadata": {},
     "output_type": "execute_result"
    }
   ],
   "source": [
    "# take all rows where babies_per_woman is greater or equal to 4 and make a new data frame\n",
    "df_4 = df.loc[df['babies_per_woman'] >= 4, :]\n",
    "df_4['babies_per_woman'].min()"
   ]
  },
  {
   "cell_type": "markdown",
   "metadata": {},
   "source": [
    "We can also subset with categorical variables. Here, we take all rows where the country is Hungary. "
   ]
  },
  {
   "cell_type": "code",
   "execution_count": 17,
   "metadata": {},
   "outputs": [
    {
     "data": {
      "text/plain": [
       "array(['Hungary'], dtype=object)"
      ]
     },
     "execution_count": 17,
     "metadata": {},
     "output_type": "execute_result"
    }
   ],
   "source": [
    "df_hungary = df.loc[df['country'] == 'Hungary', :]\n",
    "pd.unique(df_hungary['country'])"
   ]
  },
  {
   "cell_type": "markdown",
   "metadata": {},
   "source": [
    "### Math"
   ]
  },
  {
   "cell_type": "markdown",
   "metadata": {},
   "source": [
    "If we multiply a data frame by a single number, each value in the column will be muliplied by that value."
   ]
  },
  {
   "cell_type": "code",
   "execution_count": 18,
   "metadata": {},
   "outputs": [
    {
     "data": {
      "text/plain": [
       "0        7000.0\n",
       "1        7000.0\n",
       "2        7000.0\n",
       "3        7000.0\n",
       "4        7000.0\n",
       "          ...  \n",
       "14735    3640.0\n",
       "14736    3560.0\n",
       "14737    3490.0\n",
       "14738    3410.0\n",
       "14739    3350.0\n",
       "Name: babies_per_woman, Length: 14740, dtype: float64"
      ]
     },
     "execution_count": 18,
     "metadata": {},
     "output_type": "execute_result"
    }
   ],
   "source": [
    "df['babies_per_woman'] * 1000"
   ]
  },
  {
   "cell_type": "markdown",
   "metadata": {},
   "source": [
    "We can also do math between columns, since they have the same length. Elements of the same row are added, substacted, multiplied, or divided. \n",
    "\n",
    "Here, we subtract the `life_expectancy` column from the `age5_surviving` column and assign it to a new column called `life_difference`. "
   ]
  },
  {
   "cell_type": "code",
   "execution_count": 19,
   "metadata": {},
   "outputs": [
    {
     "name": "stdout",
     "output_type": "stream",
     "text": [
      "0        24.932\n",
      "1        24.892\n",
      "2        24.852\n",
      "3        24.819\n",
      "4        24.776\n",
      "          ...  \n",
      "14735    39.200\n",
      "14736    37.130\n",
      "14737    35.970\n",
      "14738    34.900\n",
      "14739    32.740\n",
      "Name: life_difference, Length: 14740, dtype: float64\n"
     ]
    }
   ],
   "source": [
    "df['life_difference'] = df['age5_surviving'] - df['life_expectancy'] \n",
    "print(df['life_difference'])"
   ]
  },
  {
   "cell_type": "markdown",
   "metadata": {},
   "source": [
    "This new column is now reflected in the data frame. "
   ]
  },
  {
   "cell_type": "code",
   "execution_count": 20,
   "metadata": {},
   "outputs": [
    {
     "name": "stdout",
     "output_type": "stream",
     "text": [
      "Index(['country', 'year', 'region', 'population', 'life_expectancy',\n",
      "       'age5_surviving', 'babies_per_woman', 'gdp_per_capita', 'gdp_per_day',\n",
      "       'life_difference'],\n",
      "      dtype='object')\n"
     ]
    }
   ],
   "source": [
    "print(df.columns)"
   ]
  },
  {
   "cell_type": "markdown",
   "metadata": {},
   "source": [
    "#### Question \n",
    "\n",
    "Create a subset of data from Lithuania. \n",
    "\n",
    "Within that subset, calculate the mean GDP per 1000 people across entries.\n",
    "\n",
    "*Hint: Multiply per capita GDP by 1000.*"
   ]
  },
  {
   "cell_type": "code",
   "execution_count": null,
   "metadata": {},
   "outputs": [],
   "source": [
    "### Your code here:\n"
   ]
  },
  {
   "cell_type": "markdown",
   "metadata": {},
   "source": [
    "## Resources\n",
    "\n",
    "This lesson is adapted from \n",
    "[Software Carpentry](http://swcarpentry.github.io/python-novice-gapminder/design/)."
   ]
  }
 ],
 "metadata": {
  "kernelspec": {
   "display_name": "Python 3.9.12 ('workshop')",
   "language": "python",
   "name": "python3"
  },
  "language_info": {
   "codemirror_mode": {
    "name": "ipython",
    "version": 3
   },
   "file_extension": ".py",
   "mimetype": "text/x-python",
   "name": "python",
   "nbconvert_exporter": "python",
   "pygments_lexer": "ipython3",
   "version": "3.9.12"
  },
  "orig_nbformat": 4,
  "vscode": {
   "interpreter": {
    "hash": "5e5670abb08844f1af3bbc7bb9ef8e3b4ef400ad7b254432ac9e559b82ca9501"
   }
  }
 },
 "nbformat": 4,
 "nbformat_minor": 2
}
