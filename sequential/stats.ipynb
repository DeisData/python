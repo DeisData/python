{
 "cells": [
  {
   "cell_type": "markdown",
   "metadata": {},
   "source": [
    "# Statistics with Python\n",
    "\n",
    "Objectives \n",
    "* Import data into a `pandas` data frame\n",
    "* Import some standard and useful libraries for python\n",
    "* Introduce some model fitting\n",
    "\n",
    "\n",
    "**Reference and Resource**\n",
    "\n",
    "This lesson and data is adapted from \n",
    "<a href='https://www.linkedin.com/learning/python-statistics-essential-training/'>LinkedIn Learning: Python Statistics Essential Training</a>.  See these lessons for more details including working with categorical data.\n"
   ]
  },
  {
   "cell_type": "markdown",
   "metadata": {},
   "source": [
    "## Importing Libraries and Data"
   ]
  },
  {
   "cell_type": "markdown",
   "metadata": {},
   "source": [
    "We will use several packages for our statistical analyses. In particular, we will use `scipy.stats` and `statsmodels` for running hypothesis testing and model fitting."
   ]
  },
  {
   "cell_type": "code",
   "execution_count": 1,
   "metadata": {},
   "outputs": [],
   "source": [
    "# Load standard libraries for data analysis\n",
    "import numpy as np\n",
    "import pandas as pd\n",
    "\n",
    "import matplotlib\n",
    "import matplotlib.pyplot as plt\n",
    "\n",
    "# packages for statistics\n",
    "import scipy.stats\n",
    "\n",
    "import statsmodels\n",
    "import statsmodels.api as sm\n",
    "import statsmodels.formula.api as smf\n",
    "\n",
    "%matplotlib inline\n"
   ]
  },
  {
   "cell_type": "code",
   "execution_count": 2,
   "metadata": {},
   "outputs": [
    {
     "name": "stdout",
     "output_type": "stream",
     "text": [
      "\u001b[0;31mType:\u001b[0m        module\n",
      "\u001b[0;31mString form:\u001b[0m <module 'scipy.stats' from '/Users/fordfishman/opt/anaconda3/envs/workshop/lib/python3.9/site-packages/scipy/stats/__init__.py'>\n",
      "\u001b[0;31mFile:\u001b[0m        ~/opt/anaconda3/envs/workshop/lib/python3.9/site-packages/scipy/stats/__init__.py\n",
      "\u001b[0;31mDocstring:\u001b[0m  \n",
      ".. _statsrefmanual:\n",
      "\n",
      "==========================================\n",
      "Statistical functions (:mod:`scipy.stats`)\n",
      "==========================================\n",
      "\n",
      ".. currentmodule:: scipy.stats\n",
      "\n",
      "This module contains a large number of probability distributions,\n",
      "summary and frequency statistics, correlation functions and statistical\n",
      "tests, masked statistics, kernel density estimation, quasi-Monte Carlo\n",
      "functionality, and more.\n",
      "\n",
      "Statistics is a very large area, and there are topics that are out of scope\n",
      "for SciPy and are covered by other packages. Some of the most important ones\n",
      "are:\n",
      "\n",
      "- `statsmodels <https://www.statsmodels.org/stable/index.html>`__:\n",
      "  regression, linear models, time series analysis, extensions to topics\n",
      "  also covered by ``scipy.stats``.\n",
      "- `Pandas <https://pandas.pydata.org/>`__: tabular data, time series\n",
      "  functionality, interfaces to other statistical languages.\n",
      "- `PyMC <https://docs.pymc.io/>`__: Bayesian statistical\n",
      "  modeling, probabilistic machine learning.\n",
      "- `scikit-learn <https://scikit-learn.org/>`__: classification, regression,\n",
      "  model selection.\n",
      "- `Seaborn <https://seaborn.pydata.org/>`__: statistical data visualization.\n",
      "- `rpy2 <https://rpy2.github.io/>`__: Python to R bridge.\n",
      "\n",
      "\n",
      "Probability distributions\n",
      "=========================\n",
      "\n",
      "Each univariate distribution is an instance of a subclass of `rv_continuous`\n",
      "(`rv_discrete` for discrete distributions):\n",
      "\n",
      ".. autosummary::\n",
      "   :toctree: generated/\n",
      "\n",
      "   rv_continuous\n",
      "   rv_discrete\n",
      "   rv_histogram\n",
      "\n",
      "Continuous distributions\n",
      "------------------------\n",
      "\n",
      ".. autosummary::\n",
      "   :toctree: generated/\n",
      "\n",
      "   alpha             -- Alpha\n",
      "   anglit            -- Anglit\n",
      "   arcsine           -- Arcsine\n",
      "   argus             -- Argus\n",
      "   beta              -- Beta\n",
      "   betaprime         -- Beta Prime\n",
      "   bradford          -- Bradford\n",
      "   burr              -- Burr (Type III)\n",
      "   burr12            -- Burr (Type XII)\n",
      "   cauchy            -- Cauchy\n",
      "   chi               -- Chi\n",
      "   chi2              -- Chi-squared\n",
      "   cosine            -- Cosine\n",
      "   crystalball       -- Crystalball\n",
      "   dgamma            -- Double Gamma\n",
      "   dweibull          -- Double Weibull\n",
      "   erlang            -- Erlang\n",
      "   expon             -- Exponential\n",
      "   exponnorm         -- Exponentially Modified Normal\n",
      "   exponweib         -- Exponentiated Weibull\n",
      "   exponpow          -- Exponential Power\n",
      "   f                 -- F (Snecdor F)\n",
      "   fatiguelife       -- Fatigue Life (Birnbaum-Saunders)\n",
      "   fisk              -- Fisk\n",
      "   foldcauchy        -- Folded Cauchy\n",
      "   foldnorm          -- Folded Normal\n",
      "   genlogistic       -- Generalized Logistic\n",
      "   gennorm           -- Generalized normal\n",
      "   genpareto         -- Generalized Pareto\n",
      "   genexpon          -- Generalized Exponential\n",
      "   genextreme        -- Generalized Extreme Value\n",
      "   gausshyper        -- Gauss Hypergeometric\n",
      "   gamma             -- Gamma\n",
      "   gengamma          -- Generalized gamma\n",
      "   genhalflogistic   -- Generalized Half Logistic\n",
      "   genhyperbolic     -- Generalized Hyperbolic\n",
      "   geninvgauss       -- Generalized Inverse Gaussian\n",
      "   gibrat            -- Gibrat\n",
      "   gompertz          -- Gompertz (Truncated Gumbel)\n",
      "   gumbel_r          -- Right Sided Gumbel, Log-Weibull, Fisher-Tippett, Extreme Value Type I\n",
      "   gumbel_l          -- Left Sided Gumbel, etc.\n",
      "   halfcauchy        -- Half Cauchy\n",
      "   halflogistic      -- Half Logistic\n",
      "   halfnorm          -- Half Normal\n",
      "   halfgennorm       -- Generalized Half Normal\n",
      "   hypsecant         -- Hyperbolic Secant\n",
      "   invgamma          -- Inverse Gamma\n",
      "   invgauss          -- Inverse Gaussian\n",
      "   invweibull        -- Inverse Weibull\n",
      "   johnsonsb         -- Johnson SB\n",
      "   johnsonsu         -- Johnson SU\n",
      "   kappa4            -- Kappa 4 parameter\n",
      "   kappa3            -- Kappa 3 parameter\n",
      "   ksone             -- Distribution of Kolmogorov-Smirnov one-sided test statistic\n",
      "   kstwo             -- Distribution of Kolmogorov-Smirnov two-sided test statistic\n",
      "   kstwobign         -- Limiting Distribution of scaled Kolmogorov-Smirnov two-sided test statistic.\n",
      "   laplace           -- Laplace\n",
      "   laplace_asymmetric    -- Asymmetric Laplace\n",
      "   levy              -- Levy\n",
      "   levy_l\n",
      "   levy_stable\n",
      "   logistic          -- Logistic\n",
      "   loggamma          -- Log-Gamma\n",
      "   loglaplace        -- Log-Laplace (Log Double Exponential)\n",
      "   lognorm           -- Log-Normal\n",
      "   loguniform        -- Log-Uniform\n",
      "   lomax             -- Lomax (Pareto of the second kind)\n",
      "   maxwell           -- Maxwell\n",
      "   mielke            -- Mielke's Beta-Kappa\n",
      "   moyal             -- Moyal\n",
      "   nakagami          -- Nakagami\n",
      "   ncx2              -- Non-central chi-squared\n",
      "   ncf               -- Non-central F\n",
      "   nct               -- Non-central Student's T\n",
      "   norm              -- Normal (Gaussian)\n",
      "   norminvgauss      -- Normal Inverse Gaussian\n",
      "   pareto            -- Pareto\n",
      "   pearson3          -- Pearson type III\n",
      "   powerlaw          -- Power-function\n",
      "   powerlognorm      -- Power log normal\n",
      "   powernorm         -- Power normal\n",
      "   rdist             -- R-distribution\n",
      "   rayleigh          -- Rayleigh\n",
      "   rice              -- Rice\n",
      "   recipinvgauss     -- Reciprocal Inverse Gaussian\n",
      "   semicircular      -- Semicircular\n",
      "   skewcauchy        -- Skew Cauchy\n",
      "   skewnorm          -- Skew normal\n",
      "   studentized_range    -- Studentized Range\n",
      "   t                 -- Student's T\n",
      "   trapezoid         -- Trapezoidal\n",
      "   triang            -- Triangular\n",
      "   truncexpon        -- Truncated Exponential\n",
      "   truncnorm         -- Truncated Normal\n",
      "   truncweibull_min  -- Truncated minimum Weibull distribution\n",
      "   tukeylambda       -- Tukey-Lambda\n",
      "   uniform           -- Uniform\n",
      "   vonmises          -- Von-Mises (Circular)\n",
      "   vonmises_line     -- Von-Mises (Line)\n",
      "   wald              -- Wald\n",
      "   weibull_min       -- Minimum Weibull (see Frechet)\n",
      "   weibull_max       -- Maximum Weibull (see Frechet)\n",
      "   wrapcauchy        -- Wrapped Cauchy\n",
      "\n",
      "Multivariate distributions\n",
      "--------------------------\n",
      "\n",
      ".. autosummary::\n",
      "   :toctree: generated/\n",
      "\n",
      "   multivariate_normal    -- Multivariate normal distribution\n",
      "   matrix_normal          -- Matrix normal distribution\n",
      "   dirichlet              -- Dirichlet\n",
      "   wishart                -- Wishart\n",
      "   invwishart             -- Inverse Wishart\n",
      "   multinomial            -- Multinomial distribution\n",
      "   special_ortho_group    -- SO(N) group\n",
      "   ortho_group            -- O(N) group\n",
      "   unitary_group          -- U(N) group\n",
      "   random_correlation     -- random correlation matrices\n",
      "   multivariate_t         -- Multivariate t-distribution\n",
      "   multivariate_hypergeom -- Multivariate hypergeometric distribution\n",
      "\n",
      "Discrete distributions\n",
      "----------------------\n",
      "\n",
      ".. autosummary::\n",
      "   :toctree: generated/\n",
      "\n",
      "   bernoulli                -- Bernoulli\n",
      "   betabinom                -- Beta-Binomial\n",
      "   binom                    -- Binomial\n",
      "   boltzmann                -- Boltzmann (Truncated Discrete Exponential)\n",
      "   dlaplace                 -- Discrete Laplacian\n",
      "   geom                     -- Geometric\n",
      "   hypergeom                -- Hypergeometric\n",
      "   logser                   -- Logarithmic (Log-Series, Series)\n",
      "   nbinom                   -- Negative Binomial\n",
      "   nchypergeom_fisher       -- Fisher's Noncentral Hypergeometric\n",
      "   nchypergeom_wallenius    -- Wallenius's Noncentral Hypergeometric\n",
      "   nhypergeom               -- Negative Hypergeometric\n",
      "   planck                   -- Planck (Discrete Exponential)\n",
      "   poisson                  -- Poisson\n",
      "   randint                  -- Discrete Uniform\n",
      "   skellam                  -- Skellam\n",
      "   yulesimon                -- Yule-Simon\n",
      "   zipf                     -- Zipf (Zeta)\n",
      "   zipfian                  -- Zipfian\n",
      "\n",
      "An overview of statistical functions is given below.  Many of these functions\n",
      "have a similar version in `scipy.stats.mstats` which work for masked arrays.\n",
      "\n",
      "Summary statistics\n",
      "==================\n",
      "\n",
      ".. autosummary::\n",
      "   :toctree: generated/\n",
      "\n",
      "   describe          -- Descriptive statistics\n",
      "   gmean             -- Geometric mean\n",
      "   hmean             -- Harmonic mean\n",
      "   pmean             -- Power mean\n",
      "   kurtosis          -- Fisher or Pearson kurtosis\n",
      "   mode              -- Modal value\n",
      "   moment            -- Central moment\n",
      "   skew              -- Skewness\n",
      "   kstat             --\n",
      "   kstatvar          --\n",
      "   tmean             -- Truncated arithmetic mean\n",
      "   tvar              -- Truncated variance\n",
      "   tmin              --\n",
      "   tmax              --\n",
      "   tstd              --\n",
      "   tsem              --\n",
      "   variation         -- Coefficient of variation\n",
      "   find_repeats\n",
      "   trim_mean\n",
      "   gstd              -- Geometric Standard Deviation\n",
      "   iqr\n",
      "   sem\n",
      "   bayes_mvs\n",
      "   mvsdist\n",
      "   entropy\n",
      "   differential_entropy\n",
      "   median_abs_deviation\n",
      "\n",
      "Frequency statistics\n",
      "====================\n",
      "\n",
      ".. autosummary::\n",
      "   :toctree: generated/\n",
      "\n",
      "   cumfreq\n",
      "   percentileofscore\n",
      "   scoreatpercentile\n",
      "   relfreq\n",
      "\n",
      ".. autosummary::\n",
      "   :toctree: generated/\n",
      "\n",
      "   binned_statistic     -- Compute a binned statistic for a set of data.\n",
      "   binned_statistic_2d  -- Compute a 2-D binned statistic for a set of data.\n",
      "   binned_statistic_dd  -- Compute a d-D binned statistic for a set of data.\n",
      "\n",
      "Correlation functions\n",
      "=====================\n",
      "\n",
      ".. autosummary::\n",
      "   :toctree: generated/\n",
      "\n",
      "   f_oneway\n",
      "   alexandergovern\n",
      "   pearsonr\n",
      "   spearmanr\n",
      "   pointbiserialr\n",
      "   kendalltau\n",
      "   weightedtau\n",
      "   somersd\n",
      "   linregress\n",
      "   siegelslopes\n",
      "   theilslopes\n",
      "   multiscale_graphcorr\n",
      "\n",
      "Statistical tests\n",
      "=================\n",
      "\n",
      ".. autosummary::\n",
      "   :toctree: generated/\n",
      "\n",
      "   ttest_1samp\n",
      "   ttest_ind\n",
      "   ttest_ind_from_stats\n",
      "   ttest_rel\n",
      "   chisquare\n",
      "   cramervonmises\n",
      "   cramervonmises_2samp\n",
      "   power_divergence\n",
      "   kstest\n",
      "   ks_1samp\n",
      "   ks_2samp\n",
      "   epps_singleton_2samp\n",
      "   mannwhitneyu\n",
      "   tiecorrect\n",
      "   rankdata\n",
      "   ranksums\n",
      "   wilcoxon\n",
      "   kruskal\n",
      "   friedmanchisquare\n",
      "   brunnermunzel\n",
      "   combine_pvalues\n",
      "   jarque_bera\n",
      "   page_trend_test\n",
      "   tukey_hsd\n",
      "\n",
      ".. autosummary::\n",
      "   :toctree: generated/\n",
      "\n",
      "   ansari\n",
      "   bartlett\n",
      "   levene\n",
      "   shapiro\n",
      "   anderson\n",
      "   anderson_ksamp\n",
      "   binom_test\n",
      "   binomtest\n",
      "   fligner\n",
      "   median_test\n",
      "   mood\n",
      "   skewtest\n",
      "   kurtosistest\n",
      "   normaltest\n",
      "\n",
      "\n",
      "Quasi-Monte Carlo\n",
      "=================\n",
      "\n",
      ".. toctree::\n",
      "   :maxdepth: 4\n",
      "\n",
      "   stats.qmc\n",
      "\n",
      "Resampling Methods\n",
      "==================\n",
      "\n",
      ".. autosummary::\n",
      "   :toctree: generated/\n",
      "\n",
      "   bootstrap\n",
      "   permutation_test\n",
      "   monte_carlo_test\n",
      "\n",
      "Masked statistics functions\n",
      "===========================\n",
      "\n",
      ".. toctree::\n",
      "\n",
      "   stats.mstats\n",
      "\n",
      "\n",
      "Other statistical functionality\n",
      "===============================\n",
      "\n",
      "Transformations\n",
      "---------------\n",
      "\n",
      ".. autosummary::\n",
      "   :toctree: generated/\n",
      "\n",
      "   boxcox\n",
      "   boxcox_normmax\n",
      "   boxcox_llf\n",
      "   yeojohnson\n",
      "   yeojohnson_normmax\n",
      "   yeojohnson_llf\n",
      "   obrientransform\n",
      "   sigmaclip\n",
      "   trimboth\n",
      "   trim1\n",
      "   zmap\n",
      "   zscore\n",
      "   gzscore\n",
      "\n",
      "Statistical distances\n",
      "---------------------\n",
      "\n",
      ".. autosummary::\n",
      "   :toctree: generated/\n",
      "\n",
      "   wasserstein_distance\n",
      "   energy_distance\n",
      "\n",
      "Sampling\n",
      "--------\n",
      "\n",
      ".. toctree::\n",
      "   :maxdepth: 4\n",
      "\n",
      "   stats.sampling\n",
      "\n",
      "Random variate generation / CDF Inversion\n",
      "-----------------------------------------\n",
      "\n",
      ".. autosummary::\n",
      "   :toctree: generated/\n",
      "\n",
      "   rvs_ratio_uniforms\n",
      "\n",
      "Distribution Fitting\n",
      "--------------------\n",
      "\n",
      ".. autosummary::\n",
      "   :toctree: generated/\n",
      "\n",
      "   fit\n",
      "\n",
      "Circular statistical functions\n",
      "------------------------------\n",
      "\n",
      ".. autosummary::\n",
      "   :toctree: generated/\n",
      "\n",
      "   circmean\n",
      "   circvar\n",
      "   circstd\n",
      "\n",
      "Contingency table functions\n",
      "---------------------------\n",
      "\n",
      ".. autosummary::\n",
      "   :toctree: generated/\n",
      "\n",
      "   chi2_contingency\n",
      "   contingency.crosstab\n",
      "   contingency.expected_freq\n",
      "   contingency.margins\n",
      "   contingency.relative_risk\n",
      "   contingency.association\n",
      "   fisher_exact\n",
      "   barnard_exact\n",
      "   boschloo_exact\n",
      "\n",
      "Plot-tests\n",
      "----------\n",
      "\n",
      ".. autosummary::\n",
      "   :toctree: generated/\n",
      "\n",
      "   ppcc_max\n",
      "   ppcc_plot\n",
      "   probplot\n",
      "   boxcox_normplot\n",
      "   yeojohnson_normplot\n",
      "\n",
      "Univariate and multivariate kernel density estimation\n",
      "-----------------------------------------------------\n",
      "\n",
      ".. autosummary::\n",
      "   :toctree: generated/\n",
      "\n",
      "   gaussian_kde\n",
      "\n",
      "Warnings / Errors used in :mod:`scipy.stats`\n",
      "--------------------------------------------\n",
      "\n",
      ".. autosummary::\n",
      "   :toctree: generated/\n",
      "\n",
      "   DegenerateDataWarning\n",
      "   ConstantInputWarning\n",
      "   NearConstantInputWarning\n",
      "   FitError\n"
     ]
    }
   ],
   "source": [
    "# Have a question about a package?\n",
    "# Get documentation with the question mark ?\n",
    "# INSTRUCTIONS:  Ask about a library here:\n",
    "\n",
    "?scipy.stats"
   ]
  },
  {
   "cell_type": "markdown",
   "metadata": {},
   "source": [
    "## Describe and plot distributions\n",
    "\n",
    "Let's first import our <a href=\"https://www.gapminder.org\">GapMinder</a> data set and summarize it.\n"
   ]
  },
  {
   "cell_type": "code",
   "execution_count": 3,
   "metadata": {},
   "outputs": [
    {
     "name": "stdout",
     "output_type": "stream",
     "text": [
      "<class 'pandas.core.frame.DataFrame'>\n",
      "RangeIndex: 14740 entries, 0 to 14739\n",
      "Data columns (total 9 columns):\n",
      " #   Column            Non-Null Count  Dtype  \n",
      "---  ------            --------------  -----  \n",
      " 0   country           14740 non-null  object \n",
      " 1   year              14740 non-null  int64  \n",
      " 2   region            14740 non-null  object \n",
      " 3   population        14740 non-null  float64\n",
      " 4   life_expectancy   14740 non-null  float64\n",
      " 5   age5_surviving    14740 non-null  float64\n",
      " 6   babies_per_woman  14740 non-null  float64\n",
      " 7   gdp_per_capita    14740 non-null  float64\n",
      " 8   gdp_per_day       14740 non-null  float64\n",
      "dtypes: float64(6), int64(1), object(2)\n",
      "memory usage: 1.0+ MB\n"
     ]
    }
   ],
   "source": [
    "# Import data\n",
    "gapminder = pd.read_csv('../data/gapminder.csv')\n",
    "gapminder.info()"
   ]
  },
  {
   "cell_type": "code",
   "execution_count": 4,
   "metadata": {
    "scrolled": true
   },
   "outputs": [
    {
     "data": {
      "text/html": [
       "<div>\n",
       "<style scoped>\n",
       "    .dataframe tbody tr th:only-of-type {\n",
       "        vertical-align: middle;\n",
       "    }\n",
       "\n",
       "    .dataframe tbody tr th {\n",
       "        vertical-align: top;\n",
       "    }\n",
       "\n",
       "    .dataframe thead th {\n",
       "        text-align: right;\n",
       "    }\n",
       "</style>\n",
       "<table border=\"1\" class=\"dataframe\">\n",
       "  <thead>\n",
       "    <tr style=\"text-align: right;\">\n",
       "      <th></th>\n",
       "      <th>country</th>\n",
       "      <th>year</th>\n",
       "      <th>region</th>\n",
       "      <th>population</th>\n",
       "      <th>life_expectancy</th>\n",
       "      <th>age5_surviving</th>\n",
       "      <th>babies_per_woman</th>\n",
       "      <th>gdp_per_capita</th>\n",
       "      <th>gdp_per_day</th>\n",
       "    </tr>\n",
       "  </thead>\n",
       "  <tbody>\n",
       "    <tr>\n",
       "      <th>0</th>\n",
       "      <td>Afghanistan</td>\n",
       "      <td>1800</td>\n",
       "      <td>Asia</td>\n",
       "      <td>3280000.0</td>\n",
       "      <td>28.21</td>\n",
       "      <td>53.142</td>\n",
       "      <td>7.00</td>\n",
       "      <td>603.0</td>\n",
       "      <td>1.650924</td>\n",
       "    </tr>\n",
       "    <tr>\n",
       "      <th>1</th>\n",
       "      <td>Afghanistan</td>\n",
       "      <td>1810</td>\n",
       "      <td>Asia</td>\n",
       "      <td>3280000.0</td>\n",
       "      <td>28.11</td>\n",
       "      <td>53.002</td>\n",
       "      <td>7.00</td>\n",
       "      <td>604.0</td>\n",
       "      <td>1.653662</td>\n",
       "    </tr>\n",
       "    <tr>\n",
       "      <th>2</th>\n",
       "      <td>Afghanistan</td>\n",
       "      <td>1820</td>\n",
       "      <td>Asia</td>\n",
       "      <td>3323519.0</td>\n",
       "      <td>28.01</td>\n",
       "      <td>52.862</td>\n",
       "      <td>7.00</td>\n",
       "      <td>604.0</td>\n",
       "      <td>1.653662</td>\n",
       "    </tr>\n",
       "    <tr>\n",
       "      <th>3</th>\n",
       "      <td>Afghanistan</td>\n",
       "      <td>1830</td>\n",
       "      <td>Asia</td>\n",
       "      <td>3448982.0</td>\n",
       "      <td>27.90</td>\n",
       "      <td>52.719</td>\n",
       "      <td>7.00</td>\n",
       "      <td>625.0</td>\n",
       "      <td>1.711157</td>\n",
       "    </tr>\n",
       "    <tr>\n",
       "      <th>4</th>\n",
       "      <td>Afghanistan</td>\n",
       "      <td>1840</td>\n",
       "      <td>Asia</td>\n",
       "      <td>3625022.0</td>\n",
       "      <td>27.80</td>\n",
       "      <td>52.576</td>\n",
       "      <td>7.00</td>\n",
       "      <td>647.0</td>\n",
       "      <td>1.771389</td>\n",
       "    </tr>\n",
       "    <tr>\n",
       "      <th>...</th>\n",
       "      <td>...</td>\n",
       "      <td>...</td>\n",
       "      <td>...</td>\n",
       "      <td>...</td>\n",
       "      <td>...</td>\n",
       "      <td>...</td>\n",
       "      <td>...</td>\n",
       "      <td>...</td>\n",
       "      <td>...</td>\n",
       "    </tr>\n",
       "    <tr>\n",
       "      <th>14735</th>\n",
       "      <td>Zimbabwe</td>\n",
       "      <td>2011</td>\n",
       "      <td>Africa</td>\n",
       "      <td>14255592.0</td>\n",
       "      <td>51.60</td>\n",
       "      <td>90.800</td>\n",
       "      <td>3.64</td>\n",
       "      <td>1626.0</td>\n",
       "      <td>4.451745</td>\n",
       "    </tr>\n",
       "    <tr>\n",
       "      <th>14736</th>\n",
       "      <td>Zimbabwe</td>\n",
       "      <td>2012</td>\n",
       "      <td>Africa</td>\n",
       "      <td>14565482.0</td>\n",
       "      <td>54.20</td>\n",
       "      <td>91.330</td>\n",
       "      <td>3.56</td>\n",
       "      <td>1750.0</td>\n",
       "      <td>4.791239</td>\n",
       "    </tr>\n",
       "    <tr>\n",
       "      <th>14737</th>\n",
       "      <td>Zimbabwe</td>\n",
       "      <td>2013</td>\n",
       "      <td>Africa</td>\n",
       "      <td>14898092.0</td>\n",
       "      <td>55.70</td>\n",
       "      <td>91.670</td>\n",
       "      <td>3.49</td>\n",
       "      <td>1773.0</td>\n",
       "      <td>4.854209</td>\n",
       "    </tr>\n",
       "    <tr>\n",
       "      <th>14738</th>\n",
       "      <td>Zimbabwe</td>\n",
       "      <td>2014</td>\n",
       "      <td>Africa</td>\n",
       "      <td>15245855.0</td>\n",
       "      <td>57.00</td>\n",
       "      <td>91.900</td>\n",
       "      <td>3.41</td>\n",
       "      <td>1773.0</td>\n",
       "      <td>4.854209</td>\n",
       "    </tr>\n",
       "    <tr>\n",
       "      <th>14739</th>\n",
       "      <td>Zimbabwe</td>\n",
       "      <td>2015</td>\n",
       "      <td>Africa</td>\n",
       "      <td>15602751.0</td>\n",
       "      <td>59.30</td>\n",
       "      <td>92.040</td>\n",
       "      <td>3.35</td>\n",
       "      <td>1801.0</td>\n",
       "      <td>4.930869</td>\n",
       "    </tr>\n",
       "  </tbody>\n",
       "</table>\n",
       "<p>14740 rows × 9 columns</p>\n",
       "</div>"
      ],
      "text/plain": [
       "           country  year  region  population  life_expectancy  age5_surviving  \\\n",
       "0      Afghanistan  1800    Asia   3280000.0            28.21          53.142   \n",
       "1      Afghanistan  1810    Asia   3280000.0            28.11          53.002   \n",
       "2      Afghanistan  1820    Asia   3323519.0            28.01          52.862   \n",
       "3      Afghanistan  1830    Asia   3448982.0            27.90          52.719   \n",
       "4      Afghanistan  1840    Asia   3625022.0            27.80          52.576   \n",
       "...            ...   ...     ...         ...              ...             ...   \n",
       "14735     Zimbabwe  2011  Africa  14255592.0            51.60          90.800   \n",
       "14736     Zimbabwe  2012  Africa  14565482.0            54.20          91.330   \n",
       "14737     Zimbabwe  2013  Africa  14898092.0            55.70          91.670   \n",
       "14738     Zimbabwe  2014  Africa  15245855.0            57.00          91.900   \n",
       "14739     Zimbabwe  2015  Africa  15602751.0            59.30          92.040   \n",
       "\n",
       "       babies_per_woman  gdp_per_capita  gdp_per_day  \n",
       "0                  7.00           603.0     1.650924  \n",
       "1                  7.00           604.0     1.653662  \n",
       "2                  7.00           604.0     1.653662  \n",
       "3                  7.00           625.0     1.711157  \n",
       "4                  7.00           647.0     1.771389  \n",
       "...                 ...             ...          ...  \n",
       "14735              3.64          1626.0     4.451745  \n",
       "14736              3.56          1750.0     4.791239  \n",
       "14737              3.49          1773.0     4.854209  \n",
       "14738              3.41          1773.0     4.854209  \n",
       "14739              3.35          1801.0     4.930869  \n",
       "\n",
       "[14740 rows x 9 columns]"
      ]
     },
     "execution_count": 4,
     "metadata": {},
     "output_type": "execute_result"
    }
   ],
   "source": [
    "gapminder"
   ]
  },
  {
   "cell_type": "markdown",
   "metadata": {},
   "source": [
    "### Descriptive statistics\n",
    "\n",
    "We can use built in functions in pandas to summarize key aspects of our data."
   ]
  },
  {
   "cell_type": "code",
   "execution_count": 5,
   "metadata": {},
   "outputs": [
    {
     "name": "stdout",
     "output_type": "stream",
     "text": [
      "Max population: 1376048943.0\n",
      "Mean babies per woman: 4.643471506105837\n",
      "Variance in babies per woman: 3.9793570162855287\n"
     ]
    }
   ],
   "source": [
    "max_pop = gapminder.population.max()\n",
    "ave_bpw = gapminder.babies_per_woman.mean()\n",
    "var_bpw = gapminder.babies_per_woman.var()\n",
    "\n",
    "print('Max population:', max_pop)\n",
    "print('Mean babies per woman:', ave_bpw)\n",
    "print('Variance in babies per woman:', var_bpw)"
   ]
  },
  {
   "cell_type": "markdown",
   "metadata": {},
   "source": [
    "We examine quartiles using the `.quantile()` method and specifying 0.25, 0.50 and 0.75. "
   ]
  },
  {
   "cell_type": "code",
   "execution_count": 15,
   "metadata": {},
   "outputs": [
    {
     "data": {
      "text/plain": [
       "0.25    44.23\n",
       "0.50    60.08\n",
       "0.75    70.38\n",
       "Name: life_expectancy, dtype: float64"
      ]
     },
     "execution_count": 15,
     "metadata": {},
     "output_type": "execute_result"
    }
   ],
   "source": [
    "gapminder.life_expectancy.quantile([0.25,0.50,0.75])"
   ]
  },
  {
   "cell_type": "markdown",
   "metadata": {},
   "source": [
    "For very simple plots, we can plot directly from pandas, specifying the type of plot with the argument `kind`. Here we make a box plot and a histogram. We can then add labels with matplotlib."
   ]
  },
  {
   "cell_type": "code",
   "execution_count": 14,
   "metadata": {},
   "outputs": [
    {
     "data": {
      "image/png": "[encoded data removed]",
      "text/plain": [
       "<Figure size 432x288 with 1 Axes>"
      ]
     },
     "metadata": {
      "needs_background": "light"
     },
     "output_type": "display_data"
    }
   ],
   "source": [
    "gapminder.life_expectancy.plot(kind='box')\n",
    "plt.ylabel('Percentage Surviving')\n",
    "plt.show()"
   ]
  },
  {
   "cell_type": "code",
   "execution_count": 27,
   "metadata": {},
   "outputs": [
    {
     "data": {
      "text/plain": [
       "84.45266533242852"
      ]
     },
     "execution_count": 27,
     "metadata": {},
     "output_type": "execute_result"
    }
   ],
   "source": [
    "gapminder.age5_surviving.mean()"
   ]
  },
  {
   "cell_type": "code",
   "execution_count": 13,
   "metadata": {},
   "outputs": [
    {
     "data": {
      "image/png": "[encoded data removed]",
      "text/plain": [
       "<Figure size 432x288 with 1 Axes>"
      ]
     },
     "metadata": {
      "needs_background": "light"
     },
     "output_type": "display_data"
    }
   ],
   "source": [
    "gapminder.life_expectancy.plot(kind='hist')\n",
    "plt.ylabel('Percentage Surviving')\n",
    "plt.show()"
   ]
  },
  {
   "cell_type": "markdown",
   "metadata": {},
   "source": [
    "### Hypothesis Testing"
   ]
  },
  {
   "cell_type": "markdown",
   "metadata": {},
   "source": [
    "Statistical methods are used to test **hypotheses**. One of the most foundational hypotheses we can ask is \"Is the mean of this sample different from some value?\" Typically, the value we are comparing the mean to has some sort of relavence.\n",
    "\n",
    "While the actual mean of the sample might be different, we want to know if our data could have been generated if the true mean was a certain value. To do this, we use a **1-sample t-test**. \n",
    "\n",
    "To run a 1-sample t-test, we can use the `ttest_1sample()` function from the `scipy.stats` module."
   ]
  },
  {
   "cell_type": "code",
   "execution_count": 26,
   "metadata": {},
   "outputs": [
    {
     "data": {
      "text/plain": [
       "Ttest_1sampResult(statistic=-1.2660253842508842, pvalue=0.20552400415951508)"
      ]
     },
     "execution_count": 26,
     "metadata": {},
     "output_type": "execute_result"
    }
   ],
   "source": [
    "# 1 Sample t-test\n",
    "# Is the mean of the data 84.4?\n",
    "scipy.stats.ttest_1samp(gapminder['life_expectancy'], 57)"
   ]
  },
  {
   "cell_type": "markdown",
   "metadata": {},
   "source": [
    "If we want to compare the means in two samples, we need to run a **2-sample t-test**, also called an **independent samples t-test**. We can use the function `ttest_ind()` for this."
   ]
  },
  {
   "cell_type": "code",
   "execution_count": 28,
   "metadata": {},
   "outputs": [
    {
     "data": {
      "text/plain": [
       "Ttest_indResult(statistic=-0.741088317096773, pvalue=0.4597261729067277)"
      ]
     },
     "execution_count": 28,
     "metadata": {},
     "output_type": "execute_result"
    }
   ],
   "source": [
    "# 2 sample t-test\n",
    "gdata_us = gapminder[gapminder.country == 'United States']\n",
    "gdata_canada = gapminder[gapminder.country == 'Canada']\n",
    "\n",
    "scipy.stats.ttest_ind(gdata_us.life_expectancy, gdata_canada.life_expectancy)   "
   ]
  },
  {
   "cell_type": "markdown",
   "metadata": {},
   "source": [
    "## Fitting Models to Data\n",
    "\n",
    "We have described the sample of a population with statistics.\n",
    "Now let's understand what we can say about a population from a sample of data."
   ]
  },
  {
   "cell_type": "code",
   "execution_count": 29,
   "metadata": {},
   "outputs": [],
   "source": [
    "# Get data subset\n",
    "gdata = gapminder.query('year == 1985')\n",
    "# grab population for point sizes\n",
    "size = 1e-6 * gdata.population\n",
    "# assign colors to regions\n",
    "colors = gdata.region.map({'Africa': 'skyblue', 'Europe': 'gold', 'America': 'palegreen', 'Asia': 'coral'})\n",
    "\n",
    "# create plotting function\n",
    "def plotdata():\n",
    "    gdata.plot.scatter('life_expectancy','babies_per_woman',\n",
    "                       c=colors,s=size,linewidths=0.5,edgecolor='k',alpha=0.5)"
   ]
  },
  {
   "cell_type": "markdown",
   "metadata": {},
   "source": [
    "Using the custom function we just specified, let's visualize the relationship between `age5_surviving` and `babies_per_woman`."
   ]
  },
  {
   "cell_type": "code",
   "execution_count": 30,
   "metadata": {},
   "outputs": [
    {
     "data": {
      "image/png": "[encoded data removed]",
      "text/plain": [
       "<Figure size 432x288 with 1 Axes>"
      ]
     },
     "metadata": {
      "needs_background": "light"
     },
     "output_type": "display_data"
    }
   ],
   "source": [
    "plotdata()"
   ]
  },
  {
   "cell_type": "markdown",
   "metadata": {},
   "source": [
    "We can see there seems to be some sort of negative relationship between the two variables. There also might be a relationship between region and `babies_per_woman`, as well."
   ]
  },
  {
   "cell_type": "markdown",
   "metadata": {},
   "source": [
    "## statmodels"
   ]
  },
  {
   "cell_type": "markdown",
   "metadata": {},
   "source": [
    "**statsmodels** has many capabilities.\n",
    "\n",
    "Here we will use Ordinary Least Squares (OLS).\n",
    "Least squares means models are fit by minimizing the squared difference between predictions and observations.\n",
    "\n",
    "statsmodels lets us specify models using the \"tilda\" notation (also used in R)\n",
    "response variable ~ model terms.  \n",
    "\n",
    "For example: `babes_per_woman ~ age5surviving`.\n",
    "\n",
    "Below we use the formula `babies_per_woman ~ 1`. This will essential just use the mean `babies_per_woman` value as the prediction for all data points. "
   ]
  },
  {
   "cell_type": "code",
   "execution_count": 31,
   "metadata": {},
   "outputs": [],
   "source": [
    "# Ordinary least squares model\n",
    "model = smf.ols(formula='babies_per_woman ~ 1',data=gdata)\n",
    "#    where babies per woman is the response variable and\n",
    "#    1 represents a constant\n",
    "\n",
    "# Next, we fit the model\n",
    "grandmean = model.fit()"
   ]
  },
  {
   "cell_type": "markdown",
   "metadata": {},
   "source": [
    "Let's make a new function to visualize these results, using the old function we just made and adding in our predictions from our model on top. "
   ]
  },
  {
   "cell_type": "code",
   "execution_count": 33,
   "metadata": {},
   "outputs": [
    {
     "data": {
      "image/png": "[encoded data removed]",
      "text/plain": [
       "<Figure size 432x288 with 1 Axes>"
      ]
     },
     "metadata": {
      "needs_background": "light"
     },
     "output_type": "display_data"
    }
   ],
   "source": [
    "# Let's make a function to plot the data against the model prediction\n",
    "def plotfit(fit):\n",
    "    plotdata()\n",
    "    plt.scatter(gdata.life_expectancy, fit.predict(gdata),\n",
    "              c=colors,s=30,linewidths=0.5,edgecolor='k',marker='D')\n",
    "    \n",
    "plotfit(grandmean)"
   ]
  },
  {
   "cell_type": "code",
   "execution_count": 15,
   "metadata": {},
   "outputs": [
    {
     "data": {
      "text/plain": [
       "Intercept    4.360714\n",
       "dtype: float64"
      ]
     },
     "execution_count": 15,
     "metadata": {},
     "output_type": "execute_result"
    }
   ],
   "source": [
    "grandmean.params"
   ]
  },
  {
   "cell_type": "markdown",
   "metadata": {},
   "source": [
    "Ever single data points get predicted to have the same value: 4.36. Thus, this is a very poor model.\n",
    "\n",
    "Let's try a slightly better model, using the region to preduct babies per woman. We use `-1` in the formula to say we do not want to include a constant in the model."
   ]
  },
  {
   "cell_type": "code",
   "execution_count": 34,
   "metadata": {},
   "outputs": [],
   "source": [
    "groupmeans = smf.ols(formula='babies_per_woman ~ -1 + region',data=gdata).fit()"
   ]
  },
  {
   "cell_type": "code",
   "execution_count": 17,
   "metadata": {},
   "outputs": [
    {
     "data": {
      "image/png": "[encoded data removed]",
      "text/plain": [
       "<Figure size 432x288 with 1 Axes>"
      ]
     },
     "metadata": {
      "needs_background": "light"
     },
     "output_type": "display_data"
    }
   ],
   "source": [
    "plotfit(groupmeans)"
   ]
  },
  {
   "cell_type": "code",
   "execution_count": 18,
   "metadata": {},
   "outputs": [
    {
     "data": {
      "text/plain": [
       "region[Africa]     6.321321\n",
       "region[America]    3.658182\n",
       "region[Asia]       4.775577\n",
       "region[Europe]     2.035682\n",
       "dtype: float64"
      ]
     },
     "execution_count": 18,
     "metadata": {},
     "output_type": "execute_result"
    }
   ],
   "source": [
    "groupmeans.params"
   ]
  },
  {
   "cell_type": "markdown",
   "metadata": {},
   "source": [
    "This is a much more informed model, but we can still do a lot better. Let's take `life_expectancy` into account in a new model."
   ]
  },
  {
   "cell_type": "code",
   "execution_count": 43,
   "metadata": {},
   "outputs": [],
   "source": [
    "surviving = smf.ols(formula='babies_per_woman ~ -1 + region + life_expectancy',data=gdata).fit()"
   ]
  },
  {
   "cell_type": "code",
   "execution_count": 44,
   "metadata": {
    "scrolled": true
   },
   "outputs": [
    {
     "name": "stdout",
     "output_type": "stream",
     "text": [
      "region[Africa]     12.953805\n",
      "region[America]    11.885657\n",
      "region[Asia]       12.452629\n",
      "region[Europe]     10.703060\n",
      "life_expectancy    -0.119281\n",
      "dtype: float64\n"
     ]
    },
    {
     "data": {
      "image/png": "[encoded data removed]",
      "text/plain": [
       "<Figure size 432x288 with 1 Axes>"
      ]
     },
     "metadata": {
      "needs_background": "light"
     },
     "output_type": "display_data"
    }
   ],
   "source": [
    "plotfit(surviving)\n",
    "print(surviving.params)"
   ]
  },
  {
   "cell_type": "markdown",
   "metadata": {},
   "source": [
    "Now, we have a much better model.\n",
    "\n",
    "**statsmodels** provides a summary for the fit with Goodness of Fit statistics, and also provides an anova table for the significance of the added variables."
   ]
  },
  {
   "cell_type": "code",
   "execution_count": 45,
   "metadata": {},
   "outputs": [
    {
     "data": {
      "text/html": [
       "<table class=\"simpletable\">\n",
       "<caption>OLS Regression Results</caption>\n",
       "<tr>\n",
       "  <th>Dep. Variable:</th>    <td>babies_per_woman</td> <th>  R-squared:         </th> <td>   0.768</td>\n",
       "</tr>\n",
       "<tr>\n",
       "  <th>Model:</th>                   <td>OLS</td>       <th>  Adj. R-squared:    </th> <td>   0.763</td>\n",
       "</tr>\n",
       "<tr>\n",
       "  <th>Method:</th>             <td>Least Squares</td>  <th>  F-statistic:       </th> <td>   146.9</td>\n",
       "</tr>\n",
       "<tr>\n",
       "  <th>Date:</th>             <td>Tue, 08 Nov 2022</td> <th>  Prob (F-statistic):</th> <td>4.01e-55</td>\n",
       "</tr>\n",
       "<tr>\n",
       "  <th>Time:</th>                 <td>10:18:04</td>     <th>  Log-Likelihood:    </th> <td> -251.93</td>\n",
       "</tr>\n",
       "<tr>\n",
       "  <th>No. Observations:</th>      <td>   182</td>      <th>  AIC:               </th> <td>   513.9</td>\n",
       "</tr>\n",
       "<tr>\n",
       "  <th>Df Residuals:</th>          <td>   177</td>      <th>  BIC:               </th> <td>   529.9</td>\n",
       "</tr>\n",
       "<tr>\n",
       "  <th>Df Model:</th>              <td>     4</td>      <th>                     </th>     <td> </td>   \n",
       "</tr>\n",
       "<tr>\n",
       "  <th>Covariance Type:</th>      <td>nonrobust</td>    <th>                     </th>     <td> </td>   \n",
       "</tr>\n",
       "</table>\n",
       "<table class=\"simpletable\">\n",
       "<tr>\n",
       "         <td></td>            <th>coef</th>     <th>std err</th>      <th>t</th>      <th>P>|t|</th>  <th>[0.025</th>    <th>0.975]</th>  \n",
       "</tr>\n",
       "<tr>\n",
       "  <th>region[Africa]</th>  <td>   12.9538</td> <td>    0.674</td> <td>   19.227</td> <td> 0.000</td> <td>   11.624</td> <td>   14.283</td>\n",
       "</tr>\n",
       "<tr>\n",
       "  <th>region[America]</th> <td>   11.8857</td> <td>    0.836</td> <td>   14.209</td> <td> 0.000</td> <td>   10.235</td> <td>   13.536</td>\n",
       "</tr>\n",
       "<tr>\n",
       "  <th>region[Asia]</th>    <td>   12.4526</td> <td>    0.776</td> <td>   16.045</td> <td> 0.000</td> <td>   10.921</td> <td>   13.984</td>\n",
       "</tr>\n",
       "<tr>\n",
       "  <th>region[Europe]</th>  <td>   10.7031</td> <td>    0.875</td> <td>   12.229</td> <td> 0.000</td> <td>    8.976</td> <td>   12.430</td>\n",
       "</tr>\n",
       "<tr>\n",
       "  <th>life_expectancy</th> <td>   -0.1193</td> <td>    0.012</td> <td>  -10.047</td> <td> 0.000</td> <td>   -0.143</td> <td>   -0.096</td>\n",
       "</tr>\n",
       "</table>\n",
       "<table class=\"simpletable\">\n",
       "<tr>\n",
       "  <th>Omnibus:</th>       <td>19.859</td> <th>  Durbin-Watson:     </th> <td>   1.967</td>\n",
       "</tr>\n",
       "<tr>\n",
       "  <th>Prob(Omnibus):</th> <td> 0.000</td> <th>  Jarque-Bera (JB):  </th> <td>  37.777</td>\n",
       "</tr>\n",
       "<tr>\n",
       "  <th>Skew:</th>          <td> 0.529</td> <th>  Prob(JB):          </th> <td>6.26e-09</td>\n",
       "</tr>\n",
       "<tr>\n",
       "  <th>Kurtosis:</th>      <td> 4.965</td> <th>  Cond. No.          </th> <td>1.41e+03</td>\n",
       "</tr>\n",
       "</table><br/><br/>Notes:<br/>[1] Standard Errors assume that the covariance matrix of the errors is correctly specified.<br/>[2] The condition number is large, 1.41e+03. This might indicate that there are<br/>strong multicollinearity or other numerical problems."
      ],
      "text/plain": [
       "<class 'statsmodels.iolib.summary.Summary'>\n",
       "\"\"\"\n",
       "                            OLS Regression Results                            \n",
       "==============================================================================\n",
       "Dep. Variable:       babies_per_woman   R-squared:                       0.768\n",
       "Model:                            OLS   Adj. R-squared:                  0.763\n",
       "Method:                 Least Squares   F-statistic:                     146.9\n",
       "Date:                Tue, 08 Nov 2022   Prob (F-statistic):           4.01e-55\n",
       "Time:                        10:18:04   Log-Likelihood:                -251.93\n",
       "No. Observations:                 182   AIC:                             513.9\n",
       "Df Residuals:                     177   BIC:                             529.9\n",
       "Df Model:                           4                                         \n",
       "Covariance Type:            nonrobust                                         \n",
       "===================================================================================\n",
       "                      coef    std err          t      P>|t|      [0.025      0.975]\n",
       "-----------------------------------------------------------------------------------\n",
       "region[Africa]     12.9538      0.674     19.227      0.000      11.624      14.283\n",
       "region[America]    11.8857      0.836     14.209      0.000      10.235      13.536\n",
       "region[Asia]       12.4526      0.776     16.045      0.000      10.921      13.984\n",
       "region[Europe]     10.7031      0.875     12.229      0.000       8.976      12.430\n",
       "life_expectancy    -0.1193      0.012    -10.047      0.000      -0.143      -0.096\n",
       "==============================================================================\n",
       "Omnibus:                       19.859   Durbin-Watson:                   1.967\n",
       "Prob(Omnibus):                  0.000   Jarque-Bera (JB):               37.777\n",
       "Skew:                           0.529   Prob(JB):                     6.26e-09\n",
       "Kurtosis:                       4.965   Cond. No.                     1.41e+03\n",
       "==============================================================================\n",
       "\n",
       "Notes:\n",
       "[1] Standard Errors assume that the covariance matrix of the errors is correctly specified.\n",
       "[2] The condition number is large, 1.41e+03. This might indicate that there are\n",
       "strong multicollinearity or other numerical problems.\n",
       "\"\"\""
      ]
     },
     "execution_count": 45,
     "metadata": {},
     "output_type": "execute_result"
    }
   ],
   "source": [
    "surviving.summary()"
   ]
  },
  {
   "cell_type": "markdown",
   "metadata": {},
   "source": [
    "We can also use the `anova_lm()` function with our model to estimate the importance of factors in our model."
   ]
  },
  {
   "cell_type": "code",
   "execution_count": 46,
   "metadata": {},
   "outputs": [
    {
     "data": {
      "text/html": [
       "<div>\n",
       "<style scoped>\n",
       "    .dataframe tbody tr th:only-of-type {\n",
       "        vertical-align: middle;\n",
       "    }\n",
       "\n",
       "    .dataframe tbody tr th {\n",
       "        vertical-align: top;\n",
       "    }\n",
       "\n",
       "    .dataframe thead th {\n",
       "        text-align: right;\n",
       "    }\n",
       "</style>\n",
       "<table border=\"1\" class=\"dataframe\">\n",
       "  <thead>\n",
       "    <tr style=\"text-align: right;\">\n",
       "      <th></th>\n",
       "      <th>sum_sq</th>\n",
       "      <th>df</th>\n",
       "      <th>F</th>\n",
       "      <th>PR(&gt;F)</th>\n",
       "    </tr>\n",
       "  </thead>\n",
       "  <tbody>\n",
       "    <tr>\n",
       "      <th>region</th>\n",
       "      <td>973.988539</td>\n",
       "      <td>4.0</td>\n",
       "      <td>253.819435</td>\n",
       "      <td>3.707717e-72</td>\n",
       "    </tr>\n",
       "    <tr>\n",
       "      <th>life_expectancy</th>\n",
       "      <td>96.833677</td>\n",
       "      <td>1.0</td>\n",
       "      <td>100.938638</td>\n",
       "      <td>4.459475e-19</td>\n",
       "    </tr>\n",
       "    <tr>\n",
       "      <th>Residual</th>\n",
       "      <td>169.801784</td>\n",
       "      <td>177.0</td>\n",
       "      <td>NaN</td>\n",
       "      <td>NaN</td>\n",
       "    </tr>\n",
       "  </tbody>\n",
       "</table>\n",
       "</div>"
      ],
      "text/plain": [
       "                     sum_sq     df           F        PR(>F)\n",
       "region           973.988539    4.0  253.819435  3.707717e-72\n",
       "life_expectancy   96.833677    1.0  100.938638  4.459475e-19\n",
       "Residual         169.801784  177.0         NaN           NaN"
      ]
     },
     "execution_count": 46,
     "metadata": {},
     "output_type": "execute_result"
    }
   ],
   "source": [
    "sm.stats.anova_lm(surviving, typ=2)"
   ]
  }
 ],
 "metadata": {
  "kernelspec": {
   "display_name": "Python 3.9.12 ('workshop')",
   "language": "python",
   "name": "python3"
  },
  "language_info": {
   "codemirror_mode": {
    "name": "ipython",
    "version": 3
   },
   "file_extension": ".py",
   "mimetype": "text/x-python",
   "name": "python",
   "nbconvert_exporter": "python",
   "pygments_lexer": "ipython3",
   "version": "3.9.12"
  },
  "vscode": {
   "interpreter": {
    "hash": "5e5670abb08844f1af3bbc7bb9ef8e3b4ef400ad7b254432ac9e559b82ca9501"
   }
  }
 },
 "nbformat": 4,
 "nbformat_minor": 4
}
