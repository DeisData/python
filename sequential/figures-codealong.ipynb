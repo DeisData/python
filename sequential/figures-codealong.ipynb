{
 "cells": [
  {
   "cell_type": "markdown",
   "metadata": {},
   "source": [
    "# Making figures in Python"
   ]
  },
  {
   "cell_type": "markdown",
   "metadata": {},
   "source": [
    "## Matplotlib"
   ]
  },
  {
   "cell_type": "markdown",
   "metadata": {},
   "source": [
    "To create basic data visualizations in Python, we can use the `matplotlib` library, specifically a set of functions in a module called `pyplot`. "
   ]
  },
  {
   "cell_type": "code",
   "execution_count": null,
   "metadata": {},
   "outputs": [],
   "source": []
  },
  {
   "cell_type": "markdown",
   "metadata": {},
   "source": [
    "### Plotting from a data frame\n",
    "Before we can plot, we need to read in our data, the `gapminder.csv` data set."
   ]
  },
  {
   "cell_type": "code",
   "execution_count": 1,
   "metadata": {},
   "outputs": [],
   "source": [
    "df = pd.read_csv(\"https://raw.githubusercontent.com/DeisData/python/master/data/gapminder.csv\") # read in data\n",
    "print(df.head())"
   ]
  },
  {
   "cell_type": "markdown",
   "metadata": {},
   "source": [
    "First, let's make a histogram showing the overall distribution of life expectancy. \n",
    "\n",
    "To do this, we initialize a blank figure and set of axes with `plt.subplots()`. \n",
    "\n",
    "We then directly add the histogram to the axes with `ax.hist()`, being sure to specify the life expectancy column. \n",
    "\n",
    "Finally, we can display the figure with `plt.show()`."
   ]
  },
  {
   "cell_type": "code",
   "execution_count": null,
   "metadata": {},
   "outputs": [],
   "source": []
  },
  {
   "cell_type": "markdown",
   "metadata": {},
   "source": [
    "We also have many customization options. For the histogram itself, we can specify the number of bins, the color of the bins, and color of the bin edges within `hist()`.\n",
    "\n",
    "We can also specify axis labels with `ax.set_xlabel()` and `ax.set_ylabel()`. The plot title is set with `ax.set_title()`.\n",
    "\n"
   ]
  },
  {
   "cell_type": "code",
   "execution_count": null,
   "metadata": {},
   "outputs": [],
   "source": [
    "figure, ax = plt.subplots()\n",
    "ax.hist(df['life_expectancy'])# specify bins, color, and edge color\n",
    "# x axis label\n",
    "# y axis label\n",
    "# add title\n",
    "plt.show()"
   ]
  },
  {
   "cell_type": "markdown",
   "metadata": {},
   "source": [
    "There are many more axis and plot customizations you can do. Be sure check out [the `matplotlib` documentation](https://matplotlib.org/)."
   ]
  },
  {
   "cell_type": "markdown",
   "metadata": {},
   "source": [
    "### Line Plot\n",
    "\n",
    "Line plots are another simple visualization we can make through `matplotlib`.\n",
    "\n",
    "Let's a plot of life expectancy in Jamaica over time. First, we need to subset the data frame to only include data from Jamaica.\n",
    "\n",
    "Then, we make a plot just as we did before, but instead of using `ax.hist()`, we use `ax.plot(x, y)`, putting the year first to specify the x axis, followed by life expectancy for the y. "
   ]
  },
  {
   "cell_type": "code",
   "execution_count": null,
   "metadata": {},
   "outputs": [],
   "source": [
    "# subset data\n",
    "df_jm = df.loc[ df['country']=='Jamaica', :]\n",
    "# create plot\n",
    "figure, ax = plt.subplots()\n",
    "# line plot with plot()\n",
    "\n",
    "ax.set_xlabel('Year')\n",
    "ax.set_ylabel('Life expectancy')\n",
    "ax.set_title('Life expectancy over time in Jamaica')\n",
    "plt.show()\n"
   ]
  },
  {
   "cell_type": "markdown",
   "metadata": {},
   "source": [
    "You can put two lines from separate data sources on the same plot, as well, just by calling `axis.plot()` again, making sure to specify a different color and label. Calling `ax.legend()` will auto-generate a legend."
   ]
  },
  {
   "cell_type": "code",
   "execution_count": null,
   "metadata": {},
   "outputs": [],
   "source": [
    "df_cb = df.loc[ df['country']=='Cuba', :]\n",
    "figure, ax = plt.subplots()\n",
    "# draw two lines, with different colors and different labels\n",
    "\n",
    "\n",
    "ax.set_xlabel('Year')\n",
    "ax.set_ylabel('Life expectancy')\n",
    "ax.set_title('Life expectancy over time in Jamaica and Cuba')\n",
    "# add legend\n",
    "plt.show()"
   ]
  },
  {
   "cell_type": "markdown",
   "metadata": {},
   "source": [
    "### Multipanel Plots\n",
    "\n",
    "You can also subdivide a figure into multiple panels with `plt.subplots(x,y)`, with x being the number of rows, and y being the numbers of columns. This creates an axes object with multiple indexes.\n",
    "\n",
    "First, let's do a simple vertical column with 2 panels with `plt.subplots(2,1)`. To make the different plots, you specify where with `ax[i]`."
   ]
  },
  {
   "cell_type": "code",
   "execution_count": null,
   "metadata": {},
   "outputs": [],
   "source": [
    "# create multiple panels\n",
    "figure, ax = \n",
    "\n",
    "#\n",
    "plt.show()"
   ]
  },
  {
   "cell_type": "markdown",
   "metadata": {},
   "source": [
    "To make labels and titles for the panels, you also need to specify `ax[i]` for each label. Thankfully, we can use `plt.subplots(sharex=True, sharey=True)` to minimize the number of labels. This also makes the axes of the different panels have the same ranges. Make sure your panels use the same units, however."
   ]
  },
  {
   "cell_type": "code",
   "execution_count": null,
   "metadata": {},
   "outputs": [],
   "source": [
    "figure, ax = plt.subplots(2,1)\n",
    "ax[0].plot(df_jm['year'], df_jm['life_expectancy'])\n",
    "ax[1].plot(df_cb['year'], df_cb['life_expectancy'])\n",
    "# axes and titles for Jamaica\n",
    "ax.set_xlabel('Year')\n",
    "ax.set_ylabel('Life expectancy')\n",
    "ax.set_title('Jamaica')\n",
    "# axes and titles for Cuba\n",
    "ax.set_ylabel('Life expectancy')\n",
    "ax.set_title('Cuba')\n",
    "plt.show()"
   ]
  },
  {
   "cell_type": "markdown",
   "metadata": {},
   "source": [
    "If subplots become too squished, you can also change the figure size with `plt.subplots(figsize=(x,y))`."
   ]
  },
  {
   "cell_type": "code",
   "execution_count": null,
   "metadata": {},
   "outputs": [],
   "source": [
    "# create plot\n",
    "figure, ax = plt.subplots(2,1, sharex=True, sharey=True) # rows by columns\n",
    "ax[0].plot(df_jm['year'], df_jm['life_expectancy'])\n",
    "ax[1].plot(df_cb['year'], df_cb['life_expectancy'])\n",
    "ax[1].set_xlabel('Year')\n",
    "ax[0].set_ylabel('Life expectancy')\n",
    "ax[0].set_title('Jamaica')\n",
    "ax[1].set_ylabel('Life expectancy')\n",
    "ax[1].set_title('Cuba')\n",
    "plt.show()"
   ]
  },
  {
   "cell_type": "markdown",
   "metadata": {},
   "source": [
    "If we want to use multiple rows and columns, we now gain another index (`ax[i,j]`). "
   ]
  },
  {
   "cell_type": "code",
   "execution_count": null,
   "metadata": {},
   "outputs": [],
   "source": [
    "df_us = df.loc[ df['country']=='United States', :]\n",
    "df_ca = df.loc[ df['country']=='Canada', :]\n",
    "\n",
    "figure, ax = plt.subplots(2,2, sharex=True, sharey=True, figsize=(8,8)) # rows by columns\n",
    "ax[0,0].plot(df_jm['year'], df_jm['life_expectancy'])\n",
    "ax[0,0].set_title('Jamaica')\n",
    "ax[0,1].plot(df_cb['year'], df_cb['life_expectancy'])\n",
    "ax[0,1].set_title('Cuba')\n",
    "ax[1,0].plot(df_us['year'], df_us['life_expectancy'])\n",
    "ax[1,0].set_title('United States')\n",
    "ax[1,1].plot(df_ca['year'], df_ca['life_expectancy'])\n",
    "ax[1,1].set_title('Canada')\n",
    "plt.show()"
   ]
  },
  {
   "cell_type": "markdown",
   "metadata": {},
   "source": [
    "When the number of panels, the amount of code duplication can get a little out of hand. Here, we use a nested `for` loop and nested list to reduce the amount of code needed for a 3 x 3 figure. \n",
    "\n",
    "We generate a blank multipanel figure before the loops. We then make one row at a time, going left to right, making a new subset for each panel."
   ]
  },
  {
   "cell_type": "code",
   "execution_count": null,
   "metadata": {},
   "outputs": [],
   "source": [
    "# how many rows and columns?\n",
    "nrow = 3\n",
    "ncol = 3\n",
    "\n",
    "# draw axes\n",
    "\n",
    "# list of lists of countries -> 3x3\n",
    "countries = [\n",
    "    ['Jamaica', 'Cuba', 'United States'], \n",
    "    ['Canada', 'India', 'China'], \n",
    "    ['Nigeria','France', 'Germany']\n",
    "]\n",
    "\n",
    "# nested for loop"
   ]
  },
  {
   "cell_type": "markdown",
   "metadata": {},
   "source": [
    "## Seaborn\n",
    "\n",
    "Seaborn is another plotting library in Python. It has many different figure themes and color palettes built in to make great visualizations out of the box. It has its own syntax and functions, but it also has compatibility with Matplotlib, if you would like to use the same functions but with Seaborn aesthetics."
   ]
  },
  {
   "cell_type": "code",
   "execution_count": null,
   "metadata": {},
   "outputs": [],
   "source": []
  },
  {
   "cell_type": "markdown",
   "metadata": {},
   "source": [
    "Seaborn allows you to set a theme that will be used for subsequently created figures. We will use the default theme with `sns.set_theme()`."
   ]
  },
  {
   "cell_type": "code",
   "execution_count": null,
   "metadata": {},
   "outputs": [],
   "source": [
    "# Apply the default theme\n"
   ]
  },
  {
   "cell_type": "markdown",
   "metadata": {},
   "source": [
    "For info on setting themes and palettes, see the [Seaborn documentation](https://seaborn.pydata.org/generated/seaborn.set_theme.html).\n",
    "\n",
    "We can make a stacked histogram with `sns.histplot()`. We specify the data source as `df` with `data=df`. Once we do this, we can specify that the x-values will be from the `life_expectancy` column, and the colors of the stacks will be from `region`."
   ]
  },
  {
   "cell_type": "code",
   "execution_count": null,
   "metadata": {},
   "outputs": [],
   "source": []
  },
  {
   "cell_type": "markdown",
   "metadata": {},
   "source": [
    "Seaborn also fully integrates with Matplotlib. Once you use a Seaborn theme, Matplotlib will also use that theme."
   ]
  },
  {
   "cell_type": "code",
   "execution_count": null,
   "metadata": {},
   "outputs": [],
   "source": [
    "## same code as above for 3x3 plot\n",
    "\n",
    "# how many rows and columns?\n",
    "nrow = 3\n",
    "ncol = 3\n",
    "\n",
    "# draw axes\n",
    "figure, ax = plt.subplots(nrow,ncol, sharex=True, sharey=True, figsize=(10,10)) \n",
    "\n",
    "# list of lists of countries -> 3x3\n",
    "countries = [\n",
    "    ['Jamaica', 'Cuba', 'United States'], \n",
    "    ['Canada', 'India', 'China'], \n",
    "    ['Nigeria','France', 'Germany']\n",
    "]\n",
    "\n",
    "for i in range(nrow): # i goes from 0 - 2\n",
    "    \n",
    "    for j in range(ncol): # j goes from 0 - 2\n",
    "        \n",
    "        country = countries[i][j]\n",
    "        df_sub = df.loc[ df['country']==country, :]\n",
    "        \n",
    "        ax[i,j].plot(df_sub['year'], df_sub['life_expectancy'], color='#333') \n",
    "        ax[i,j].set_xlabel('Year')\n",
    "        ax[i,j].set_ylabel('Life expectancy')\n",
    "        ax[i,j].set_title(country) # make sure to give each a title\n",
    "\n",
    "plt.show()"
   ]
  },
  {
   "cell_type": "markdown",
   "metadata": {},
   "source": [
    "### Question\n",
    "\n",
    "Plot histograms of `population` for each region in the year 2000 in the `gapminder.csv` data set. You can do this in one or multiple panels.\n",
    "\n",
    "*Hint*: To make the histogram look a little better, you can import `numpy.log10` to transform `population`."
   ]
  },
  {
   "cell_type": "code",
   "execution_count": 2,
   "metadata": {},
   "outputs": [],
   "source": [
    "### your code here:\n"
   ]
  },
  {
   "cell_type": "markdown",
   "metadata": {},
   "source": [
    "## Resources\n",
    "\n",
    "You can make virtually any plot and customization you can think of in Python. Some searching online will go a long way in showing how to do construct your dream figure. \n",
    "\n",
    "- [More on Matplotlib](https://matplotlib.org/)\n",
    "- [More on Seaborn](https://seaborn.pydata.org/index.html)\n",
    "- [Python Graph Gallery](https://www.python-graph-gallery.com/)"
   ]
  }
 ],
 "metadata": {
  "kernelspec": {
   "display_name": "Python 3.9.12 ('workshop')",
   "language": "python",
   "name": "python3"
  },
  "language_info": {
   "codemirror_mode": {
    "name": "ipython",
    "version": 3
   },
   "file_extension": ".py",
   "mimetype": "text/x-python",
   "name": "python",
   "nbconvert_exporter": "python",
   "pygments_lexer": "ipython3",
   "version": "3.9.12"
  },
  "orig_nbformat": 4,
  "vscode": {
   "interpreter": {
    "hash": "5e5670abb08844f1af3bbc7bb9ef8e3b4ef400ad7b254432ac9e559b82ca9501"
   }
  }
 },
 "nbformat": 4,
 "nbformat_minor": 2
}
