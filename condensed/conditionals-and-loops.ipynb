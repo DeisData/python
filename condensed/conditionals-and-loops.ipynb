{
 "cells": [
  {
   "cell_type": "markdown",
   "metadata": {},
   "source": [
    "# Conditionals and loops"
   ]
  },
  {
   "cell_type": "markdown",
   "metadata": {},
   "source": [
    "Often in code, we want to take different actions based on the current state of our program (e.g., do we have more or less than 100 samples in our data?). We can ask yes or no questions about this state called **boolean expressions**. These questions are answered as **true** or **false**. We can design the program to perform an action based on the response, which is called a **conditional**. "
   ]
  },
  {
   "cell_type": "markdown",
   "metadata": {},
   "source": [
    "## Conditionals\n",
    "\n",
    "### If statements\n",
    "\n",
    "With **conditionals**, we can make decisions based on whether something is true or false. We do this with `if` statements. The general syntax follows this format:"
   ]
  },
  {
   "cell_type": "code",
   "execution_count": 12,
   "metadata": {},
   "outputs": [],
   "source": [
    "if 5 < 10:\n",
    "    \n",
    "    print('hello!')"
   ]
  },
  {
   "cell_type": "markdown",
   "metadata": {},
   "source": [
    "To break this down:\n",
    "- `if` keyword is first word in line\n",
    "- **Boolean expression** -> question or a comparison (`10 < 5`) followed by a colon\n",
    "- Code below that is tabbed over\n",
    "- If the expression is true, the code that is below and tabbed is run\n",
    "- If the expression is false, nothing happens\n",
    "\n",
    "Because `5` is less than `10`, the expression is true, so the code in the `if` statement is run. "
   ]
  },
  {
   "cell_type": "code",
   "execution_count": 4,
   "metadata": {},
   "outputs": [],
   "source": [
    "if 1 > 2:\n",
    "    print('hello')"
   ]
  },
  {
   "cell_type": "markdown",
   "metadata": {},
   "source": [
    "Here, nothing was printed, as `1` is not greater than `2`."
   ]
  },
  {
   "cell_type": "markdown",
   "metadata": {},
   "source": [
    "## Booleans\n",
    "\n",
    "If we run `5 < 10` in its cell, we get `True`.\n"
   ]
  },
  {
   "cell_type": "code",
   "execution_count": 1,
   "metadata": {},
   "outputs": [
    {
     "data": {
      "text/plain": [
       "True"
      ]
     },
     "execution_count": 1,
     "metadata": {},
     "output_type": "execute_result"
    }
   ],
   "source": [
    "5 < 10"
   ]
  },
  {
   "cell_type": "markdown",
   "metadata": {},
   "source": [
    "Similarly, if we run `1 > 2`, we get back `False`."
   ]
  },
  {
   "cell_type": "code",
   "execution_count": 6,
   "metadata": {},
   "outputs": [
    {
     "data": {
      "text/plain": [
       "False"
      ]
     },
     "execution_count": 6,
     "metadata": {},
     "output_type": "execute_result"
    }
   ],
   "source": [
    "1 > 2"
   ]
  },
  {
   "cell_type": "markdown",
   "metadata": {},
   "source": [
    "\n",
    "`True` and `False` are keywords in Python. They are a unique data type called **booleans**. You cannot name a variable `True` or `False`.\n",
    "\n",
    "Capitalization is critical. Booleans in Python have their first letter capitalized and the rest lower-case."
   ]
  },
  {
   "cell_type": "code",
   "execution_count": 7,
   "metadata": {},
   "outputs": [
    {
     "ename": "SyntaxError",
     "evalue": "cannot assign to True (1770609971.py, line 1)",
     "output_type": "error",
     "traceback": [
      "\u001b[0;36m  Input \u001b[0;32mIn [7]\u001b[0;36m\u001b[0m\n\u001b[0;31m    True = 1\u001b[0m\n\u001b[0m    ^\u001b[0m\n\u001b[0;31mSyntaxError\u001b[0m\u001b[0;31m:\u001b[0m cannot assign to True\n"
     ]
    }
   ],
   "source": [
    "True = 1"
   ]
  },
  {
   "cell_type": "markdown",
   "metadata": {},
   "source": [
    "We can use them, as values, however. "
   ]
  },
  {
   "cell_type": "code",
   "execution_count": null,
   "metadata": {},
   "outputs": [
    {
     "name": "stdout",
     "output_type": "stream",
     "text": [
      "False\n"
     ]
    }
   ],
   "source": [
    "f = False\n",
    "print(f)"
   ]
  },
  {
   "cell_type": "code",
   "execution_count": null,
   "metadata": {},
   "outputs": [
    {
     "name": "stdout",
     "output_type": "stream",
     "text": [
      "True\n"
     ]
    }
   ],
   "source": [
    "t = True\n",
    "print(t)"
   ]
  },
  {
   "cell_type": "markdown",
   "metadata": {},
   "source": [
    "## Boolean expressions\n",
    "Boolean expressions essentially ask questions that evaluate as `True` or `False`. These can examine whether two values are equal, if one is larger than another, or similar questions. To ask these questions we need to use special boolean operators that you'll see below.\n",
    "\n",
    "Boolean expressions are best used between the same data types. You can easily get unexpected results when comparing strings and ints, for instance. "
   ]
  },
  {
   "cell_type": "markdown",
   "metadata": {},
   "source": [
    "### Equality: `==`\n",
    "\n",
    "The operator `==` is used to check if two items are equal to each other. \n",
    "Note the distinction between `=`, which is used for variable assignment, and \n",
    "`==`, which checks for equality."
   ]
  },
  {
   "cell_type": "code",
   "execution_count": null,
   "metadata": {},
   "outputs": [
    {
     "data": {
      "text/plain": [
       "True"
      ]
     },
     "execution_count": 23,
     "metadata": {},
     "output_type": "execute_result"
    }
   ],
   "source": [
    "\"bad\" == \"bad\""
   ]
  },
  {
   "cell_type": "code",
   "execution_count": null,
   "metadata": {},
   "outputs": [
    {
     "data": {
      "text/plain": [
       "False"
      ]
     },
     "execution_count": 24,
     "metadata": {},
     "output_type": "execute_result"
    }
   ],
   "source": [
    "2 == 3"
   ]
  },
  {
   "cell_type": "markdown",
   "metadata": {},
   "source": [
    "*Note: checking for equality for floats can be tricky given common rounding errors. Try to avoid if possible, and test for inequality (see below).* "
   ]
  },
  {
   "cell_type": "markdown",
   "metadata": {},
   "source": [
    "### Not equals: `!=`\n",
    "\n",
    "Similar, we can use `!=` to check if two items are not equal to each other. \n",
    "`!=` will always return the opposite of `==` for any given comparison."
   ]
  },
  {
   "cell_type": "code",
   "execution_count": null,
   "metadata": {},
   "outputs": [
    {
     "data": {
      "text/plain": [
       "True"
      ]
     },
     "execution_count": 25,
     "metadata": {},
     "output_type": "execute_result"
    }
   ],
   "source": [
    "\"bad\" != \"BAD\" # capitalization matters!"
   ]
  },
  {
   "cell_type": "code",
   "execution_count": null,
   "metadata": {},
   "outputs": [
    {
     "data": {
      "text/plain": [
       "False"
      ]
     },
     "execution_count": 26,
     "metadata": {},
     "output_type": "execute_result"
    }
   ],
   "source": [
    "\"bad\" != \"bad\""
   ]
  },
  {
   "cell_type": "markdown",
   "metadata": {},
   "source": [
    "We can use these in an `if` statement."
   ]
  },
  {
   "cell_type": "code",
   "execution_count": null,
   "metadata": {},
   "outputs": [],
   "source": [
    "if 'a' == 'A':\n",
    "    print('the same')"
   ]
  },
  {
   "cell_type": "code",
   "execution_count": null,
   "metadata": {},
   "outputs": [],
   "source": [
    "n1 = 10\n",
    "n2 = 4 + 5\n",
    "\n",
    "if n1 != n2:\n",
    "    print('numbers are not the same')"
   ]
  },
  {
   "cell_type": "markdown",
   "metadata": {},
   "source": [
    "### Inequalities"
   ]
  },
  {
   "cell_type": "markdown",
   "metadata": {},
   "source": [
    "We saw inequalities above. However, there are actually 4 different boolean operators for comparing inequalities: less than (`<`), less than or equal to (`<=`), greater than (`>`), and greater than or equal to (`>=`)."
   ]
  },
  {
   "cell_type": "code",
   "execution_count": null,
   "metadata": {},
   "outputs": [
    {
     "data": {
      "text/plain": [
       "True"
      ]
     },
     "execution_count": 27,
     "metadata": {},
     "output_type": "execute_result"
    }
   ],
   "source": [
    "1 < 4"
   ]
  },
  {
   "cell_type": "code",
   "execution_count": null,
   "metadata": {},
   "outputs": [
    {
     "data": {
      "text/plain": [
       "True"
      ]
     },
     "execution_count": 2,
     "metadata": {},
     "output_type": "execute_result"
    }
   ],
   "source": [
    "5.1 > 5.0"
   ]
  },
  {
   "cell_type": "code",
   "execution_count": null,
   "metadata": {},
   "outputs": [
    {
     "data": {
      "text/plain": [
       "True"
      ]
     },
     "execution_count": 29,
     "metadata": {},
     "output_type": "execute_result"
    }
   ],
   "source": [
    "3 >= 3"
   ]
  },
  {
   "cell_type": "code",
   "execution_count": null,
   "metadata": {},
   "outputs": [
    {
     "data": {
      "text/plain": [
       "False"
      ]
     },
     "execution_count": 30,
     "metadata": {},
     "output_type": "execute_result"
    }
   ],
   "source": [
    "7 <= 3"
   ]
  },
  {
   "cell_type": "markdown",
   "metadata": {},
   "source": [
    "### Inclusivity: `in`\n",
    "\n",
    "We can use the keyword `in` to check if an item is in a data structure (list, dictionary, set, tuple)."
   ]
  },
  {
   "cell_type": "code",
   "execution_count": null,
   "metadata": {},
   "outputs": [
    {
     "data": {
      "text/plain": [
       "True"
      ]
     },
     "execution_count": 31,
     "metadata": {},
     "output_type": "execute_result"
    }
   ],
   "source": [
    "my_list = [ 'apple', 'pear', 'grape' ]\n",
    "'apple' in my_list"
   ]
  },
  {
   "cell_type": "markdown",
   "metadata": {},
   "source": [
    "You can also use `in` to check if a smaller string is a part of a larger string."
   ]
  },
  {
   "cell_type": "code",
   "execution_count": null,
   "metadata": {},
   "outputs": [
    {
     "name": "stdout",
     "output_type": "stream",
     "text": [
      "False\n",
      "True\n"
     ]
    }
   ],
   "source": [
    "print('i' in 'team')\n",
    "print('i' in 'win')"
   ]
  },
  {
   "cell_type": "code",
   "execution_count": null,
   "metadata": {},
   "outputs": [
    {
     "name": "stdout",
     "output_type": "stream",
     "text": [
      "False\n"
     ]
    }
   ],
   "source": [
    "print('good movie' in 'star wars sequel trilogy')"
   ]
  },
  {
   "cell_type": "markdown",
   "metadata": {},
   "source": [
    "### `not`\n",
    "Just as adding not in a sentence reverses its meaning (e.g., \"The desk is red.\" vs \"The desk is not red.\"), adding the keyword `not` in front of a boolean expression reverses the value returned -> `not 0 == 0` returns `False`."
   ]
  },
  {
   "cell_type": "code",
   "execution_count": null,
   "metadata": {},
   "outputs": [
    {
     "data": {
      "text/plain": [
       "False"
      ]
     },
     "execution_count": 35,
     "metadata": {},
     "output_type": "execute_result"
    }
   ],
   "source": [
    "not 20 < 40"
   ]
  },
  {
   "cell_type": "code",
   "execution_count": null,
   "metadata": {},
   "outputs": [
    {
     "data": {
      "text/plain": [
       "True"
      ]
     },
     "execution_count": 36,
     "metadata": {},
     "output_type": "execute_result"
    }
   ],
   "source": [
    "not 'apple' in 'grape'"
   ]
  },
  {
   "cell_type": "code",
   "execution_count": null,
   "metadata": {},
   "outputs": [
    {
     "data": {
      "text/plain": [
       "False"
      ]
     },
     "execution_count": 37,
     "metadata": {},
     "output_type": "execute_result"
    }
   ],
   "source": [
    "not True"
   ]
  },
  {
   "cell_type": "markdown",
   "metadata": {},
   "source": [
    "### Order of Operations"
   ]
  },
  {
   "cell_type": "markdown",
   "metadata": {},
   "source": [
    "We can chain together boolean comparisons with `and` and `or`. \n",
    "\n",
    "Putting `and` between two booleans will make the whole statement true only both statements are true. \n",
    " "
   ]
  },
  {
   "cell_type": "code",
   "execution_count": null,
   "metadata": {},
   "outputs": [
    {
     "data": {
      "text/plain": [
       "True"
      ]
     },
     "execution_count": 38,
     "metadata": {},
     "output_type": "execute_result"
    }
   ],
   "source": [
    "3 < 4 and \"banana\" == \"banana\""
   ]
  },
  {
   "cell_type": "markdown",
   "metadata": {},
   "source": [
    "On the other hand, `or` only needs one of the statements to be true."
   ]
  },
  {
   "cell_type": "code",
   "execution_count": null,
   "metadata": {},
   "outputs": [
    {
     "data": {
      "text/plain": [
       "True"
      ]
     },
     "execution_count": 39,
     "metadata": {},
     "output_type": "execute_result"
    }
   ],
   "source": [
    "2 == 3 or 2 == 2"
   ]
  },
  {
   "cell_type": "markdown",
   "metadata": {},
   "source": [
    "We can use this syntax in an `if` statement, as well."
   ]
  },
  {
   "cell_type": "code",
   "execution_count": null,
   "metadata": {},
   "outputs": [],
   "source": [
    "x = 0\n",
    "a = 'a'\n",
    "letters = ['a', 'b', 'c', 'd']\n",
    "\n",
    "if x > -1 and a in letters:\n",
    "    \n",
    "    print('My number:',x)\n",
    "    print('My letter:',a)"
   ]
  },
  {
   "cell_type": "markdown",
   "metadata": {},
   "source": [
    "Order of operations work with boolean expressions similarly to math. Comparisons run left to right, unless you put parentheses around the comparisons."
   ]
  },
  {
   "cell_type": "code",
   "execution_count": null,
   "metadata": {},
   "outputs": [
    {
     "name": "stdout",
     "output_type": "stream",
     "text": [
      "True\n",
      "False\n"
     ]
    }
   ],
   "source": [
    "print(not 2 == 3 or 2 == 2)\n",
    "print(not (2 == 3 or 2 == 2)) # parentheses matter!"
   ]
  },
  {
   "cell_type": "markdown",
   "metadata": {},
   "source": [
    "### Question 1: Boolean expressions"
   ]
  },
  {
   "cell_type": "markdown",
   "metadata": {},
   "source": [
    "Does the following code evalutate as `True` or `False`?"
   ]
  },
  {
   "cell_type": "code",
   "execution_count": null,
   "metadata": {},
   "outputs": [],
   "source": [
    "n1 = 45\n",
    "n2 = -23\n",
    "n3 = 0\n",
    "s1 = 'hello'\n",
    "s2 = 'goodbye'\n",
    "\n",
    "not (n2 < n3 and s1 == s2 or n1 >= n3)"
   ]
  },
  {
   "cell_type": "markdown",
   "metadata": {},
   "source": [
    "### Question 2: Boolean types\n",
    "What happens when you compare different data types with `==`? What about `>`, `<`, `<=`, or `>=`?"
   ]
  },
  {
   "cell_type": "markdown",
   "metadata": {},
   "source": [
    "### if-else statement\n",
    "\n",
    "Often in coding, we want one thing to happen if an expression is true, and another to happen if it is false. To accomplish this, we can add an `else` statement below the `if` statement. This will always be evaluated if the expression after `if` is `False`, otherwise it will not run: the `if` and `else` are mutually exclusive."
   ]
  },
  {
   "cell_type": "code",
   "execution_count": null,
   "metadata": {},
   "outputs": [
    {
     "name": "stdout",
     "output_type": "stream",
     "text": [
      "Greater than 20\n"
     ]
    }
   ],
   "source": [
    "x = 23\n",
    "\n",
    "if x < 20: # if x less than 20; False\n",
    "    \n",
    "    print('Less than 20')\n",
    "\n",
    "else: # x greater or equal to 20 \n",
    "    \n",
    "    print('Greater than 20')"
   ]
  },
  {
   "cell_type": "markdown",
   "metadata": {},
   "source": [
    "### Question 3: if-else\n",
    "\n",
    "Create a variable called `num` and assign it the value of some number. Create an if-else statement that checks to see if `num` negative is negative or not.\n",
    "\n",
    "If `num` is negative, multiply `num` by `-1` to make it positive, then print the new value.\n",
    "\n",
    "If `num` is positive, multiply the number by itself (square it), and print this new value. \n",
    "\n",
    "Try your code with different values for `num`.\n",
    "\n"
   ]
  },
  {
   "cell_type": "markdown",
   "metadata": {},
   "source": [
    "### `elif`\n",
    "\n",
    "What if you want to differentiate between more than 2 conditions? We can use the `elif` keyword, which stands for `else if`. This goes between the `if` and the `else` statements, and must include a new boolean expression.\n",
    "\n",
    "Again, these options are all mutually exclusive. If the `elif` code is run, that means the `if` and `else` code do not run."
   ]
  },
  {
   "cell_type": "code",
   "execution_count": null,
   "metadata": {},
   "outputs": [
    {
     "name": "stdout",
     "output_type": "stream",
     "text": [
      "y ia between 100 and 200\n"
     ]
    }
   ],
   "source": [
    "y = 101\n",
    "\n",
    "if y < 100: # y less than 100\n",
    "    \n",
    "    print('y is less than 100')\n",
    "\n",
    "elif y < 200: # y is 100-200 (excluding 200)\n",
    "    \n",
    "    print('y ia between 100 and 200')\n",
    "\n",
    "else: # y is 200 or larger\n",
    "    \n",
    "    print('y is a big number')\n"
   ]
  },
  {
   "cell_type": "markdown",
   "metadata": {},
   "source": [
    "If we use `elif`, an `else` statement is not required. This will may result in neither the code associated with `if` nor `elif` running, however."
   ]
  },
  {
   "cell_type": "code",
   "execution_count": null,
   "metadata": {},
   "outputs": [],
   "source": [
    "y = 400\n",
    "\n",
    "if y < 100:\n",
    "    \n",
    "    print('y is less than 100')\n",
    "\n",
    "elif y < 200:\n",
    "    \n",
    "    print('y ia between 100 and 200')\n",
    "\n",
    "# nothing prints here"
   ]
  },
  {
   "cell_type": "markdown",
   "metadata": {},
   "source": [
    "Regardless of if there is an `else` statement or not, we can also include as many `elif` conditions as we want."
   ]
  },
  {
   "cell_type": "code",
   "execution_count": null,
   "metadata": {},
   "outputs": [
    {
     "name": "stdout",
     "output_type": "stream",
     "text": [
      "That belongs in a museum!!\n"
     ]
    }
   ],
   "source": [
    "favorite_movie = 'Indiana Jones'\n",
    "\n",
    "if favorite_movie == 'Batman':\n",
    "    print(\"I'm Batman.\")\n",
    "\n",
    "elif favorite_movie == 'Lord of the Rings':\n",
    "    print(\"And my axe!!\")\n",
    "\n",
    "elif favorite_movie == 'Indiana Jones':\n",
    "    print('That belongs in a museum!!')\n",
    "\n",
    "elif favorite_movie == 'The Matrix':\n",
    "    print('whoa')\n",
    "\n",
    "else:\n",
    "    print('No quotes available :(')"
   ]
  },
  {
   "cell_type": "markdown",
   "metadata": {},
   "source": [
    "### Question 4: if-elif-else\n",
    "\n",
    "Consider this code:\n",
    "\n",
    "```python\n",
    "if 4 > 5:\n",
    "    print('A')\n",
    "elif 4 == 5:\n",
    "    print('B')\n",
    "elif 4 < 5:\n",
    "    print('C')\n",
    "```\n",
    "\n",
    "Which of the following would be printed if you were to run this code? Why did you pick this answer?\n",
    "\n",
    "1. A\n",
    "2. B\n",
    "3. C\n",
    "4. B and C"
   ]
  },
  {
   "cell_type": "markdown",
   "metadata": {},
   "source": [
    "### Question 5: Conditionals\n",
    "\n",
    "Write code that will prints the square root of `x` if x is larger than 20 and `0` if x is less than `0`.\n",
    "\n",
    "**Bonus**: Print an error message if x is a string or a boolean. \n"
   ]
  },
  {
   "cell_type": "code",
   "execution_count": null,
   "metadata": {},
   "outputs": [],
   "source": [
    "### Your code here:"
   ]
  },
  {
   "cell_type": "markdown",
   "metadata": {},
   "source": [
    "### Question 6: More conditionals \n",
    "\n",
    "Create a list called `my_list` with the numbers 0 through 3 in it. Create a variable called `x` with some value.\n",
    "\n",
    "Create a series of conditionals that check to see if the value in `x` is in `my_list`. \n",
    "\n",
    "If this is the case, print out different text depending on what index the item is at in the list.\n",
    "\n",
    "0. \"From zero to hero\"\n",
    "1. \"One is the loneliest number.\"\n",
    "2. \"Two's company.\"\n",
    "3. \"Three's a crowd.\""
   ]
  },
  {
   "cell_type": "code",
   "execution_count": null,
   "metadata": {},
   "outputs": [],
   "source": [
    "# your code here"
   ]
  },
  {
   "cell_type": "markdown",
   "metadata": {},
   "source": [
    "## Loops\n",
    "\n",
    "Often, programs need to do the same task several times repeatedly. You may need to run a task just a handful of times, or maybe thousands of times.\n",
    "\n",
    "For example, say you want to print out all of the numbers 0 - 5. You could write `print()` 5 times:"
   ]
  },
  {
   "cell_type": "code",
   "execution_count": null,
   "metadata": {},
   "outputs": [],
   "source": [
    "print(0)\n",
    "print(1)\n",
    "print(2)\n",
    "print(3)\n",
    "print(4)\n",
    "print(5)"
   ]
  },
  {
   "cell_type": "markdown",
   "metadata": {},
   "source": [
    "However, if you want to expand this even a few numbers further, it gets very tedious very quickly.\n",
    "\n",
    "To save us from having to have the same code duplicated over and over, we have **loops**. They are incredibly powerful tools for examining large amounts of information. Here we will be looking at **`for` loops**."
   ]
  },
  {
   "cell_type": "markdown",
   "metadata": {},
   "source": [
    "## For loops\n",
    "\n",
    "`for` loops are one of the most powerful tools that base Python has to offer. `for` loops take **iterables** (lists, dictionaries, sets, tuples, even strings) and perform the same actions to each item contained within them.  "
   ]
  },
  {
   "cell_type": "markdown",
   "metadata": {},
   "source": [
    "In the code below, each number in a list gets added to 20, and then the sum is printed. We call this **iterating** over the items in the list. Note the keywords `for` and `in`."
   ]
  },
  {
   "cell_type": "code",
   "execution_count": null,
   "metadata": {},
   "outputs": [
    {
     "name": "stdout",
     "output_type": "stream",
     "text": [
      "20\n",
      "21\n",
      "22\n",
      "23\n",
      "24\n",
      "25\n"
     ]
    }
   ],
   "source": [
    "num_list = [0, 1, 2, 3, 4, 5] # list of numbers\n",
    "\n",
    "for n in num_list: # one at a time, make each of those numbers n\n",
    "    \n",
    "    print(n + 20) # print that number + 20"
   ]
  },
  {
   "cell_type": "markdown",
   "metadata": {},
   "source": [
    "Let's break down this code:\n",
    "- `num_list = [0, 1, 2, 3, 4, 5]`: Makes a list of integers 0-5.\n",
    "- `for n in num_list:`: Take the first item in num_list and assign its value to `n`.\n",
    "- `print(n + 20)`: Add n and 20 and print the sum.\n",
    "- We then go back to the start of the loop, take the next item, assign it to `n`, and start all over again.\n",
    "\n",
    "For ordered iterables, like lists, tuples, and strings, `for` loops iterate over these groups in order."
   ]
  },
  {
   "cell_type": "markdown",
   "metadata": {},
   "source": [
    "Just like normal variable names, the variable name we use after `for` is arbitrary, though short and descriptive is best. "
   ]
  },
  {
   "cell_type": "code",
   "execution_count": null,
   "metadata": {},
   "outputs": [
    {
     "name": "stdout",
     "output_type": "stream",
     "text": [
      "0\n",
      "1\n",
      "2\n",
      "3\n",
      "4\n",
      "5\n"
     ]
    }
   ],
   "source": [
    "for triangle in num_list: # 0 is not a triangle\n",
    "    \n",
    "    print(triangle)"
   ]
  },
  {
   "cell_type": "markdown",
   "metadata": {},
   "source": [
    "If you want to quickly create a range of numbers to iterate over, the `range()` function generates numbers from 0 to the int you provide (but not including it)."
   ]
  },
  {
   "cell_type": "code",
   "execution_count": null,
   "metadata": {},
   "outputs": [
    {
     "name": "stdout",
     "output_type": "stream",
     "text": [
      "0\n",
      "1\n",
      "2\n",
      "3\n"
     ]
    }
   ],
   "source": [
    "for i in range(4): # includes 0, but not 4\n",
    "    \n",
    "    print(i)"
   ]
  },
  {
   "cell_type": "markdown",
   "metadata": {},
   "source": [
    "You can add another number to the start of `range()` to set a starting point, as well. "
   ]
  },
  {
   "cell_type": "code",
   "execution_count": null,
   "metadata": {},
   "outputs": [
    {
     "name": "stdout",
     "output_type": "stream",
     "text": [
      "1\n",
      "2\n",
      "3\n"
     ]
    }
   ],
   "source": [
    "for i in range(1, 4):\n",
    "    print(i)"
   ]
  },
  {
   "cell_type": "markdown",
   "metadata": {},
   "source": [
    "We can start to use for loops to do tasks with strings, as well."
   ]
  },
  {
   "cell_type": "code",
   "execution_count": null,
   "metadata": {},
   "outputs": [
    {
     "name": "stdout",
     "output_type": "stream",
     "text": [
      "I like to eat eggs.\n",
      "I like to eat cereal.\n",
      "I like to eat oatmeal.\n",
      "I like to eat toast.\n"
     ]
    }
   ],
   "source": [
    "my_breakfast = ['eggs', 'cereal', 'oatmeal', 'toast'] \n",
    "\n",
    "for food in my_breakfast: # for each string in the list of string\n",
    "    \n",
    "    sentence = 'I like to eat ' + food + '.'\n",
    "    print(sentence)"
   ]
  },
  {
   "cell_type": "markdown",
   "metadata": {},
   "source": [
    "### Question 7: Squaring\n",
    "\n",
    "Create a blank list as a variable.\n",
    "\n",
    "Using a for loop, append that list with `.append()` with the square of all integers from 5 to 15. "
   ]
  },
  {
   "cell_type": "code",
   "execution_count": null,
   "metadata": {},
   "outputs": [],
   "source": [
    "# your code here"
   ]
  },
  {
   "cell_type": "markdown",
   "metadata": {},
   "source": [
    "### Question 8: Looping over a string\n",
    "\n",
    "Given the following loop:\n",
    "\n",
    "```python\n",
    "word = 'oxygen'\n",
    "for letter in word:\n",
    "    print(letter)\n",
    "\n",
    "```\n",
    "How many times is the body of the loop executed?\n",
    "\n",
    "- 3 times\n",
    "- 4 times\n",
    "- 5 times\n",
    "- 6 times"
   ]
  },
  {
   "cell_type": "markdown",
   "metadata": {},
   "source": [
    "## Adding in conditionals\n",
    "`for` loops can become quite powerful when you include conditionals that change behavior based on the item in the current iteration."
   ]
  },
  {
   "cell_type": "code",
   "execution_count": null,
   "metadata": {},
   "outputs": [
    {
     "name": "stdout",
     "output_type": "stream",
     "text": [
      "I do not like to eat eggs.\n",
      "I like to eat cereal.\n",
      "I like to eat oatmeal.\n",
      "I like to eat toast.\n"
     ]
    }
   ],
   "source": [
    "for food in my_breakfast:\n",
    "    \n",
    "    if food == 'eggs': # if food is currently 'eggs'\n",
    "        \n",
    "        sentence = 'I do not like to eat ' + food + '.'\n",
    "    \n",
    "    else: # for all other values of food\n",
    "    \n",
    "        sentence = 'I like to eat ' + food + '.'\n",
    "        \n",
    "    print(sentence)"
   ]
  },
  {
   "cell_type": "markdown",
   "metadata": {},
   "source": [
    "We can even use full `if`-`elif`-`else` statements."
   ]
  },
  {
   "cell_type": "code",
   "execution_count": null,
   "metadata": {},
   "outputs": [
    {
     "name": "stdout",
     "output_type": "stream",
     "text": [
      "I do not like to eat eggs.\n",
      "I like to eat cereal.\n",
      "I like to eat oatmeal.\n",
      "I sometimes like to eat toast.\n"
     ]
    }
   ],
   "source": [
    "for food in my_breakfast:\n",
    "    \n",
    "    if len(food) < 5: # if the length of string is less than 5\n",
    "        \n",
    "        sentence = 'I do not like to eat ' + food + '.'\n",
    "    \n",
    "    elif len(food) < 6: # if the length is 5\n",
    "    \n",
    "        sentence = 'I sometimes like to eat ' + food + '.'\n",
    "    \n",
    "    else: # if the length is greater than 5\n",
    "        \n",
    "        sentence = 'I like to eat ' + food + '.'\n",
    "        \n",
    "    print(sentence)"
   ]
  },
  {
   "cell_type": "markdown",
   "metadata": {},
   "source": [
    "### Question 9: `for` loops\n",
    "\n",
    "Iterate over all integers from 0 to 1000 and print all multiples of 41 (numbers that can be divided by 41 with no remainder). How many multiples are there?\n",
    "\n",
    "Hint: We can use `%` to get remainders.\n",
    "\n",
    "For instance, `5 % 2` gives us 1."
   ]
  },
  {
   "cell_type": "code",
   "execution_count": null,
   "metadata": {},
   "outputs": [],
   "source": [
    "### put your code below:"
   ]
  },
  {
   "cell_type": "markdown",
   "metadata": {},
   "source": [
    "### Bonus: Nested `for` loops\n",
    "\n",
    "Just like you can use `if` statements in a `for` loop, you can also put `for` loops inside of other `for` loops. This is great if you want to use all combinations of two lists, for instance."
   ]
  },
  {
   "cell_type": "code",
   "execution_count": null,
   "metadata": {},
   "outputs": [
    {
     "name": "stdout",
     "output_type": "stream",
     "text": [
      "Outfit combinations:\n",
      "plaid shirt with a bowler\n",
      "plaid shirt with a fedora\n",
      "plaid shirt with a beret\n",
      "striped shirt with a bowler\n",
      "striped shirt with a fedora\n",
      "striped shirt with a beret\n",
      "polka dot shirt with a bowler\n",
      "polka dot shirt with a fedora\n",
      "polka dot shirt with a beret\n"
     ]
    }
   ],
   "source": [
    "hats = ['bowler', 'fedora', 'beret']\n",
    "shirts = ['plaid', 'striped', 'polka dot']\n",
    "\n",
    "print('Outfit combinations:')\n",
    "\n",
    "for shirt in shirts:\n",
    "    \n",
    "    for hat in hats:\n",
    "        \n",
    "        print(shirt, \"shirt with a\", hat)"
   ]
  },
  {
   "cell_type": "markdown",
   "metadata": {},
   "source": [
    "Be careful, however. If you use very long collections of items and nest more than 2 loops, the runtime can become very slow."
   ]
  },
  {
   "cell_type": "markdown",
   "metadata": {},
   "source": [
    "### Bonus: Enumerate\n",
    "\n",
    "We can use the `enumerate()` function to iterate over items in a list and get their indexes at the same time. \n",
    "\n",
    "When using `enumerate()`, we need to provide two variables names separated by a comma. The first represents the current index, and the second is the item at that index."
   ]
  },
  {
   "cell_type": "code",
   "execution_count": 8,
   "metadata": {},
   "outputs": [
    {
     "name": "stdout",
     "output_type": "stream",
     "text": [
      "index: 0\n",
      "food: eggs\n",
      "index: 1\n",
      "food: cereal\n",
      "index: 2\n",
      "food: oatmeal\n",
      "index: 3\n",
      "food: toast\n"
     ]
    }
   ],
   "source": [
    "my_breakfast = ['eggs', 'cereal', 'oatmeal', 'toast'] \n",
    "\n",
    "for i, food in enumerate(my_breakfast):\n",
    "    print('index:', i)\n",
    "    print('food:', food)"
   ]
  },
  {
   "cell_type": "markdown",
   "metadata": {},
   "source": [
    "This is a very useful approach for iterating over multiple lists of the same length at once."
   ]
  },
  {
   "cell_type": "code",
   "execution_count": 9,
   "metadata": {},
   "outputs": [
    {
     "name": "stdout",
     "output_type": "stream",
     "text": [
      "my food today: eggs sandwich pasta 0\n",
      "my food today: cereal chips salad 1\n",
      "my food today: oatmeal fruit bread 2\n",
      "my food today: toast juice dessert 3\n"
     ]
    }
   ],
   "source": [
    "my_lunch = ['sandwich', 'chips', 'fruit', 'juice']\n",
    "my_dinner = ['pasta', 'salad', 'bread', 'dessert']\n",
    "\n",
    "for i, breakfast in enumerate(my_breakfast):\n",
    "    lunch = my_lunch[i]\n",
    "    dinner = my_dinner[i]\n",
    "    \n",
    "    print(\"my food today:\", breakfast, lunch, dinner, i)"
   ]
  },
  {
   "cell_type": "markdown",
   "metadata": {},
   "source": [
    "### Question 10\n",
    "Below are four lists: `x1`, `x2`, `y1`, and `y2`.\n",
    "\n",
    "Using a single for loop, subtract the values of x1 and x2 at each index, and take the square of the difference. Do the same for `y1` and `y2`. Add the two squares together. Store all 4 squares in a list in the same order."
   ]
  },
  {
   "cell_type": "code",
   "execution_count": null,
   "metadata": {},
   "outputs": [],
   "source": [
    "x1 = [6.3, 7.1, 3.7, 3.2, 0.1]\n",
    "x2 = [-5.7, -17.5, -3.2, -19.3,-18.2]\n",
    "y1 = [34.6, 28.4, 60.0, 68.1, 83.9]\n",
    "y2 = [188.7,  75.9, 100.1, 61.1, 180.2]\n",
    "\n",
    "# your code here: \n"
   ]
  },
  {
   "cell_type": "markdown",
   "metadata": {},
   "source": [
    "### Bonus: Comprehensions\n",
    "\n",
    "If the outcome of your `for` loop is to produce a list, dictionary, set, or tuple, and you are using minimal code in your loop, then **comprehensions** may be perfect for you."
   ]
  },
  {
   "cell_type": "code",
   "execution_count": null,
   "metadata": {},
   "outputs": [
    {
     "data": {
      "text/plain": [
       "['eggs time', 'cereal time', 'oatmeal time', 'toast time']"
      ]
     },
     "metadata": {},
     "output_type": "display_data"
    }
   ],
   "source": [
    "[ food + ' time' for food in my_breakfast ] # creates a list"
   ]
  },
  {
   "cell_type": "code",
   "execution_count": null,
   "metadata": {},
   "outputs": [
    {
     "data": {
      "text/plain": [
       "{'eggs': 4, 'cereal': 6, 'oatmeal': 7, 'toast': 5}"
      ]
     },
     "metadata": {},
     "output_type": "display_data"
    }
   ],
   "source": [
    "{ food:len(food) for food in my_breakfast } # creates a dictionary"
   ]
  },
  {
   "cell_type": "markdown",
   "metadata": {},
   "source": [
    "### Question 11: Comprehensions\n",
    "\n",
    "Using a list comprehension and range() to make a list containing integers 10 - 1000."
   ]
  },
  {
   "cell_type": "markdown",
   "metadata": {},
   "source": [
    "## Challenge questions"
   ]
  },
  {
   "cell_type": "markdown",
   "metadata": {},
   "source": [
    "### 1) Conditionals and loops\n",
    "\n",
    "Below is a tongue twister:\n",
    "\n",
    "Peter Piper picked a peck of pickled peppers.\n",
    "A peck of pickled peppers Peter Piper picked.\n",
    "If Peter Piper picked a peck of pickled peppers,\n",
    "Where’s the peck of pickled peppers Peter Piper picked?\n",
    "\n",
    "Turn the tongue twister into a string. Feel free to remove line breaks to make it easier.\n",
    "\n",
    "Using a for loop and conditionals, count how many times the letter \"P\" is used, either lower case or upper case.\n",
    "\n"
   ]
  },
  {
   "cell_type": "code",
   "execution_count": null,
   "metadata": {},
   "outputs": [],
   "source": [
    "# your code here"
   ]
  },
  {
   "cell_type": "markdown",
   "metadata": {},
   "source": [
    "### 2) Nested for loops\n",
    "\n",
    "Below is a nested dictionary structure containing temperature, humidity, and pressure values for different months in 2021 and 2022.\n",
    "\n",
    "For each year, use for loops to store the months with temperature above 20 degrees and humidity between 50 and 60 in their own lists."
   ]
  },
  {
   "cell_type": "code",
   "execution_count": null,
   "metadata": {},
   "outputs": [],
   "source": [
    "environment_data = {\n",
    "    '2021': {\n",
    "        'January': {'temperature': 12.3, 'humidity': 40.2, 'pressure': 1012},\n",
    "        'February': {'temperature': 11.1, 'humidity': 42.7, 'pressure': 1008},\n",
    "        'March': {'temperature': 13.2, 'humidity': 44.5, 'pressure': 1006},\n",
    "        'April': {'temperature': 15.8, 'humidity': 50.1, 'pressure': 1010},\n",
    "        'May': {'temperature': 18.5, 'humidity': 52.3, 'pressure': 1005},\n",
    "        'June': {'temperature': 21.2, 'humidity': 55.8, 'pressure': 1000},\n",
    "        'July': {'temperature': 23.8, 'humidity': 57.2, 'pressure': 1001},\n",
    "        'August': {'temperature': 25.6, 'humidity': 60.1, 'pressure': 1005},\n",
    "        'September': {'temperature': 22.5, 'humidity': 58.2, 'pressure': 1009},\n",
    "        'October': {'temperature': 19.4, 'humidity': 51.7, 'pressure': 1011},\n",
    "        'November': {'temperature': 16.3, 'humidity': 47.2, 'pressure': 1010},\n",
    "        'December': {'temperature': 13.4, 'humidity': 43.8, 'pressure': 1008}\n",
    "    },\n",
    "    '2022': {\n",
    "        'January': {'temperature': 9.8, 'humidity': 38.1, 'pressure': 1015},\n",
    "        'February': {'temperature': 10.5, 'humidity': 43.2, 'pressure': 1010},\n",
    "        'March': {'temperature': 12.9, 'humidity': 47.0, 'pressure': 1004},\n",
    "        'April': {'temperature': 16.0, 'humidity': 50.6, 'pressure': 1011},\n",
    "        'May': {'temperature': 18.9, 'humidity': 53.5, 'pressure': 1006},\n",
    "        'June': {'temperature': 21.6, 'humidity': 57.1, 'pressure': 1001},\n",
    "        'July': {'temperature': 24.2, 'humidity': 59.4, 'pressure': 1002},\n",
    "        'August': {'temperature': 26.0, 'humidity': 62.3, 'pressure': 1006},\n",
    "        'September': {'temperature': 22.9, 'humidity': 59.8, 'pressure': 1010},\n",
    "        'October': {'temperature': 19.8, 'humidity': 54.5, 'pressure': 1012},\n",
    "        'November': {'temperature': 16.7, 'humidity': 49.1, 'pressure': 1011},\n",
    "        'December': {'temperature': 13.8, 'humidity': 45.5, 'pressure': 1009}\n",
    "    }\n",
    "}\n",
    "\n",
    "# your code:"
   ]
  },
  {
   "cell_type": "markdown",
   "metadata": {},
   "source": [
    "## Resources\n",
    "- [Software Carpentry](https://swcarpentry.github.io/python-novice-inflammation/07-cond/index.html)\n",
    "- [W3 School - List Comprehensions](https://www.w3schools.com/python/python_lists_comprehension.asp)"
   ]
  },
  {
   "cell_type": "markdown",
   "metadata": {},
   "source": []
  }
 ],
 "metadata": {
  "kernelspec": {
   "display_name": "Python 3.9.12 ('workshop')",
   "language": "python",
   "name": "python3"
  },
  "language_info": {
   "codemirror_mode": {
    "name": "ipython",
    "version": 3
   },
   "file_extension": ".py",
   "mimetype": "text/x-python",
   "name": "python",
   "nbconvert_exporter": "python",
   "pygments_lexer": "ipython3",
   "version": "3.9.12"
  },
  "orig_nbformat": 4,
  "vscode": {
   "interpreter": {
    "hash": "5e5670abb08844f1af3bbc7bb9ef8e3b4ef400ad7b254432ac9e559b82ca9501"
   }
  }
 },
 "nbformat": 4,
 "nbformat_minor": 2
}
