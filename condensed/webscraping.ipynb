{
 "cells": [
  {
   "cell_type": "markdown",
   "metadata": {},
   "source": [
    "# Web Scraping\n",
    "\n",
    "Webscraping is the process of extracting information from a web page or multiple pages and using that information for some other purpose or analysis. It can be used to aggregate and summarize information. Here, we'll show how to use web scraping to obtain information from two different websites.\n",
    "\n",
    "One thing to note is that many website have terms of service that explicitly forbid web scraping entirely, and some limit the number of requests you send them. Please carefully evaluate any web page you scrape for any rules and regulations they have. \n",
    "\n",
    "## Processing HTML with requests and BeautifulSoup\n",
    "\n",
    "We're going to start with standard web scraping. We'll import `requests` and `BeautifulSoup`. \n",
    "\n",
    "`requests` is used to make HTTP requests to urls. HTTP requests allow communication between a server (where a website lives) and a client (e.g. your browser). In our case, the client is the code we're using from the `requests` library. \n",
    "\n",
    "`BeautifulSoup` is used to process HTML. HTML is the language that is used to structure web documents. It defines what goes where on the page and to some extent the style of objects on a page. `BeautifulSoup` allows us to navigate HTML and extract useful information from it. \n"
   ]
  },
  {
   "cell_type": "code",
   "execution_count": 10,
   "metadata": {},
   "outputs": [],
   "source": [
    "import requests\n",
    "from bs4 import BeautifulSoup"
   ]
  },
  {
   "cell_type": "markdown",
   "metadata": {},
   "source": [
    "We are going to scape a web page designed for scraping: https://www.scrapethissite.com/pages/simple/\n",
    "\n",
    "This page includes some information about different countries in a tabular format. "
   ]
  },
  {
   "cell_type": "code",
   "execution_count": 11,
   "metadata": {},
   "outputs": [],
   "source": [
    "url = 'https://www.scrapethissite.com/pages/simple/'"
   ]
  },
  {
   "cell_type": "markdown",
   "metadata": {},
   "source": [
    "To retrieve information from this page, we are going to use `requests.get()`. This function uses the HTTP command `GET` to retrieve the information from this URL. "
   ]
  },
  {
   "cell_type": "code",
   "execution_count": 12,
   "metadata": {},
   "outputs": [
    {
     "data": {
      "text/plain": [
       "<Response [200]>"
      ]
     },
     "execution_count": 12,
     "metadata": {},
     "output_type": "execute_result"
    }
   ],
   "source": [
    "# Get data from the URL\n",
    "data = requests.get(url)\n",
    "data"
   ]
  },
  {
   "cell_type": "markdown",
   "metadata": {},
   "source": [
    "This response code means that we successfully retrieved the page. That means that we can retrieve the HTML of the page by using the `.text` attribute. We'll then look at the first 1000 characters of the page's html. "
   ]
  },
  {
   "cell_type": "code",
   "execution_count": 13,
   "metadata": {},
   "outputs": [
    {
     "data": {
      "text/plain": [
       "'<!doctype html>\\n<html lang=\"en\">\\n  <head>\\n    <meta charset=\"utf-8\">\\n    <title>Countries of the World: A Simple Example | Scrape This Site | A public sandbox for learning web scraping</title>\\n    <link rel=\"icon\" type=\"image/png\" href=\"/static/images/scraper-icon.png\" />\\n\\n    <meta name=\"viewport\" content=\"width=device-width, initial-scale=1.0\">\\n    <meta name=\"description\" content=\"A single page that lists information about all the countries in the world. Good for those just get started with web scraping.\">\\n\\n    <link href=\"https://maxcdn.bootstrapcdn.com/bootstrap/3.3.5/css/bootstrap.min.css\" rel=\"stylesheet\" integrity=\"sha256-MfvZlkHCEqatNoGiOXveE8FIwMzZg4W85qfrfIFBfYc= sha512-dTfge/zgoMYpP7QbHy4gWMEGsbsdZeCXz7irItjcC3sPUFtf0kuFbDz/ixG7ArTxmDjLXDmezHubeNikyKGVyQ==\" crossorigin=\"anonymous\">\\n    <link href=\\'https://fonts.googleapis.com/css?family=Lato:400,700\\' rel=\\'stylesheet\\' type=\\'text/css\\'>\\n    <link rel=\"stylesheet\" type=\"text/css\" href=\"/static/css/styles.css\">\\n\\n    \\n<meta name='"
      ]
     },
     "execution_count": 13,
     "metadata": {},
     "output_type": "execute_result"
    }
   ],
   "source": [
    "html = data.text\n",
    "html[0:1000]"
   ]
  },
  {
   "cell_type": "markdown",
   "metadata": {},
   "source": [
    "Now, let's use Beautiful Soup to process this HTML. `BeautifulSoup()` takes a second argument where we'll tell it we want to parse HTML, as opposed to other formats. "
   ]
  },
  {
   "cell_type": "code",
   "execution_count": 14,
   "metadata": {},
   "outputs": [],
   "source": [
    "soup = BeautifulSoup(html, 'html.parser')"
   ]
  },
  {
   "cell_type": "markdown",
   "metadata": {},
   "source": [
    "If we print `soup.prettify()`, we can see the HTML in a structured format. "
   ]
  },
  {
   "cell_type": "code",
   "execution_count": 15,
   "metadata": {},
   "outputs": [
    {
     "name": "stdout",
     "output_type": "stream",
     "text": [
      "<!DOCTYPE html>\n",
      "<html lang=\"en\">\n",
      " <head>\n",
      "  <meta charset=\"utf-8\"/>\n",
      "  <title>\n",
      "   Countries of the World: A Simple Example | Scrape This Site | A public sandbox for learning web scraping\n",
      "  </title>\n",
      "  <link href=\"/static/images/scraper-icon.png\" rel=\"icon\" type=\"image/png\"/>\n",
      "  <meta content=\"width=device-width, initial-scale=1.0\" name=\"viewport\"/>\n",
      "  <meta content=\"A single page that lists information about all the countries in the world. Good for those just get started with web scraping.\" name=\"description\"/>\n",
      "  <link crossorigin=\"anonymous\" href=\"https://maxcdn.bootstrapcdn.com/bootstrap/3.3.5/css/bootstrap.min.css\" integrity=\"sha256-MfvZlkHCEqatNoGiOXveE8FIwMzZg4W85qfrfIFBfYc= sha512-dTfge/zgoMYpP7QbHy4gWMEGsbsdZeCXz7irItjcC3sPUFtf0kuFbDz/ixG7ArTxmDjLXDmezHubeNikyKGVyQ==\" rel=\"stylesheet\"/>\n",
      "  <link href=\"https://fonts.googleapis.com/css?family=Lato:400,700\" rel=\"stylesheet\" type=\"text/css\"/>\n",
      "  <link href=\"/static/css/styles.css\" rel=\"stylesheet\" type=\"text/css\"/>\n",
      "  <meta content=\"noindex\n"
     ]
    }
   ],
   "source": [
    "print(soup.prettify()[0:1000])"
   ]
  },
  {
   "cell_type": "markdown",
   "metadata": {},
   "source": [
    "In HTML, tags define structure. For example, the text of a page lives in the body tag:\n",
    "\n",
    "```html\n",
    "<body>\n",
    "    ...\n",
    "</body>\n",
    "```\n",
    "\n",
    "Tags come in pairs: opening tags and closing tags. Both use angled brackets (`<>`) but closing brackets also use a forward slash (`</>`). Tags can contain content in a single line (`<tag>content</tag>`) or across multiple lines like above. \n",
    "\n",
    "Common tags: https://www.geeksforgeeks.org/html-tags-a-to-z-list/"
   ]
  },
  {
   "cell_type": "markdown",
   "metadata": {},
   "source": [
    "### Retrieve specific HTML tags"
   ]
  },
  {
   "cell_type": "markdown",
   "metadata": {},
   "source": [
    "When you are trying to retrieve a specific part of a page, it is important to inspect the page to see the structure. On most browswers, you can right click and navigate to \"Inspect Element\". For instructions on how to inspect, check out this link: [https://blog.hubspot.com/website/how-to-inspect](https://blog.hubspot.com/website/how-to-inspect)\n",
    "\n",
    "To find all appearances of a certain tag on a webpage, we can use `soup.find_all(tagname)`, where `tagname` is a string like `\"div\"`, a common type of tag. "
   ]
  },
  {
   "cell_type": "code",
   "execution_count": 16,
   "metadata": {},
   "outputs": [
    {
     "name": "stdout",
     "output_type": "stream",
     "text": [
      "Number of divs: 599\n",
      "Example div\n",
      "<div class=\"col-md-12\">\n",
      " <ul class=\"nav nav-tabs\">\n",
      "  <li id=\"nav-homepage\">\n",
      "   <a class=\"nav-link hidden-sm hidden-xs\" href=\"/\">\n",
      "    <img id=\"nav-logo\" src=\"/static/images/scraper-icon.png\"/>\n",
      "    Scrape This Site\n",
      "   </a>\n",
      "  </li>\n",
      "  <li id=\"nav-sandbox\">\n",
      "   <a class=\"nav-link\" href=\"/pages/\">\n",
      "    <i class=\"glyphicon glyphicon-console hidden-sm hidden-xs\">\n",
      "    </i>\n",
      "    Sandbox\n",
      "   </a>\n",
      "  </li>\n",
      "  <li id=\"nav-lessons\">\n",
      "   <a class=\"nav-link\" href=\"/lessons/\">\n",
      "    <i class=\"glyphicon glyphicon-education hidden-sm hidden-xs\">\n",
      "    </i>\n",
      "    Lessons\n",
      "   </a>\n",
      "  </li>\n",
      "  <li id=\"nav-faq\">\n",
      "   <a class=\"nav-link\" href=\"/faq/\">\n",
      "    <i class=\"glyphicon glyphicon-flag hidden-sm hidden-xs\">\n",
      "    </i>\n",
      "    FAQ\n",
      "   </a>\n",
      "  </li>\n",
      "  <li class=\"pull-right\" id=\"nav-login\">\n",
      "   <a class=\"nav-link\" href=\"/login/\">\n",
      "    Login\n",
      "   </a>\n",
      "  </li>\n",
      " </ul>\n",
      "</div>\n",
      "\n"
     ]
    }
   ],
   "source": [
    "divs = soup.find_all(\"div\")\n",
    "\n",
    "print(\"Number of divs: \" + str(len(divs)))\n",
    "print(\"Example div\")\n",
    "print(divs[1].prettify())"
   ]
  },
  {
   "cell_type": "markdown",
   "metadata": {},
   "source": [
    "As you can see, tags can contain a lot of information, including other tags. `<div>` is a very common tag type, and this page has hundreds of them. \n",
    "\n",
    "Each tag can also have a class, and almost all `<div>` tags will have one. These tags are linked to certain styles, which define appearance and to some degree the function of the material in these tags. \n",
    "\n",
    "This page stores country data in `<div>` tags with the class `col-md-4 country`."
   ]
  },
  {
   "cell_type": "code",
   "execution_count": 17,
   "metadata": {},
   "outputs": [
    {
     "data": {
      "text/plain": [
       "<div class=\"col-md-4 country\">\n",
       "<h3 class=\"country-name\">\n",
       "<i class=\"flag-icon flag-icon-ad\"></i>\n",
       "                            Andorra\n",
       "                        </h3>\n",
       "<div class=\"country-info\">\n",
       "<strong>Capital:</strong> <span class=\"country-capital\">Andorra la Vella</span><br/>\n",
       "<strong>Population:</strong> <span class=\"country-population\">84000</span><br/>\n",
       "<strong>Area (km<sup>2</sup>):</strong> <span class=\"country-area\">468.0</span><br/>\n",
       "</div>\n",
       "</div>"
      ]
     },
     "execution_count": 17,
     "metadata": {},
     "output_type": "execute_result"
    }
   ],
   "source": [
    "div_countries = soup.find_all(\"div\", class_=\"col-md-4 country\")\n",
    "div_countries[0]"
   ]
  },
  {
   "cell_type": "markdown",
   "metadata": {},
   "source": [
    "Let's take a look at the first country div. We'll use `.text` to remove the tag information and `.strip()` to remove some formatting characters."
   ]
  },
  {
   "cell_type": "code",
   "execution_count": 18,
   "metadata": {},
   "outputs": [
    {
     "name": "stdout",
     "output_type": "stream",
     "text": [
      "Andorra\n",
      "                        \n",
      "\n",
      "Capital: Andorra la Vella\n",
      "Population: 84000\n",
      "Area (km2): 468.0\n"
     ]
    }
   ],
   "source": [
    "print(div_countries[0].text.strip())"
   ]
  },
  {
   "cell_type": "markdown",
   "metadata": {},
   "source": [
    "If we look inside of the div, we can find other key information. For instance, each country `div` contains a `div` of class `country-capital`."
   ]
  },
  {
   "cell_type": "code",
   "execution_count": 19,
   "metadata": {},
   "outputs": [
    {
     "data": {
      "text/plain": [
       "<span class=\"country-capital\">Andorra la Vella</span>"
      ]
     },
     "execution_count": 19,
     "metadata": {},
     "output_type": "execute_result"
    }
   ],
   "source": [
    "div_countries[0].find(class_=\"country-capital\")"
   ]
  },
  {
   "cell_type": "markdown",
   "metadata": {},
   "source": [
    "There are also similar divs with the classes `country-name`, `country-population`, and `country-area`."
   ]
  },
  {
   "cell_type": "code",
   "execution_count": 20,
   "metadata": {},
   "outputs": [
    {
     "data": {
      "text/plain": [
       "<h3 class=\"country-name\">\n",
       "<i class=\"flag-icon flag-icon-ad\"></i>\n",
       "                            Andorra\n",
       "                        </h3>"
      ]
     },
     "execution_count": 20,
     "metadata": {},
     "output_type": "execute_result"
    }
   ],
   "source": [
    "div_countries[0].find(class_=\"country-name\")"
   ]
  },
  {
   "cell_type": "code",
   "execution_count": 21,
   "metadata": {},
   "outputs": [
    {
     "data": {
      "text/plain": [
       "<span class=\"country-population\">84000</span>"
      ]
     },
     "execution_count": 21,
     "metadata": {},
     "output_type": "execute_result"
    }
   ],
   "source": [
    "div_countries[0].find(class_=\"country-population\")"
   ]
  },
  {
   "cell_type": "code",
   "execution_count": 22,
   "metadata": {},
   "outputs": [
    {
     "data": {
      "text/plain": [
       "<span class=\"country-area\">468.0</span>"
      ]
     },
     "execution_count": 22,
     "metadata": {},
     "output_type": "execute_result"
    }
   ],
   "source": [
    "div_countries[0].find(class_=\"country-area\")"
   ]
  },
  {
   "cell_type": "markdown",
   "metadata": {},
   "source": [
    "We can use a for loop to iterate over the country divs to grab each capital. "
   ]
  },
  {
   "cell_type": "code",
   "execution_count": 23,
   "metadata": {},
   "outputs": [
    {
     "data": {
      "text/plain": [
       "['Andorra la Vella', 'Abu Dhabi', 'Kabul', \"St. John's\", 'The Valley']"
      ]
     },
     "execution_count": 23,
     "metadata": {},
     "output_type": "execute_result"
    }
   ],
   "source": [
    "capitals = list()\n",
    "\n",
    "for i in range(0,5):\n",
    "    \n",
    "    country = div_countries[i]\n",
    "    capital = country.find(class_=\"country-capital\").text\n",
    "    capitals.append(capital)\n",
    "\n",
    "capitals"
   ]
  },
  {
   "cell_type": "markdown",
   "metadata": {},
   "source": [
    "We can use this approach to store the information in a pandas data frame. "
   ]
  },
  {
   "cell_type": "code",
   "execution_count": 24,
   "metadata": {},
   "outputs": [
    {
     "data": {
      "text/html": [
       "<div>\n",
       "<style scoped>\n",
       "    .dataframe tbody tr th:only-of-type {\n",
       "        vertical-align: middle;\n",
       "    }\n",
       "\n",
       "    .dataframe tbody tr th {\n",
       "        vertical-align: top;\n",
       "    }\n",
       "\n",
       "    .dataframe thead th {\n",
       "        text-align: right;\n",
       "    }\n",
       "</style>\n",
       "<table border=\"1\" class=\"dataframe\">\n",
       "  <thead>\n",
       "    <tr style=\"text-align: right;\">\n",
       "      <th></th>\n",
       "      <th>country</th>\n",
       "      <th>capital</th>\n",
       "      <th>population</th>\n",
       "      <th>area</th>\n",
       "    </tr>\n",
       "  </thead>\n",
       "  <tbody>\n",
       "    <tr>\n",
       "      <th>0</th>\n",
       "      <td>Andorra</td>\n",
       "      <td>Andorra la Vella</td>\n",
       "      <td>84000</td>\n",
       "      <td>468.0</td>\n",
       "    </tr>\n",
       "    <tr>\n",
       "      <th>1</th>\n",
       "      <td>United Arab Emirates</td>\n",
       "      <td>Abu Dhabi</td>\n",
       "      <td>4975593</td>\n",
       "      <td>82880.0</td>\n",
       "    </tr>\n",
       "    <tr>\n",
       "      <th>2</th>\n",
       "      <td>Afghanistan</td>\n",
       "      <td>Kabul</td>\n",
       "      <td>29121286</td>\n",
       "      <td>647500.0</td>\n",
       "    </tr>\n",
       "    <tr>\n",
       "      <th>3</th>\n",
       "      <td>Antigua and Barbuda</td>\n",
       "      <td>St. John's</td>\n",
       "      <td>86754</td>\n",
       "      <td>443.0</td>\n",
       "    </tr>\n",
       "    <tr>\n",
       "      <th>4</th>\n",
       "      <td>Anguilla</td>\n",
       "      <td>The Valley</td>\n",
       "      <td>13254</td>\n",
       "      <td>102.0</td>\n",
       "    </tr>\n",
       "  </tbody>\n",
       "</table>\n",
       "</div>"
      ],
      "text/plain": [
       "                country           capital population      area\n",
       "0               Andorra  Andorra la Vella      84000     468.0\n",
       "1  United Arab Emirates         Abu Dhabi    4975593   82880.0\n",
       "2           Afghanistan             Kabul   29121286  647500.0\n",
       "3   Antigua and Barbuda        St. John's      86754     443.0\n",
       "4              Anguilla        The Valley      13254     102.0"
      ]
     },
     "execution_count": 24,
     "metadata": {},
     "output_type": "execute_result"
    }
   ],
   "source": [
    "import pandas as pd\n",
    "\n",
    "country_names = list()\n",
    "capitals = list()\n",
    "populations = list()\n",
    "areas = list()\n",
    "\n",
    "for country in div_countries:\n",
    "    \n",
    "    country_name = country.find(class_='country-name').text.strip() # have to remove special characters\n",
    "    capital = country.find(class_=\"country-capital\").text\n",
    "    population = country.find(class_=\"country-population\").text\n",
    "    area = country.find(class_=\"country-area\").text\n",
    "    \n",
    "    country_names.append(country_name)\n",
    "    capitals.append(capital)\n",
    "    populations.append(population)\n",
    "    areas.append(area)\n",
    "\n",
    "country_data_dict = {\n",
    "    'country': country_names,\n",
    "    'capital': capitals,\n",
    "    'population': populations,\n",
    "    'area': areas\n",
    "}\n",
    "\n",
    "countries_df = pd.DataFrame(country_data_dict)\n",
    "countries_df.head()"
   ]
  },
  {
   "cell_type": "markdown",
   "metadata": {},
   "source": [
    "## API - U.S. Bureau of Labor Statistics\n",
    "Another way to extract data from websites is using APIs (Application Programming Interfaces) that some websites provide. <https://www.programmableweb.com/apis>\n",
    "\n",
    "APIs are \"intermediaries\" that allow one software to talk to another. Keep in mind that most APIs have limited usage policies. We will use the U.S. Bureau of Labor Statistics' API to extract data. They have two API's, one of which we can use without registration to get several years of data. We will be using this version: [BLS Public Data API Signatures (Version 1.0)](https://www.bls.gov/developers/api_signature.htm#single).\n",
    "\n",
    "If you are intested in this API, you can register for [a more powerful API with greater access to data](https://www.bls.gov/developers/home.htm). \n",
    "\n",
    "Disclaimer: BLS.gov cannot vouch for the data or analyses derived from these data after the data have been retrieved from BLS.gov."
   ]
  },
  {
   "cell_type": "markdown",
   "metadata": {},
   "source": [
    "This API, as well as many others, works with a data format called JSON. JSON looks and acts similarly to a Python dictionary, and we can interact with it with the `json` library. "
   ]
  },
  {
   "cell_type": "code",
   "execution_count": 25,
   "metadata": {},
   "outputs": [],
   "source": [
    "import json"
   ]
  },
  {
   "cell_type": "markdown",
   "metadata": {},
   "source": [
    "The BLS has many data sets to choose from. We are going to use one on civilian unemployment. \n",
    "\n",
    "To interact with the API, instead of using `requests.get()`, we'll use `requests.post()`. The [data series](https://data.bls.gov/toppicks?survey=bls) we are looking at is labeled as LNS13000000 and contains seasonally-adjusted civilian umemployment. We also will interact with a API-specific URL. \n",
    "\n",
    "The post will need two other arguments besides the URL to work. We'll provide headers, which provides the website some information about the format we want the data in. We'll also provide some data about the data we want, specifically a series ID and year ranges for the data. \n",
    "\n",
    "`json.dumps()` converts a Python dictionary into a json object, while `json.loads()` does the opposite."
   ]
  },
  {
   "cell_type": "code",
   "execution_count": 32,
   "metadata": {},
   "outputs": [
    {
     "data": {
      "text/plain": [
       "{'status': 'REQUEST_SUCCEEDED',\n",
       " 'responseTime': 181,\n",
       " 'message': [],\n",
       " 'Results': {'series': [{'seriesID': 'LNS13000000',\n",
       "    'data': [{'year': '2024',\n",
       "      'period': 'M09',\n",
       "      'periodName': 'September',\n",
       "      'latest': 'true',\n",
       "      'value': '6834',\n",
       "      'footnotes': [{}]},\n",
       "     {'year': '2024',\n",
       "      'period': 'M08',\n",
       "      'periodName': 'August',\n",
       "      'value': '7115',\n",
       "      'footnotes': [{}]},\n",
       "     {'year': '2024',\n",
       "      'period': 'M07',\n",
       "      'periodName': 'July',\n",
       "      'value': '7163',\n",
       "      'footnotes': [{}]},\n",
       "     {'year': '2024',\n",
       "      'period': 'M06',\n",
       "      'periodName': 'June',\n",
       "      'value': '6811',\n",
       "      'footnotes': [{}]},\n",
       "     {'year': '2024',\n",
       "      'period': 'M05',\n",
       "      'periodName': 'May',\n",
       "      'value': '6649',\n",
       "      'footnotes': [{}]},\n",
       "     {'year': '2024',\n",
       "      'period': 'M04',\n",
       "      'periodName': 'April',\n",
       "      'value': '6492',\n",
       "      'footnotes': [{}]},\n",
       "     {'year': '2024',\n",
       "      'period': 'M03',\n",
       "      'periodName': 'March',\n",
       "      'value': '6429',\n",
       "      'footnotes': [{}]},\n",
       "     {'year': '2024',\n",
       "      'period': 'M02',\n",
       "      'periodName': 'February',\n",
       "      'value': '6458',\n",
       "      'footnotes': [{}]},\n",
       "     {'year': '2024',\n",
       "      'period': 'M01',\n",
       "      'periodName': 'January',\n",
       "      'value': '6124',\n",
       "      'footnotes': [{}]},\n",
       "     {'year': '2023',\n",
       "      'period': 'M12',\n",
       "      'periodName': 'December',\n",
       "      'value': '6268',\n",
       "      'footnotes': [{}]},\n",
       "     {'year': '2023',\n",
       "      'period': 'M11',\n",
       "      'periodName': 'November',\n",
       "      'value': '6262',\n",
       "      'footnotes': [{}]},\n",
       "     {'year': '2023',\n",
       "      'period': 'M10',\n",
       "      'periodName': 'October',\n",
       "      'value': '6443',\n",
       "      'footnotes': [{}]},\n",
       "     {'year': '2023',\n",
       "      'period': 'M09',\n",
       "      'periodName': 'September',\n",
       "      'value': '6347',\n",
       "      'footnotes': [{}]},\n",
       "     {'year': '2023',\n",
       "      'period': 'M08',\n",
       "      'periodName': 'August',\n",
       "      'value': '6340',\n",
       "      'footnotes': [{}]},\n",
       "     {'year': '2023',\n",
       "      'period': 'M07',\n",
       "      'periodName': 'July',\n",
       "      'value': '5904',\n",
       "      'footnotes': [{}]},\n",
       "     {'year': '2023',\n",
       "      'period': 'M06',\n",
       "      'periodName': 'June',\n",
       "      'value': '5997',\n",
       "      'footnotes': [{}]},\n",
       "     {'year': '2023',\n",
       "      'period': 'M05',\n",
       "      'periodName': 'May',\n",
       "      'value': '6117',\n",
       "      'footnotes': [{}]},\n",
       "     {'year': '2023',\n",
       "      'period': 'M04',\n",
       "      'periodName': 'April',\n",
       "      'value': '5715',\n",
       "      'footnotes': [{}]},\n",
       "     {'year': '2023',\n",
       "      'period': 'M03',\n",
       "      'periodName': 'March',\n",
       "      'value': '5866',\n",
       "      'footnotes': [{}]},\n",
       "     {'year': '2023',\n",
       "      'period': 'M02',\n",
       "      'periodName': 'February',\n",
       "      'value': '5962',\n",
       "      'footnotes': [{}]},\n",
       "     {'year': '2023',\n",
       "      'period': 'M01',\n",
       "      'periodName': 'January',\n",
       "      'value': '5719',\n",
       "      'footnotes': [{}]},\n",
       "     {'year': '2022',\n",
       "      'period': 'M12',\n",
       "      'periodName': 'December',\n",
       "      'value': '5698',\n",
       "      'footnotes': [{}]},\n",
       "     {'year': '2022',\n",
       "      'period': 'M11',\n",
       "      'periodName': 'November',\n",
       "      'value': '5956',\n",
       "      'footnotes': [{}]},\n",
       "     {'year': '2022',\n",
       "      'period': 'M10',\n",
       "      'periodName': 'October',\n",
       "      'value': '5950',\n",
       "      'footnotes': [{}]},\n",
       "     {'year': '2022',\n",
       "      'period': 'M09',\n",
       "      'periodName': 'September',\n",
       "      'value': '5755',\n",
       "      'footnotes': [{}]},\n",
       "     {'year': '2022',\n",
       "      'period': 'M08',\n",
       "      'periodName': 'August',\n",
       "      'value': '5983',\n",
       "      'footnotes': [{}]},\n",
       "     {'year': '2022',\n",
       "      'period': 'M07',\n",
       "      'periodName': 'July',\n",
       "      'value': '5783',\n",
       "      'footnotes': [{}]},\n",
       "     {'year': '2022',\n",
       "      'period': 'M06',\n",
       "      'periodName': 'June',\n",
       "      'value': '5984',\n",
       "      'footnotes': [{}]},\n",
       "     {'year': '2022',\n",
       "      'period': 'M05',\n",
       "      'periodName': 'May',\n",
       "      'value': '5966',\n",
       "      'footnotes': [{}]},\n",
       "     {'year': '2022',\n",
       "      'period': 'M04',\n",
       "      'periodName': 'April',\n",
       "      'value': '6034',\n",
       "      'footnotes': [{}]},\n",
       "     {'year': '2022',\n",
       "      'period': 'M03',\n",
       "      'periodName': 'March',\n",
       "      'value': '5993',\n",
       "      'footnotes': [{}]},\n",
       "     {'year': '2022',\n",
       "      'period': 'M02',\n",
       "      'periodName': 'February',\n",
       "      'value': '6279',\n",
       "      'footnotes': [{}]},\n",
       "     {'year': '2022',\n",
       "      'period': 'M01',\n",
       "      'periodName': 'January',\n",
       "      'value': '6549',\n",
       "      'footnotes': [{}]},\n",
       "     {'year': '2021',\n",
       "      'period': 'M12',\n",
       "      'periodName': 'December',\n",
       "      'value': '6305',\n",
       "      'footnotes': [{}]},\n",
       "     {'year': '2021',\n",
       "      'period': 'M11',\n",
       "      'periodName': 'November',\n",
       "      'value': '6733',\n",
       "      'footnotes': [{}]},\n",
       "     {'year': '2021',\n",
       "      'period': 'M10',\n",
       "      'periodName': 'October',\n",
       "      'value': '7244',\n",
       "      'footnotes': [{}]},\n",
       "     {'year': '2021',\n",
       "      'period': 'M09',\n",
       "      'periodName': 'September',\n",
       "      'value': '7659',\n",
       "      'footnotes': [{}]},\n",
       "     {'year': '2021',\n",
       "      'period': 'M08',\n",
       "      'periodName': 'August',\n",
       "      'value': '8288',\n",
       "      'footnotes': [{}]},\n",
       "     {'year': '2021',\n",
       "      'period': 'M07',\n",
       "      'periodName': 'July',\n",
       "      'value': '8770',\n",
       "      'footnotes': [{}]},\n",
       "     {'year': '2021',\n",
       "      'period': 'M06',\n",
       "      'periodName': 'June',\n",
       "      'value': '9547',\n",
       "      'footnotes': [{}]},\n",
       "     {'year': '2021',\n",
       "      'period': 'M05',\n",
       "      'periodName': 'May',\n",
       "      'value': '9250',\n",
       "      'footnotes': [{}]},\n",
       "     {'year': '2021',\n",
       "      'period': 'M04',\n",
       "      'periodName': 'April',\n",
       "      'value': '9801',\n",
       "      'footnotes': [{}]},\n",
       "     {'year': '2021',\n",
       "      'period': 'M03',\n",
       "      'periodName': 'March',\n",
       "      'value': '9734',\n",
       "      'footnotes': [{}]},\n",
       "     {'year': '2021',\n",
       "      'period': 'M02',\n",
       "      'periodName': 'February',\n",
       "      'value': '9992',\n",
       "      'footnotes': [{}]},\n",
       "     {'year': '2021',\n",
       "      'period': 'M01',\n",
       "      'periodName': 'January',\n",
       "      'value': '10196',\n",
       "      'footnotes': [{}]},\n",
       "     {'year': '2020',\n",
       "      'period': 'M12',\n",
       "      'periodName': 'December',\n",
       "      'value': '10772',\n",
       "      'footnotes': [{}]},\n",
       "     {'year': '2020',\n",
       "      'period': 'M11',\n",
       "      'periodName': 'November',\n",
       "      'value': '10713',\n",
       "      'footnotes': [{}]},\n",
       "     {'year': '2020',\n",
       "      'period': 'M10',\n",
       "      'periodName': 'October',\n",
       "      'value': '11012',\n",
       "      'footnotes': [{}]},\n",
       "     {'year': '2020',\n",
       "      'period': 'M09',\n",
       "      'periodName': 'September',\n",
       "      'value': '12573',\n",
       "      'footnotes': [{}]},\n",
       "     {'year': '2020',\n",
       "      'period': 'M08',\n",
       "      'periodName': 'August',\n",
       "      'value': '13498',\n",
       "      'footnotes': [{}]},\n",
       "     {'year': '2020',\n",
       "      'period': 'M07',\n",
       "      'periodName': 'July',\n",
       "      'value': '16391',\n",
       "      'footnotes': [{}]},\n",
       "     {'year': '2020',\n",
       "      'period': 'M06',\n",
       "      'periodName': 'June',\n",
       "      'value': '17658',\n",
       "      'footnotes': [{}]},\n",
       "     {'year': '2020',\n",
       "      'period': 'M05',\n",
       "      'periodName': 'May',\n",
       "      'value': '20933',\n",
       "      'footnotes': [{}]},\n",
       "     {'year': '2020',\n",
       "      'period': 'M04',\n",
       "      'periodName': 'April',\n",
       "      'value': '23090',\n",
       "      'footnotes': [{}]},\n",
       "     {'year': '2020',\n",
       "      'period': 'M03',\n",
       "      'periodName': 'March',\n",
       "      'value': '7209',\n",
       "      'footnotes': [{}]},\n",
       "     {'year': '2020',\n",
       "      'period': 'M02',\n",
       "      'periodName': 'February',\n",
       "      'value': '5729',\n",
       "      'footnotes': [{}]},\n",
       "     {'year': '2020',\n",
       "      'period': 'M01',\n",
       "      'periodName': 'January',\n",
       "      'value': '5842',\n",
       "      'footnotes': [{}]},\n",
       "     {'year': '2019',\n",
       "      'period': 'M12',\n",
       "      'periodName': 'December',\n",
       "      'value': '5853',\n",
       "      'footnotes': [{}]},\n",
       "     {'year': '2019',\n",
       "      'period': 'M11',\n",
       "      'periodName': 'November',\n",
       "      'value': '5868',\n",
       "      'footnotes': [{}]},\n",
       "     {'year': '2019',\n",
       "      'period': 'M10',\n",
       "      'periodName': 'October',\n",
       "      'value': '5871',\n",
       "      'footnotes': [{}]},\n",
       "     {'year': '2019',\n",
       "      'period': 'M09',\n",
       "      'periodName': 'September',\n",
       "      'value': '5753',\n",
       "      'footnotes': [{}]},\n",
       "     {'year': '2019',\n",
       "      'period': 'M08',\n",
       "      'periodName': 'August',\n",
       "      'value': '5945',\n",
       "      'footnotes': [{}]},\n",
       "     {'year': '2019',\n",
       "      'period': 'M07',\n",
       "      'periodName': 'July',\n",
       "      'value': '6061',\n",
       "      'footnotes': [{}]},\n",
       "     {'year': '2019',\n",
       "      'period': 'M06',\n",
       "      'periodName': 'June',\n",
       "      'value': '5935',\n",
       "      'footnotes': [{}]},\n",
       "     {'year': '2019',\n",
       "      'period': 'M05',\n",
       "      'periodName': 'May',\n",
       "      'value': '5930',\n",
       "      'footnotes': [{}]},\n",
       "     {'year': '2019',\n",
       "      'period': 'M04',\n",
       "      'periodName': 'April',\n",
       "      'value': '5961',\n",
       "      'footnotes': [{}]},\n",
       "     {'year': '2019',\n",
       "      'period': 'M03',\n",
       "      'periodName': 'March',\n",
       "      'value': '6202',\n",
       "      'footnotes': [{}]},\n",
       "     {'year': '2019',\n",
       "      'period': 'M02',\n",
       "      'periodName': 'February',\n",
       "      'value': '6136',\n",
       "      'footnotes': [{}]},\n",
       "     {'year': '2019',\n",
       "      'period': 'M01',\n",
       "      'periodName': 'January',\n",
       "      'value': '6475',\n",
       "      'footnotes': [{}]},\n",
       "     {'year': '2018',\n",
       "      'period': 'M12',\n",
       "      'periodName': 'December',\n",
       "      'value': '6389',\n",
       "      'footnotes': [{}]},\n",
       "     {'year': '2018',\n",
       "      'period': 'M11',\n",
       "      'periodName': 'November',\n",
       "      'value': '6115',\n",
       "      'footnotes': [{}]},\n",
       "     {'year': '2018',\n",
       "      'period': 'M10',\n",
       "      'periodName': 'October',\n",
       "      'value': '6211',\n",
       "      'footnotes': [{}]},\n",
       "     {'year': '2018',\n",
       "      'period': 'M09',\n",
       "      'periodName': 'September',\n",
       "      'value': '6073',\n",
       "      'footnotes': [{}]},\n",
       "     {'year': '2018',\n",
       "      'period': 'M08',\n",
       "      'periodName': 'August',\n",
       "      'value': '6156',\n",
       "      'footnotes': [{}]},\n",
       "     {'year': '2018',\n",
       "      'period': 'M07',\n",
       "      'periodName': 'July',\n",
       "      'value': '6195',\n",
       "      'footnotes': [{}]},\n",
       "     {'year': '2018',\n",
       "      'period': 'M06',\n",
       "      'periodName': 'June',\n",
       "      'value': '6447',\n",
       "      'footnotes': [{}]},\n",
       "     {'year': '2018',\n",
       "      'period': 'M05',\n",
       "      'periodName': 'May',\n",
       "      'value': '6196',\n",
       "      'footnotes': [{}]},\n",
       "     {'year': '2018',\n",
       "      'period': 'M04',\n",
       "      'periodName': 'April',\n",
       "      'value': '6459',\n",
       "      'footnotes': [{}]},\n",
       "     {'year': '2018',\n",
       "      'period': 'M03',\n",
       "      'periodName': 'March',\n",
       "      'value': '6472',\n",
       "      'footnotes': [{}]},\n",
       "     {'year': '2018',\n",
       "      'period': 'M02',\n",
       "      'periodName': 'February',\n",
       "      'value': '6581',\n",
       "      'footnotes': [{}]},\n",
       "     {'year': '2018',\n",
       "      'period': 'M01',\n",
       "      'periodName': 'January',\n",
       "      'value': '6489',\n",
       "      'footnotes': [{}]},\n",
       "     {'year': '2017',\n",
       "      'period': 'M12',\n",
       "      'periodName': 'December',\n",
       "      'value': '6632',\n",
       "      'footnotes': [{}]},\n",
       "     {'year': '2017',\n",
       "      'period': 'M11',\n",
       "      'periodName': 'November',\n",
       "      'value': '6774',\n",
       "      'footnotes': [{}]},\n",
       "     {'year': '2017',\n",
       "      'period': 'M10',\n",
       "      'periodName': 'October',\n",
       "      'value': '6700',\n",
       "      'footnotes': [{}]},\n",
       "     {'year': '2017',\n",
       "      'period': 'M09',\n",
       "      'periodName': 'September',\n",
       "      'value': '6854',\n",
       "      'footnotes': [{}]},\n",
       "     {'year': '2017',\n",
       "      'period': 'M08',\n",
       "      'periodName': 'August',\n",
       "      'value': '7082',\n",
       "      'footnotes': [{}]},\n",
       "     {'year': '2017',\n",
       "      'period': 'M07',\n",
       "      'periodName': 'July',\n",
       "      'value': '6892',\n",
       "      'footnotes': [{}]},\n",
       "     {'year': '2017',\n",
       "      'period': 'M06',\n",
       "      'periodName': 'June',\n",
       "      'value': '6873',\n",
       "      'footnotes': [{}]},\n",
       "     {'year': '2017',\n",
       "      'period': 'M05',\n",
       "      'periodName': 'May',\n",
       "      'value': '7000',\n",
       "      'footnotes': [{}]},\n",
       "     {'year': '2017',\n",
       "      'period': 'M04',\n",
       "      'periodName': 'April',\n",
       "      'value': '7089',\n",
       "      'footnotes': [{}]},\n",
       "     {'year': '2017',\n",
       "      'period': 'M03',\n",
       "      'periodName': 'March',\n",
       "      'value': '7073',\n",
       "      'footnotes': [{}]},\n",
       "     {'year': '2017',\n",
       "      'period': 'M02',\n",
       "      'periodName': 'February',\n",
       "      'value': '7379',\n",
       "      'footnotes': [{}]},\n",
       "     {'year': '2017',\n",
       "      'period': 'M01',\n",
       "      'periodName': 'January',\n",
       "      'value': '7468',\n",
       "      'footnotes': [{}]},\n",
       "     {'year': '2016',\n",
       "      'period': 'M12',\n",
       "      'periodName': 'December',\n",
       "      'value': '7521',\n",
       "      'footnotes': [{}]},\n",
       "     {'year': '2016',\n",
       "      'period': 'M11',\n",
       "      'periodName': 'November',\n",
       "      'value': '7553',\n",
       "      'footnotes': [{}]},\n",
       "     {'year': '2016',\n",
       "      'period': 'M10',\n",
       "      'periodName': 'October',\n",
       "      'value': '7811',\n",
       "      'footnotes': [{}]},\n",
       "     {'year': '2016',\n",
       "      'period': 'M09',\n",
       "      'periodName': 'September',\n",
       "      'value': '7953',\n",
       "      'footnotes': [{}]},\n",
       "     {'year': '2016',\n",
       "      'period': 'M08',\n",
       "      'periodName': 'August',\n",
       "      'value': '7784',\n",
       "      'footnotes': [{}]},\n",
       "     {'year': '2016',\n",
       "      'period': 'M07',\n",
       "      'periodName': 'July',\n",
       "      'value': '7641',\n",
       "      'footnotes': [{}]},\n",
       "     {'year': '2016',\n",
       "      'period': 'M06',\n",
       "      'periodName': 'June',\n",
       "      'value': '7744',\n",
       "      'footnotes': [{}]},\n",
       "     {'year': '2016',\n",
       "      'period': 'M05',\n",
       "      'periodName': 'May',\n",
       "      'value': '7652',\n",
       "      'footnotes': [{}]},\n",
       "     {'year': '2016',\n",
       "      'period': 'M04',\n",
       "      'periodName': 'April',\n",
       "      'value': '8067',\n",
       "      'footnotes': [{}]},\n",
       "     {'year': '2016',\n",
       "      'period': 'M03',\n",
       "      'periodName': 'March',\n",
       "      'value': '7961',\n",
       "      'footnotes': [{}]},\n",
       "     {'year': '2016',\n",
       "      'period': 'M02',\n",
       "      'periodName': 'February',\n",
       "      'value': '7702',\n",
       "      'footnotes': [{}]},\n",
       "     {'year': '2016',\n",
       "      'period': 'M01',\n",
       "      'periodName': 'January',\n",
       "      'value': '7627',\n",
       "      'footnotes': [{}]},\n",
       "     {'year': '2015',\n",
       "      'period': 'M12',\n",
       "      'periodName': 'December',\n",
       "      'value': '7907',\n",
       "      'footnotes': [{}]},\n",
       "     {'year': '2015',\n",
       "      'period': 'M11',\n",
       "      'periodName': 'November',\n",
       "      'value': '8000',\n",
       "      'footnotes': [{}]},\n",
       "     {'year': '2015',\n",
       "      'period': 'M10',\n",
       "      'periodName': 'October',\n",
       "      'value': '7922',\n",
       "      'footnotes': [{}]},\n",
       "     {'year': '2015',\n",
       "      'period': 'M09',\n",
       "      'periodName': 'September',\n",
       "      'value': '7907',\n",
       "      'footnotes': [{}]},\n",
       "     {'year': '2015',\n",
       "      'period': 'M08',\n",
       "      'periodName': 'August',\n",
       "      'value': '7992',\n",
       "      'footnotes': [{}]},\n",
       "     {'year': '2015',\n",
       "      'period': 'M07',\n",
       "      'periodName': 'July',\n",
       "      'value': '8167',\n",
       "      'footnotes': [{}]},\n",
       "     {'year': '2015',\n",
       "      'period': 'M06',\n",
       "      'periodName': 'June',\n",
       "      'value': '8247',\n",
       "      'footnotes': [{}]},\n",
       "     {'year': '2015',\n",
       "      'period': 'M05',\n",
       "      'periodName': 'May',\n",
       "      'value': '8834',\n",
       "      'footnotes': [{}]},\n",
       "     {'year': '2015',\n",
       "      'period': 'M04',\n",
       "      'periodName': 'April',\n",
       "      'value': '8550',\n",
       "      'footnotes': [{}]},\n",
       "     {'year': '2015',\n",
       "      'period': 'M03',\n",
       "      'periodName': 'March',\n",
       "      'value': '8515',\n",
       "      'footnotes': [{}]},\n",
       "     {'year': '2015',\n",
       "      'period': 'M02',\n",
       "      'periodName': 'February',\n",
       "      'value': '8599',\n",
       "      'footnotes': [{}]},\n",
       "     {'year': '2015',\n",
       "      'period': 'M01',\n",
       "      'periodName': 'January',\n",
       "      'value': '8885',\n",
       "      'footnotes': [{}]}]}]}}"
      ]
     },
     "execution_count": 32,
     "metadata": {},
     "output_type": "execute_result"
    }
   ],
   "source": [
    "headers = {'Content-type': 'application/json'}\n",
    "# civilian unemployment query\n",
    "post_json = {\"seriesid\": ['LNS13000000'], \"startyear\":\"2015\", \"endyear\":\"2024\"}\n",
    "\n",
    "data = json.dumps(post_json)\n",
    "p = requests.post('https://api.bls.gov/publicAPI/v1/timeseries/data/', data=data, headers=headers)\n",
    "json_data = json.loads(p.text)\n",
    "\n",
    "json_data"
   ]
  },
  {
   "cell_type": "markdown",
   "metadata": {},
   "source": [
    "We can use a similar pipeline as we did above to get the json data into a pandas dictionary. "
   ]
  },
  {
   "cell_type": "code",
   "execution_count": 22,
   "metadata": {},
   "outputs": [],
   "source": [
    "pandas_data = {\n",
    "    'seriesId': [],\n",
    "    'year': [],\n",
    "    'period': [],\n",
    "    'value': []\n",
    "}\n",
    "\n",
    "for series in json_data['Results']['series']:\n",
    "    \n",
    "    seriesId = series['seriesID']\n",
    "    \n",
    "    for item in series['data']:\n",
    "        year = item['year']\n",
    "        period = item['period']\n",
    "        value = item['value']\n",
    "                \n",
    "        pandas_data['seriesId'].append(seriesId)\n",
    "        pandas_data['year'].append(year)\n",
    "        pandas_data['period'].append(period)\n",
    "        pandas_data['value'].append(value)        \n"
   ]
  },
  {
   "cell_type": "markdown",
   "metadata": {},
   "source": [
    "Let's convert our dictionary into a pandas DataFrame and take a look at it."
   ]
  },
  {
   "cell_type": "code",
   "execution_count": 24,
   "metadata": {},
   "outputs": [
    {
     "data": {
      "text/html": [
       "<div>\n",
       "<style scoped>\n",
       "    .dataframe tbody tr th:only-of-type {\n",
       "        vertical-align: middle;\n",
       "    }\n",
       "\n",
       "    .dataframe tbody tr th {\n",
       "        vertical-align: top;\n",
       "    }\n",
       "\n",
       "    .dataframe thead th {\n",
       "        text-align: right;\n",
       "    }\n",
       "</style>\n",
       "<table border=\"1\" class=\"dataframe\">\n",
       "  <thead>\n",
       "    <tr style=\"text-align: right;\">\n",
       "      <th></th>\n",
       "      <th>seriesId</th>\n",
       "      <th>year</th>\n",
       "      <th>period</th>\n",
       "      <th>value</th>\n",
       "    </tr>\n",
       "  </thead>\n",
       "  <tbody>\n",
       "    <tr>\n",
       "      <th>0</th>\n",
       "      <td>LNS13000000</td>\n",
       "      <td>2024</td>\n",
       "      <td>M08</td>\n",
       "      <td>7115</td>\n",
       "    </tr>\n",
       "    <tr>\n",
       "      <th>1</th>\n",
       "      <td>LNS13000000</td>\n",
       "      <td>2024</td>\n",
       "      <td>M07</td>\n",
       "      <td>7163</td>\n",
       "    </tr>\n",
       "    <tr>\n",
       "      <th>2</th>\n",
       "      <td>LNS13000000</td>\n",
       "      <td>2024</td>\n",
       "      <td>M06</td>\n",
       "      <td>6811</td>\n",
       "    </tr>\n",
       "    <tr>\n",
       "      <th>3</th>\n",
       "      <td>LNS13000000</td>\n",
       "      <td>2024</td>\n",
       "      <td>M05</td>\n",
       "      <td>6649</td>\n",
       "    </tr>\n",
       "    <tr>\n",
       "      <th>4</th>\n",
       "      <td>LNS13000000</td>\n",
       "      <td>2024</td>\n",
       "      <td>M04</td>\n",
       "      <td>6492</td>\n",
       "    </tr>\n",
       "  </tbody>\n",
       "</table>\n",
       "</div>"
      ],
      "text/plain": [
       "      seriesId  year period value\n",
       "0  LNS13000000  2024    M08  7115\n",
       "1  LNS13000000  2024    M07  7163\n",
       "2  LNS13000000  2024    M06  6811\n",
       "3  LNS13000000  2024    M05  6649\n",
       "4  LNS13000000  2024    M04  6492"
      ]
     },
     "execution_count": 24,
     "metadata": {},
     "output_type": "execute_result"
    }
   ],
   "source": [
    "df = pd.DataFrame(pandas_data)\n",
    "df.head()"
   ]
  },
  {
   "cell_type": "markdown",
   "metadata": {},
   "source": [
    "When you are loading data from a website, it can sometimes be a good idea to check how the data loaded into pandas. For instance, sometimes numerical variables are treated as categorical variables. We can the data type of our columns with `df.dtypes`."
   ]
  },
  {
   "cell_type": "code",
   "execution_count": 107,
   "metadata": {},
   "outputs": [
    {
     "data": {
      "text/plain": [
       "seriesId     object\n",
       "year         object\n",
       "period       object\n",
       "value        object\n",
       "footnotes    object\n",
       "dtype: object"
      ]
     },
     "execution_count": 107,
     "metadata": {},
     "output_type": "execute_result"
    }
   ],
   "source": [
    "df.dtypes"
   ]
  },
  {
   "cell_type": "markdown",
   "metadata": {},
   "source": [
    "It looks like `'year'` and `'value'` are currently object columns, which means they will be treated as strings. We can change the column by using `.astype('int64')` and re-assigning the output to our columns. `'int64'` is a pandas-specific data type for integer values. "
   ]
  },
  {
   "cell_type": "code",
   "execution_count": 118,
   "metadata": {},
   "outputs": [
    {
     "data": {
      "text/plain": [
       "seriesId     object\n",
       "year          int64\n",
       "period       object\n",
       "value         int64\n",
       "footnotes    object\n",
       "dtype: object"
      ]
     },
     "execution_count": 118,
     "metadata": {},
     "output_type": "execute_result"
    }
   ],
   "source": [
    "df['year'] = df['year'].astype('int64')\n",
    "df['value'] = df['value'].astype('int64')\n",
    "df.dtypes"
   ]
  },
  {
   "cell_type": "markdown",
   "metadata": {},
   "source": [
    "Now that we've fixed the data types of our variables, we're going to summarize citizen employment unemployment by year. To do this, we can group our data by year with `.groupby()` and then calculating the mean. "
   ]
  },
  {
   "cell_type": "code",
   "execution_count": 127,
   "metadata": {},
   "outputs": [
    {
     "data": {
      "text/plain": [
       "year\n",
       "2019     5999.166667\n",
       "2020    12951.666667\n",
       "2021     8626.583333\n",
       "2022     5994.166667\n",
       "2023     6078.333333\n",
       "2024     6655.125000\n",
       "Name: value, dtype: float64"
      ]
     },
     "execution_count": 127,
     "metadata": {},
     "output_type": "execute_result"
    }
   ],
   "source": [
    "year_groups = df.groupby('year')\n",
    "unemployment_by_year = year_groups['value'].mean()\n",
    "unemployment_by_year"
   ]
  },
  {
   "cell_type": "markdown",
   "metadata": {},
   "source": [
    "When you produce a summary of a grouped DataFrame, you can use `.reset_index()` to turn it back into a standard, non-grouped data frame. "
   ]
  },
  {
   "cell_type": "code",
   "execution_count": 129,
   "metadata": {},
   "outputs": [
    {
     "data": {
      "text/html": [
       "<div>\n",
       "<style scoped>\n",
       "    .dataframe tbody tr th:only-of-type {\n",
       "        vertical-align: middle;\n",
       "    }\n",
       "\n",
       "    .dataframe tbody tr th {\n",
       "        vertical-align: top;\n",
       "    }\n",
       "\n",
       "    .dataframe thead th {\n",
       "        text-align: right;\n",
       "    }\n",
       "</style>\n",
       "<table border=\"1\" class=\"dataframe\">\n",
       "  <thead>\n",
       "    <tr style=\"text-align: right;\">\n",
       "      <th></th>\n",
       "      <th>year</th>\n",
       "      <th>value</th>\n",
       "    </tr>\n",
       "  </thead>\n",
       "  <tbody>\n",
       "    <tr>\n",
       "      <th>0</th>\n",
       "      <td>2019</td>\n",
       "      <td>5999.166667</td>\n",
       "    </tr>\n",
       "    <tr>\n",
       "      <th>1</th>\n",
       "      <td>2020</td>\n",
       "      <td>12951.666667</td>\n",
       "    </tr>\n",
       "    <tr>\n",
       "      <th>2</th>\n",
       "      <td>2021</td>\n",
       "      <td>8626.583333</td>\n",
       "    </tr>\n",
       "    <tr>\n",
       "      <th>3</th>\n",
       "      <td>2022</td>\n",
       "      <td>5994.166667</td>\n",
       "    </tr>\n",
       "    <tr>\n",
       "      <th>4</th>\n",
       "      <td>2023</td>\n",
       "      <td>6078.333333</td>\n",
       "    </tr>\n",
       "    <tr>\n",
       "      <th>5</th>\n",
       "      <td>2024</td>\n",
       "      <td>6655.125000</td>\n",
       "    </tr>\n",
       "  </tbody>\n",
       "</table>\n",
       "</div>"
      ],
      "text/plain": [
       "   year         value\n",
       "0  2019   5999.166667\n",
       "1  2020  12951.666667\n",
       "2  2021   8626.583333\n",
       "3  2022   5994.166667\n",
       "4  2023   6078.333333\n",
       "5  2024   6655.125000"
      ]
     },
     "execution_count": 129,
     "metadata": {},
     "output_type": "execute_result"
    }
   ],
   "source": [
    "unemployment_by_year_df = unemployment_by_year.reset_index()\n",
    "unemployment_by_year_df"
   ]
  },
  {
   "cell_type": "markdown",
   "metadata": {},
   "source": [
    "Now, let's use matplotlib to plot the change in civilian unemployment over the last few years. "
   ]
  },
  {
   "cell_type": "code",
   "execution_count": 131,
   "metadata": {},
   "outputs": [
    {
     "data": {
      "image/png": "[encoded data removed]",
      "text/plain": [
       "<Figure size 432x288 with 1 Axes>"
      ]
     },
     "metadata": {
      "needs_background": "light"
     },
     "output_type": "display_data"
    }
   ],
   "source": [
    "import matplotlib.pyplot as plt\n",
    "import seaborn as sns\n",
    "\n",
    "fig, ax = plt.subplots()\n",
    "ax.plot(unemployment_by_year_df['year'], unemployment_by_year_df['value'])\n",
    "ax.set_xlabel('Year')\n",
    "ax.set_ylabel('Unemployment')\n",
    "plt.show()"
   ]
  },
  {
   "cell_type": "markdown",
   "metadata": {},
   "source": [
    "Finally, we can save our unemployment data for future use or storage. "
   ]
  },
  {
   "cell_type": "code",
   "execution_count": 114,
   "metadata": {},
   "outputs": [],
   "source": [
    "df.to_csv('output.csv')"
   ]
  },
  {
   "cell_type": "markdown",
   "metadata": {},
   "source": [
    "## Resources\n",
    "\n",
    "- User identifying agents:\n",
    "https://www.zenrows.com/blog/python-requests-user-agent#what-is\n",
    "- Navigate Javascript and logins with Selenium: https://selenium-python.readthedocs.io/index.html"
   ]
  }
 ],
 "metadata": {
  "kernelspec": {
   "display_name": "Python 3.9.12 ('workshop')",
   "language": "python",
   "name": "python3"
  },
  "language_info": {
   "codemirror_mode": {
    "name": "ipython",
    "version": 3
   },
   "file_extension": ".py",
   "mimetype": "text/x-python",
   "name": "python",
   "nbconvert_exporter": "python",
   "pygments_lexer": "ipython3",
   "version": "3.9.12"
  },
  "orig_nbformat": 4,
  "vscode": {
   "interpreter": {
    "hash": "5e5670abb08844f1af3bbc7bb9ef8e3b4ef400ad7b254432ac9e559b82ca9501"
   }
  }
 },
 "nbformat": 4,
 "nbformat_minor": 2
}
