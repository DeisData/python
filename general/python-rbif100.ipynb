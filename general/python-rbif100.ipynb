{
 "cells": [
  {
   "cell_type": "markdown",
   "metadata": {},
   "source": [
    "# Python Introduction\n",
    "\n",
    "Python is a very powerful tool for automating tasks that would otherwise be time-consuming or impossible to do by hand or other conventional tools and techniques. Here, we'll go over basic ways to use Python for data analysis to introduce you to a slice of its potential."
   ]
  },
  {
   "cell_type": "markdown",
   "metadata": {},
   "source": [
    "## Markdown"
   ]
  },
  {
   "cell_type": "markdown",
   "metadata": {},
   "source": [
    "We are working in a **Jupyter Notebook**. This lets us have descriptive text in Markdown as well running analysis in Python code. You can highlight text in **bold** or *italics*."
   ]
  },
  {
   "cell_type": "markdown",
   "metadata": {},
   "source": [
    "For more on Markdown, check out [this cheatsheet](https://www.markdownguide.org/cheat-sheet/).\n"
   ]
  },
  {
   "cell_type": "markdown",
   "metadata": {},
   "source": [
    "## Code Block"
   ]
  },
  {
   "cell_type": "markdown",
   "metadata": {},
   "source": [
    "Jupyter notebooks allow code to be run in blocks (also called chunks). Lines are run top to bottom. You can always edit a code block and re-run it to make changes."
   ]
  },
  {
   "cell_type": "code",
   "execution_count": 1,
   "metadata": {},
   "outputs": [
    {
     "name": "stdout",
     "output_type": "stream",
     "text": [
      "\n"
     ]
    }
   ],
   "source": [
    "#  INSTRUCTIONS:   Write a message in the quotes.\n",
    "#  type Shift+Enter to run the cell.\n",
    "message = ''\n",
    "\n",
    "print(message)"
   ]
  },
  {
   "cell_type": "markdown",
   "metadata": {},
   "source": [
    "## Python as a calculator"
   ]
  },
  {
   "cell_type": "markdown",
   "metadata": {},
   "source": [
    "An incredibly simple yet pivotal role of Python is to perform math calculations (addition, subtraction, multiplication, etc.). We show how to do basic math below.\n",
    "\n",
    "You'll see the symbol `#` used often. These are comments, and they are used to write descriptions. Any characters following `#` are not run or executed."
   ]
  },
  {
   "cell_type": "code",
   "execution_count": 2,
   "metadata": {},
   "outputs": [
    {
     "data": {
      "text/plain": [
       "23"
      ]
     },
     "execution_count": 2,
     "metadata": {},
     "output_type": "execute_result"
    }
   ],
   "source": [
    "3 + 4 * 5  # addition and multiplication "
   ]
  },
  {
   "cell_type": "code",
   "execution_count": 3,
   "metadata": {},
   "outputs": [
    {
     "data": {
      "text/plain": [
       "6.0"
      ]
     },
     "execution_count": 3,
     "metadata": {},
     "output_type": "execute_result"
    }
   ],
   "source": [
    "12 / (6 - 4) # division and substraction"
   ]
  },
  {
   "cell_type": "code",
   "execution_count": 4,
   "metadata": {},
   "outputs": [
    {
     "data": {
      "text/plain": [
       "8"
      ]
     },
     "execution_count": 4,
     "metadata": {},
     "output_type": "execute_result"
    }
   ],
   "source": [
    "2 ** 3 # exponentiation"
   ]
  },
  {
   "cell_type": "markdown",
   "metadata": {},
   "source": [
    "#### Question 1: Math\n",
    "Calculate the following value in Python: $ \\frac{25}{(35 - 3)^3} $"
   ]
  },
  {
   "cell_type": "code",
   "execution_count": 5,
   "metadata": {},
   "outputs": [],
   "source": [
    "### Put your code below here:\n"
   ]
  },
  {
   "cell_type": "markdown",
   "metadata": {},
   "source": [
    "## Assigning Variables\n",
    "A foundational tool in Python is assigning values to variables. We do this with the `=` operator."
   ]
  },
  {
   "cell_type": "code",
   "execution_count": 6,
   "metadata": {},
   "outputs": [],
   "source": [
    "x = 50 # x is 50"
   ]
  },
  {
   "cell_type": "markdown",
   "metadata": {},
   "source": [
    "This sets the variable `x` to be 50, an **integer**, or `int`. This value of x is now stored in our notebook, and we can access this value in other cells until the notebook is reset. For instance, subtracting 20 from `x` prints out a value of 30."
   ]
  },
  {
   "cell_type": "code",
   "execution_count": 7,
   "metadata": {},
   "outputs": [
    {
     "data": {
      "text/plain": [
       "30"
      ]
     },
     "execution_count": 7,
     "metadata": {},
     "output_type": "execute_result"
    }
   ],
   "source": [
    "# What if I use x again in a different cell?\n",
    "x - 20"
   ]
  },
  {
   "cell_type": "markdown",
   "metadata": {},
   "source": [
    "**Variables persist between cells once they have been run (executed).**"
   ]
  },
  {
   "cell_type": "markdown",
   "metadata": {},
   "source": [
    "If we ever want to check the value of any variable, we can use the built-in `print()` command to display the value. "
   ]
  },
  {
   "cell_type": "code",
   "execution_count": 8,
   "metadata": {},
   "outputs": [
    {
     "name": "stdout",
     "output_type": "stream",
     "text": [
      "35\n"
     ]
    }
   ],
   "source": [
    "y = 35\n",
    "print(y)"
   ]
  },
  {
   "cell_type": "markdown",
   "metadata": {},
   "source": [
    "We can also assign the value of one variable to another variable. If we execute `x = y`, x takes the current value of `y` and assigns that to `x`.\n",
    "\n",
    "*Note: `y` will be unaffected by this assignment. `x = y` should be interpretted as \"let x take the current value of y\".*"
   ]
  },
  {
   "cell_type": "code",
   "execution_count": 9,
   "metadata": {},
   "outputs": [
    {
     "name": "stdout",
     "output_type": "stream",
     "text": [
      "35\n",
      "35\n"
     ]
    }
   ],
   "source": [
    "x = y\n",
    "print(x)\n",
    "print(y)"
   ]
  },
  {
   "cell_type": "markdown",
   "metadata": {},
   "source": [
    "If we change `y` to be a different value, `x` will be unaffected."
   ]
  },
  {
   "cell_type": "code",
   "execution_count": 10,
   "metadata": {},
   "outputs": [
    {
     "name": "stdout",
     "output_type": "stream",
     "text": [
      "35\n",
      "3.8\n"
     ]
    }
   ],
   "source": [
    "y = 3.8\n",
    "print(x) # will not always be the same value as y\n",
    "print(y)"
   ]
  },
  {
   "cell_type": "markdown",
   "metadata": {},
   "source": [
    "**Basic variables only change value when something is assigned to them.**\n",
    "They are **not** like spreadsheets where a cell can depend on another and update automatically."
   ]
  },
  {
   "cell_type": "markdown",
   "metadata": {},
   "source": [
    "Variables can be integers, floats (numbers with decimals), and strings (sets of characters). Strings must be specified with double quotes or single quotes."
   ]
  },
  {
   "cell_type": "code",
   "execution_count": 11,
   "metadata": {},
   "outputs": [],
   "source": [
    "a = 52 # integer\n",
    "b = 3.14 # float\n",
    "c = 'Inigo Montoya' # string"
   ]
  },
  {
   "cell_type": "markdown",
   "metadata": {},
   "source": [
    "#### Question 2: Swapping Values\n",
    "Given the code below, what is the value of the variable `swap` by the end of the block?"
   ]
  },
  {
   "cell_type": "code",
   "execution_count": 12,
   "metadata": {},
   "outputs": [],
   "source": [
    "x = 1.0\n",
    "y = 3.0\n",
    "swap = x\n",
    "x = y\n",
    "y = swap "
   ]
  },
  {
   "cell_type": "markdown",
   "metadata": {},
   "source": [
    "**What's in a name?** _Variable name conventions_\n",
    "- Use only letters, digits, and underscores _\n",
    "- Start with a letter (typically lower case)\n",
    "- Variable names are case sensitive\n",
    "- Use meaningful names!\n",
    "\n",
    "**Variables must be created before they are used.** Otherwise, Python will throw an error."
   ]
  },
  {
   "cell_type": "markdown",
   "metadata": {},
   "source": [
    "## Python Data Structures\n",
    "\n",
    "Going over the fundmentals, we learned how to store numbers and sets of characters as variables. Python also has built-in ways to store multiple strings and numbers, two of which are **lists**, and **dictionaries**. These all allow you to groups of ints, floats, and strings in different arrangements. Here, we created a `list` of 5 ints called `x`."
   ]
  },
  {
   "cell_type": "code",
   "execution_count": 13,
   "metadata": {},
   "outputs": [],
   "source": [
    "x = [ 1, 2, 3, 4, 5 ] # integers 1 - 5"
   ]
  },
  {
   "cell_type": "markdown",
   "metadata": {},
   "source": [
    "Here are brief descriptions of the four structures.\n",
    "\n",
    "- Lists: store data in a **specific order**\n",
    "- Dictionaries: store combinations of **keys** and **values** without any order\n",
    "\n",
    "We will dive into these in more detail below, focusing primarily on lists and dictionaries."
   ]
  },
  {
   "cell_type": "markdown",
   "metadata": {},
   "source": [
    "### Lists\n",
    "\n",
    "Lists are very common tools in Python. They allow us to store large amounts of data with an order. They come with very handy tools to reference different objects stored in them. We can also easily add items to them."
   ]
  },
  {
   "cell_type": "markdown",
   "metadata": {},
   "source": [
    "#### Initialize a list\n",
    "There are two ways of initializing an empty list: `list()` and ` [] `. "
   ]
  },
  {
   "cell_type": "code",
   "execution_count": 14,
   "metadata": {},
   "outputs": [],
   "source": [
    "# these do the same thing\n",
    "my_list = list() \n",
    "your_list = []"
   ]
  },
  {
   "cell_type": "markdown",
   "metadata": {},
   "source": [
    "To make a list with pre-populated with items, we can fill the brackets with comma-separated values."
   ]
  },
  {
   "cell_type": "code",
   "execution_count": 15,
   "metadata": {},
   "outputs": [],
   "source": [
    "number_list = [ 0.1, 0.2, 0.3, 0.4 ] # lists can hold numbers\n",
    "string_list = [ 'cat', 'dog', 'rabbit' ] # can also hold strings"
   ]
  },
  {
   "cell_type": "markdown",
   "metadata": {},
   "source": [
    "#### Referencing to items in a list\n",
    "\n",
    "Each item in a list has an **index**. If your list has 3 items, it has 3 indexes (or indicies, depending on who you ask). \n",
    "\n",
    "In Python, indexes starts at 0. To reference the first item in `number_list`, we use `number_list[0]`."
   ]
  },
  {
   "cell_type": "code",
   "execution_count": 16,
   "metadata": {},
   "outputs": [
    {
     "data": {
      "text/plain": [
       "0.1"
      ]
     },
     "execution_count": 16,
     "metadata": {},
     "output_type": "execute_result"
    }
   ],
   "source": [
    "number_list[0] # get the first item from number_list"
   ]
  },
  {
   "cell_type": "markdown",
   "metadata": {},
   "source": [
    "We can reference the rest of the numbers in the list with indexes 1 through 3. Note that even though there are 4 items in the list, the index goes from 0 to 3. \n",
    "\n",
    "We also can use the items in a list the same way we can use variables to do math or other operations."
   ]
  },
  {
   "cell_type": "code",
   "execution_count": 17,
   "metadata": {},
   "outputs": [
    {
     "name": "stdout",
     "output_type": "stream",
     "text": [
      "-0.2\n",
      "my favorite kind of animal is rabbit\n"
     ]
    }
   ],
   "source": [
    "print( number_list[1] - number_list[3] ) # 0.2 - 0.4 \n",
    "print( 'my favorite kind of animal is', string_list[2] ) # prints rabbit"
   ]
  },
  {
   "cell_type": "markdown",
   "metadata": {},
   "source": [
    "If we try to reference an index that does not exist in a list, we get an error."
   ]
  },
  {
   "cell_type": "code",
   "execution_count": 18,
   "metadata": {},
   "outputs": [
    {
     "ename": "IndexError",
     "evalue": "list index out of range",
     "output_type": "error",
     "traceback": [
      "\u001b[0;31m---------------------------------------------------------------------------\u001b[0m",
      "\u001b[0;31mIndexError\u001b[0m                                Traceback (most recent call last)",
      "\u001b[1;32m/Users/fordfishman/GitHub/python/general/python-rbif100.ipynb Cell 45'\u001b[0m in \u001b[0;36m<cell line: 1>\u001b[0;34m()\u001b[0m\n\u001b[0;32m----> <a href='vscode-notebook-cell:/Users/fordfishman/GitHub/python/general/python-rbif100.ipynb#ch0000042?line=0'>1</a>\u001b[0m number_list[\u001b[39m4\u001b[39;49m]\n",
      "\u001b[0;31mIndexError\u001b[0m: list index out of range"
     ]
    }
   ],
   "source": [
    "number_list[4]"
   ]
  },
  {
   "cell_type": "markdown",
   "metadata": {},
   "source": [
    "#### Appending to a list\n",
    "If we want to add an item to the end of `string_list`, we can use `string_list.append()`."
   ]
  },
  {
   "cell_type": "code",
   "execution_count": 20,
   "metadata": {},
   "outputs": [
    {
     "name": "stdout",
     "output_type": "stream",
     "text": [
      "['cat', 'dog', 'rabbit', 'bear']\n"
     ]
    }
   ],
   "source": [
    "string_list.append('bear')\n",
    "print(string_list)"
   ]
  },
  {
   "cell_type": "markdown",
   "metadata": {},
   "source": [
    "#### Reassigning an item in a list\n",
    "We can also alter any item currently in a list."
   ]
  },
  {
   "cell_type": "code",
   "execution_count": 21,
   "metadata": {},
   "outputs": [
    {
     "name": "stdout",
     "output_type": "stream",
     "text": [
      "[2096, 0.2, 0.3, 0.4]\n"
     ]
    }
   ],
   "source": [
    "number_list[0] = 2096\n",
    "print(number_list)"
   ]
  },
  {
   "cell_type": "markdown",
   "metadata": {},
   "source": [
    "#### Question 3: Lists\n",
    "Create a list of numbers. Add the first number in the list to the last number of the list. Append this value to the list."
   ]
  },
  {
   "cell_type": "code",
   "execution_count": null,
   "metadata": {},
   "outputs": [],
   "source": [
    "### Your code here:\n"
   ]
  },
  {
   "cell_type": "markdown",
   "metadata": {},
   "source": [
    "### Dictionaries\n",
    "Like lists, dictionaries are powerful ways to store items. However, the two structures are quite different from each other. Instead of storing items in a specific order, like a list, dictionaries store them as **keys** and **values**. For example, you might have a key `giraffes` paired with the value `25`, and the key `kangaroos` paired with the value `32`. We can do this with using brackets (`{ }`) and colons (`:`) with the format of `{ KEY1: VALUE1, KEY2: VALUE2, ... }`."
   ]
  },
  {
   "cell_type": "code",
   "execution_count": 22,
   "metadata": {},
   "outputs": [],
   "source": [
    "animals_dict = { 'giraffes': 25, 'kangaroos': 32 }"
   ]
  },
  {
   "cell_type": "markdown",
   "metadata": {},
   "source": [
    "Notice that our keys are strings and our values here are ints. Keys and values can be any data types, though it tends to be best practice for keys to be strings. \n",
    "\n",
    "We can also write this vertically, putting key-value pairs on their own lines for visual clarity. You will still need to separate entries with a comma, however."
   ]
  },
  {
   "cell_type": "code",
   "execution_count": 23,
   "metadata": {},
   "outputs": [],
   "source": [
    "animals_dict = { \n",
    "    'giraffes': 25, \n",
    "    'kangaroos': 32 \n",
    "}"
   ]
  },
  {
   "cell_type": "markdown",
   "metadata": {},
   "source": [
    "Once we create a dictionary with keys and values, we can use the key to return the corresponding value. We do this by using `DICT[KEY]`:"
   ]
  },
  {
   "cell_type": "code",
   "execution_count": 24,
   "metadata": {},
   "outputs": [
    {
     "data": {
      "text/plain": [
       "25"
      ]
     },
     "execution_count": 24,
     "metadata": {},
     "output_type": "execute_result"
    }
   ],
   "source": [
    "animals_dict['giraffes']"
   ]
  },
  {
   "cell_type": "markdown",
   "metadata": {},
   "source": [
    "Similarly to lists, if we try to reference a key that is not present in the dictionary, we will get an error."
   ]
  },
  {
   "cell_type": "code",
   "execution_count": 25,
   "metadata": {},
   "outputs": [
    {
     "ename": "KeyError",
     "evalue": "'beaver'",
     "output_type": "error",
     "traceback": [
      "\u001b[0;31m---------------------------------------------------------------------------\u001b[0m",
      "\u001b[0;31mKeyError\u001b[0m                                  Traceback (most recent call last)",
      "\u001b[1;32m/Users/fordfishman/GitHub/python/general/python-rbif100.ipynb Cell 80'\u001b[0m in \u001b[0;36m<cell line: 1>\u001b[0;34m()\u001b[0m\n\u001b[0;32m----> <a href='vscode-notebook-cell:/Users/fordfishman/GitHub/python/general/python-rbif100.ipynb#ch0000076?line=0'>1</a>\u001b[0m animals_dict[\u001b[39m'\u001b[39;49m\u001b[39mbeaver\u001b[39;49m\u001b[39m'\u001b[39;49m]\n",
      "\u001b[0;31mKeyError\u001b[0m: 'beaver'"
     ]
    }
   ],
   "source": [
    "animals_dict['beaver']"
   ]
  },
  {
   "cell_type": "markdown",
   "metadata": {},
   "source": [
    "However, dictionaries have a way around this. We can use the `.get()` function to either return a value for a key or a default value that we specify. We run it with `DICT.get(KEY, DEFAULT_VALUE)`."
   ]
  },
  {
   "cell_type": "code",
   "execution_count": 26,
   "metadata": {},
   "outputs": [
    {
     "data": {
      "text/plain": [
       "0"
      ]
     },
     "execution_count": 26,
     "metadata": {},
     "output_type": "execute_result"
    }
   ],
   "source": [
    "animals_dict.get('beaver', 0) # will return 0 because beaver is not a key in this dictionary"
   ]
  },
  {
   "cell_type": "markdown",
   "metadata": {},
   "source": [
    "Making an empty dictionary is similar to making an empty list. We can either use `dict()` or `{}`."
   ]
  },
  {
   "cell_type": "code",
   "execution_count": 27,
   "metadata": {},
   "outputs": [],
   "source": [
    "# these do the same thing\n",
    "my_dict = dict()\n",
    "your_dict = {}"
   ]
  },
  {
   "cell_type": "markdown",
   "metadata": {},
   "source": [
    "#### Adding to a dictionary\n",
    "It is very simple to add a new item to a dictionary. Instead of using the colon notation, we can simply run `DICT[KEY] = VALUE`. "
   ]
  },
  {
   "cell_type": "code",
   "execution_count": 30,
   "metadata": {},
   "outputs": [
    {
     "name": "stdout",
     "output_type": "stream",
     "text": [
      "{'giraffes': 85, 'kangaroos': 32, 'moose': 43}\n"
     ]
    }
   ],
   "source": [
    "animals_dict['moose'] = 43 # new key-value pair - moose: 43\n",
    "print(animals_dict)"
   ]
  },
  {
   "cell_type": "markdown",
   "metadata": {},
   "source": [
    "#### Give a key a new value\n",
    "Giving keys new values works just like reassigning in lists. Note that this means that you cannot have two identical keys in the same dictionary."
   ]
  },
  {
   "cell_type": "code",
   "execution_count": 31,
   "metadata": {},
   "outputs": [
    {
     "name": "stdout",
     "output_type": "stream",
     "text": [
      "{'giraffes': 85, 'kangaroos': 32, 'moose': 43}\n"
     ]
    }
   ],
   "source": [
    "animals_dict['giraffes'] = 85 # key giraffes assigned the value of 85\n",
    "print(animals_dict)"
   ]
  },
  {
   "cell_type": "markdown",
   "metadata": {},
   "source": [
    "#### Question 4: Dictionaries\n",
    "Assign the value of `giraffes` in `animal_dict` to a new key `rabbit` in the same dictionary."
   ]
  },
  {
   "cell_type": "code",
   "execution_count": null,
   "metadata": {},
   "outputs": [],
   "source": [
    "### your code here: "
   ]
  },
  {
   "cell_type": "markdown",
   "metadata": {},
   "source": [
    "## Booleans and conditionals\n",
    "\n",
    "Often in code, we want to take different actions based on the current state of our program (e.g., do we have more or less than 100 samples in our data?). We can ask yes or no questions about this state called **boolean expressions**. These questions are answered as **true** or **false**. We can design the program to perform an action based on the response, which is called a **conditional**. \n",
    "\n",
    "### Boolean\n",
    "\n",
    "`True` and `False` are keywords in Python. They are a unique data type called **booleans**. \n",
    "\n",
    "Capitalization is critical. Booleans in Python have their first letter capitalized and the rest lower-case."
   ]
  },
  {
   "cell_type": "code",
   "execution_count": 32,
   "metadata": {},
   "outputs": [
    {
     "name": "stdout",
     "output_type": "stream",
     "text": [
      "False\n",
      "True\n"
     ]
    }
   ],
   "source": [
    "f = False\n",
    "print(f)\n",
    "\n",
    "t = True\n",
    "print(t)"
   ]
  },
  {
   "cell_type": "markdown",
   "metadata": {},
   "source": [
    "### Boolean expressions\n",
    "Boolean expressions essentially ask questions that evaluate as `True` or `False`. These can examine whether two values are equal, if one is larger than another, or similar questions. To ask these questions we need to use special boolean operators that you'll see below.\n",
    "\n",
    "Boolean expressions are best used between the same data types. You can easily get unexpected results when comparing strings and ints, for instance. We can also subset with categorical variables. Here, we take all rows where the country is Hungary. "
   ]
  },
  {
   "cell_type": "code",
   "execution_count": 33,
   "metadata": {},
   "outputs": [
    {
     "data": {
      "text/plain": [
       "True"
      ]
     },
     "execution_count": 33,
     "metadata": {},
     "output_type": "execute_result"
    }
   ],
   "source": [
    "\"bad\" == \"bad\""
   ]
  },
  {
   "cell_type": "code",
   "execution_count": 34,
   "metadata": {},
   "outputs": [
    {
     "data": {
      "text/plain": [
       "True"
      ]
     },
     "execution_count": 34,
     "metadata": {},
     "output_type": "execute_result"
    }
   ],
   "source": [
    "\"bad\" != \"BAD\" # capitalization matters!"
   ]
  },
  {
   "cell_type": "code",
   "execution_count": 35,
   "metadata": {},
   "outputs": [
    {
     "data": {
      "text/plain": [
       "True"
      ]
     },
     "execution_count": 35,
     "metadata": {},
     "output_type": "execute_result"
    }
   ],
   "source": [
    "5.1 > 5.0"
   ]
  },
  {
   "cell_type": "code",
   "execution_count": 36,
   "metadata": {},
   "outputs": [
    {
     "data": {
      "text/plain": [
       "True"
      ]
     },
     "execution_count": 36,
     "metadata": {},
     "output_type": "execute_result"
    }
   ],
   "source": [
    "3 >= 3"
   ]
  },
  {
   "cell_type": "code",
   "execution_count": 37,
   "metadata": {},
   "outputs": [
    {
     "data": {
      "text/plain": [
       "True"
      ]
     },
     "execution_count": 37,
     "metadata": {},
     "output_type": "execute_result"
    }
   ],
   "source": [
    "my_list = [ 'apple', 'pear', 'grape' ]\n",
    "'apple' in my_list"
   ]
  },
  {
   "cell_type": "code",
   "execution_count": 38,
   "metadata": {},
   "outputs": [
    {
     "name": "stdout",
     "output_type": "stream",
     "text": [
      "False\n",
      "True\n"
     ]
    }
   ],
   "source": [
    "print('i' in 'team')\n",
    "print('i' in 'win')"
   ]
  },
  {
   "cell_type": "code",
   "execution_count": 39,
   "metadata": {},
   "outputs": [
    {
     "data": {
      "text/plain": [
       "False"
      ]
     },
     "execution_count": 39,
     "metadata": {},
     "output_type": "execute_result"
    }
   ],
   "source": [
    "not 20 < 40"
   ]
  },
  {
   "cell_type": "markdown",
   "metadata": {},
   "source": [
    "### Conditionals\n",
    "\n",
    "#### If statements\n",
    "\n",
    "The true power of boolean expressions is in making decisions based on whether they are true or false. We do this with `if` statements. The general syntax follows this format:"
   ]
  },
  {
   "cell_type": "code",
   "execution_count": 40,
   "metadata": {},
   "outputs": [
    {
     "name": "stdout",
     "output_type": "stream",
     "text": [
      "hello!\n"
     ]
    }
   ],
   "source": [
    "if 'a' != 'b':\n",
    "    \n",
    "    print('hello!')"
   ]
  },
  {
   "cell_type": "markdown",
   "metadata": {},
   "source": [
    "To break this down:\n",
    "- `if` keyword is first word in line\n",
    "- Boolean expression (`'a' != 'b'`) followed by a colon\n",
    "- Code below that is tabbed over\n",
    "- If the expression is true, the code that is below and tabbed is run\n",
    "- If the expression is false, nothing happens"
   ]
  },
  {
   "cell_type": "markdown",
   "metadata": {},
   "source": [
    "#### if-else statement\n",
    "\n",
    "Often in coding, we want one thing to happen if an expression is true, and another to happen if it is false. To accomplish this, we can add an `else` statement below the `if` statement. This will always be evaluated if the expression after `if` is `False`, otherwise it will not run: the `if` and `else` are mutually exclusive."
   ]
  },
  {
   "cell_type": "code",
   "execution_count": 41,
   "metadata": {},
   "outputs": [
    {
     "name": "stdout",
     "output_type": "stream",
     "text": [
      "Greater than 20\n"
     ]
    }
   ],
   "source": [
    "x = 23\n",
    "\n",
    "if x < 20: # if x less than 20; False\n",
    "    \n",
    "    print('Less than 20')\n",
    "\n",
    "else: # x greater or equal to 20 \n",
    "    \n",
    "    print('Greater than 20')"
   ]
  },
  {
   "cell_type": "markdown",
   "metadata": {},
   "source": [
    "#### `elif`\n",
    "\n",
    "What if you want to differentiate between more than 2 conditions? We can use the `elif` keyword, which stands for `else if`. This goes between the `if` and the `else` statements, and must include a new boolean expression.\n",
    "\n",
    "Again, these options are all mutually exclusive. If the `elif` code is run, that means the `if` and `else` code do not run."
   ]
  },
  {
   "cell_type": "code",
   "execution_count": 42,
   "metadata": {},
   "outputs": [
    {
     "name": "stdout",
     "output_type": "stream",
     "text": [
      "y ia between 100 and 200\n"
     ]
    }
   ],
   "source": [
    "y = 101\n",
    "\n",
    "if y < 100: # y less than 100\n",
    "    \n",
    "    print('y is less than 100')\n",
    "\n",
    "elif y < 200: # y is 100-200 (excluding 200)\n",
    "    \n",
    "    print('y ia between 100 and 200')\n",
    "\n",
    "else: # y is 200 or larger\n",
    "    \n",
    "    print('y is a big number')\n"
   ]
  },
  {
   "cell_type": "markdown",
   "metadata": {},
   "source": [
    "If we use `elif`, an `else` statement is not required. This will may result in neither the code associated with `if` nor `elif` running, however.\n",
    "\n",
    "Regardless of if there is an `else` statement or not, we can also include as many `elif` conditions as we want."
   ]
  },
  {
   "cell_type": "code",
   "execution_count": 25,
   "metadata": {},
   "outputs": [
    {
     "name": "stdout",
     "output_type": "stream",
     "text": [
      "Index(['country', 'year', 'region', 'population', 'life_expectancy',\n",
      "       'age5_surviving', 'babies_per_woman', 'gdp_per_capita', 'gdp_per_day',\n",
      "       'life_difference'],\n",
      "      dtype='object')\n"
     ]
    }
   ],
   "source": [
    "favorite_movie = 'Indiana Jones'\n",
    "\n",
    "if favorite_movie == 'Batman':\n",
    "    print(\"I'm Batman.\")\n",
    "\n",
    "elif favorite_movie == 'Lord of the Rings':\n",
    "    print(\"And my axe!!\")\n",
    "\n",
    "elif favorite_movie == 'Indiana Jones':\n",
    "    print('That belongs in a museum!!')\n",
    "\n",
    "elif favorite_movie == 'The Matrix':\n",
    "    print('whoa')\n",
    "\n",
    "else:\n",
    "    print('No quotes available :(')"
   ]
  },
  {
   "cell_type": "markdown",
   "metadata": {},
   "source": [
    "#### Question 5: Conditionals\n",
    "\n",
    "Write code that will prints the square root of `x` if x is larger than 20 and `0` if x is less than `0`.\n",
    "\n",
    "Hint: you can use `x ** 0.5` to calculate a square root.\n"
   ]
  },
  {
   "cell_type": "code",
   "execution_count": 43,
   "metadata": {},
   "outputs": [],
   "source": [
    "### your code below:\n",
    "\n",
    "\n"
   ]
  },
  {
   "cell_type": "markdown",
   "metadata": {},
   "source": [
    "## Loops\n",
    "\n",
    "Often, programs need to do the same task several times repeatedly. You may need to run a task just a handful of times, or maybe thousands of times.\n",
    "\n",
    "For example, say you want to print out all of the numbers 0 - 5. You could write `print()` 5 times:"
   ]
  },
  {
   "cell_type": "code",
   "execution_count": 26,
   "metadata": {},
   "outputs": [],
   "source": [
    "print(0)\n",
    "print(1)\n",
    "print(2)\n",
    "print(3)\n",
    "print(4)\n",
    "print(5)"
   ]
  },
  {
   "cell_type": "markdown",
   "metadata": {},
   "source": [
    "However, if you want to expand this even a few numbers further, it gets very tedious very quickly.\n",
    "\n",
    "To save us from having to have the same code duplicated over and over, we have **loops**. They are incredibly powerful tools for examining large amounts of information. Here we will be looking at **`for` loops** specifically."
   ]
  },
  {
   "cell_type": "markdown",
   "metadata": {},
   "source": [
    "### for loops\n",
    "\n",
    "`for` loops are one of the most powerful tools that base Python has to offer. `for` loops take **iterables** (lists, dictionaries, sets, tuples, even strings) and perform the same actions to each item contained within them.  "
   ]
  },
  {
   "cell_type": "markdown",
   "metadata": {},
   "source": [
    "In the code below, each number in a list gets added to 20, and then the sum is printed. We call this **iterating** over the items in the list. Note the keywords `for` and `in`."
   ]
  },
  {
   "cell_type": "code",
   "execution_count": 44,
   "metadata": {},
   "outputs": [
    {
     "name": "stdout",
     "output_type": "stream",
     "text": [
      "20\n",
      "21\n",
      "22\n",
      "23\n",
      "24\n",
      "25\n"
     ]
    }
   ],
   "source": [
    "num_list = [0, 1, 2, 3, 4, 5] # list of numbers\n",
    "\n",
    "for n in num_list: # one at a time, make each of those numbers n\n",
    "    \n",
    "    print(n + 20) # print that number + 20"
   ]
  },
  {
   "cell_type": "markdown",
   "metadata": {},
   "source": [
    "Let's break down this code:\n",
    "- `num_list = [0, 1, 2, 3, 4, 5]`: Makes a list of integers 0-5.\n",
    "- `for n in num_list:`: Take the first item in num_list and assign its value to `n`.\n",
    "- `print(n + 20)`: Add n and 20 and print the sum.\n",
    "- We then go back to the start of the loop, take the next item, assign it to `n`, and start all over again.\n",
    "\n",
    "For ordered iterables, like lists, tuples, and strings, `for` loops iterate over these groups in order.\n",
    "\n",
    "Just like normal variable names, the variable name we use after `for` is arbitrary, though short and descriptive is best. "
   ]
  },
  {
   "cell_type": "code",
   "execution_count": 45,
   "metadata": {},
   "outputs": [
    {
     "name": "stdout",
     "output_type": "stream",
     "text": [
      "0\n",
      "1\n",
      "2\n",
      "3\n",
      "4\n",
      "5\n"
     ]
    }
   ],
   "source": [
    "for triangle in num_list: # 0 is not a triangle\n",
    "    \n",
    "    print(triangle)\n"
   ]
  },
  {
   "cell_type": "markdown",
   "metadata": {},
   "source": [
    "We can start to use for loops to do tasks with strings, as well."
   ]
  },
  {
   "cell_type": "code",
   "execution_count": null,
   "metadata": {},
   "outputs": [],
   "source": [
    "my_breakfast = ['eggs', 'cereal', 'oatmeal', 'toast'] \n",
    "\n",
    "for food in my_breakfast: # for each string in the list of string\n",
    "    \n",
    "    sentence = 'I like to eat ' + food + '.'\n",
    "    print(sentence)"
   ]
  },
  {
   "cell_type": "markdown",
   "metadata": {},
   "source": [
    "`for` loops can become quite powerful when you include conditionals that change behavior based on the item in the current iteration."
   ]
  },
  {
   "cell_type": "code",
   "execution_count": null,
   "metadata": {},
   "outputs": [],
   "source": [
    "for food in my_breakfast:\n",
    "    \n",
    "    if food == 'eggs': # if food is currently 'eggs'\n",
    "        \n",
    "        sentence = 'I do not like to eat ' + food + '.'\n",
    "    \n",
    "    else: # for all other values of food\n",
    "    \n",
    "        sentence = 'I like to eat ' + food + '.'\n",
    "        \n",
    "    print(sentence)"
   ]
  },
  {
   "cell_type": "markdown",
   "metadata": {},
   "source": [
    "#### Question 6: `for` loops -> Challenge\n",
    "\n",
    "Iterate over all integers from 0 to 1000 and print all multiples of 41 (numbers that can be divided by 41 with no remainder). How many multiples are there?\n",
    "\n",
    "Hint: use `%` to get a remainder: `5 % 2` will give you `1`. "
   ]
  },
  {
   "cell_type": "code",
   "execution_count": null,
   "metadata": {},
   "outputs": [],
   "source": [
    "### put your code below:\n"
   ]
  },
  {
   "cell_type": "markdown",
   "metadata": {},
   "source": [
    "## Resources\n",
    "\n",
    "- [Official Python documentation](https://www.python.org/doc/)\n",
    "- Take time with tutorials at [Kaggle.com](https://www.kaggle.com/learn)\n",
    "- [Brandeis LinkedIn Learning portal](https://www.brandeis.edu/its/support/linkedin-learning/index.html)\n",
    "- [Stack Overflow](https://stackoverflow.com/)\n",
    "- [Getting started with Pandas](https://pandas.pydata.org/docs/getting_started/index.html#getting-started)\n",
    "- [Pandas cheatsheet](https://pandas.pydata.org/Pandas_Cheat_Sheet.pdf)\n",
    "- Data Visualization: [Python Graph Gallery](https://www.python-graph-gallery.com/)\n",
    "- Other visualization libraries: [Seaborn](https://seaborn.pydata.org/tutorial.htmls), [Plotly](https://plotly.com/python/)\n",
    "- Install Python: [Anaconda](https://docs.anaconda.com/anaconda/install/)\n",
    "\n",
    "This lesson is adapted from \n",
    "<a href='http://swcarpentry.github.io/python-novice-gapminder/design/'>Software Carpentry.</a>"
   ]
  },
  {
   "cell_type": "markdown",
   "metadata": {},
   "source": [
    "## Contact\n",
    "Ford Fishman<br>\n",
    "Data Analysis Specialist for Science<br>\n",
    "Brandeis Library<br>\n",
    "[fordfishman@brandeis.edu](fordfishman@brandeis.edu)<br>\n",
    "[dataservices@brandeis.edu](dataservices@brandeis.edu)<br>\n",
    "[Set up an appointment](https://calendar.library.brandeis.edu/appointments/fordfishman)"
   ]
  }
 ],
 "metadata": {
  "kernelspec": {
   "display_name": "Python 3.9.12 ('workshop')",
   "language": "python",
   "name": "python3"
  },
  "language_info": {
   "codemirror_mode": {
    "name": "ipython",
    "version": 3
   },
   "file_extension": ".py",
   "mimetype": "text/x-python",
   "name": "python",
   "nbconvert_exporter": "python",
   "pygments_lexer": "ipython3",
   "version": "3.9.12"
  },
  "orig_nbformat": 4,
  "vscode": {
   "interpreter": {
    "hash": "5e5670abb08844f1af3bbc7bb9ef8e3b4ef400ad7b254432ac9e559b82ca9501"
   }
  }
 },
 "nbformat": 4,
 "nbformat_minor": 2
}
